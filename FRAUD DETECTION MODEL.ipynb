{
 "cells": [
  {
   "cell_type": "markdown",
   "metadata": {
    "id": "Qicu0GL9of0s"
   },
   "source": [
    "# \n",
    "\n",
    "```\n",
    "`# This is formatted as code`\n",
    "```\n",
    "\n",
    "**Online Fraud Transaction Prediction with XGBoost**\n",
    "\n",
    "\n",
    "\n",
    "PaySim simulates mobile money transactions based on a sample of real transactions extracted from one month of financial logs from a mobile money service implemented in an African country. The original logs were provided by a multinational company, who is the provider of the mobile financial service which is currently running in more than 14 countries all around the world.\n",
    "\n",
    "This synthetic dataset is scaled down 1/4 of the original dataset and it is created just for Kaggle.\n",
    "\n",
    "![](https://miro.medium.com/max/768/1*9LjCJPuRo52sPNxkvTX_WA.jpeg)\n",
    "\n",
    "1.   List item\n",
    "2.   List item\n",
    "\n",
    "\n"
   ]
  },
  {
   "cell_type": "markdown",
   "metadata": {
    "id": "oOCam1zqqm_T"
   },
   "source": [
    "This is a sample of 1 row with headers explanation:\n",
    "\n",
    "1,PAYMENT,1060.31,C429214117,1089.0,28.69,M1591654462,0.0,0.0,0,0\n",
    "\n",
    "**step** - maps a unit of time in the real world. In this case 1 step is 1 hour of time. Total steps 744 (30 days simulation).\n",
    "\n",
    "**type** - CASH-IN, CASH-OUT, DEBIT, PAYMENT and TRANSFER.\n",
    "\n",
    "**amount** -amount of the transaction in local currency.\n",
    "\n",
    "**nameOrig** - customer who started the transaction\n",
    "\n",
    "oldbalanceOrg** - initial balance before the transaction\n",
    "\n",
    "**newbalanceOrig** - new balance after the transaction\n",
    "\n",
    "**nameDest** - customer who is the recipient of the transaction\n",
    "\n",
    "**oldbalanceDest** - initial balance recipient before the transaction. Note that there is not information for customers that start with M (Merchants).\n",
    "\n",
    "**newbalanceDest** - new balance recipient after the transaction. Note that there is not information for customers that start with M (Merchants).\n",
    "\n",
    "**isFraud** - This is the transactions made by the fraudulent agents inside the simulation. In this specific dataset the fraudulent behavior of the agents aims to profit by taking control or customers accounts and try to empty the funds by transferring to another account and then cashing out of the system.\n",
    "\n",
    "**isFlaggedFraud** - The business model aims to control massive transfers from one account to another and flags illegal attempts. An illegal attempt in this dataset is an attempt to transfer more than 200.000 in a single transaction."
   ]
  },
  {
   "cell_type": "code",
   "execution_count": 1,
   "metadata": {
    "executionInfo": {
     "elapsed": 22642,
     "status": "ok",
     "timestamp": 1630391675454,
     "user": {
      "displayName": "Lavkush Gupta",
      "photoUrl": "https://lh3.googleusercontent.com/a-/AOh14GhXBbqE1GucghkOOxurab_4g5akj7qOnO4F869XNw=s64",
      "userId": "13236722463613958999"
     },
     "user_tz": -330
    },
    "id": "_tWp5UWlyp4X"
   },
   "outputs": [
    {
     "ename": "ModuleNotFoundError",
     "evalue": "No module named 'google.colab'",
     "output_type": "error",
     "traceback": [
      "\u001b[1;31m---------------------------------------------------------------------------\u001b[0m",
      "\u001b[1;31mModuleNotFoundError\u001b[0m                       Traceback (most recent call last)",
      "Cell \u001b[1;32mIn[1], line 4\u001b[0m\n\u001b[0;32m      2\u001b[0m \u001b[38;5;28;01mfrom\u001b[39;00m \u001b[38;5;21;01mpydrive\u001b[39;00m\u001b[38;5;21;01m.\u001b[39;00m\u001b[38;5;21;01mauth\u001b[39;00m \u001b[38;5;28;01mimport\u001b[39;00m GoogleAuth\n\u001b[0;32m      3\u001b[0m \u001b[38;5;28;01mfrom\u001b[39;00m \u001b[38;5;21;01mpydrive\u001b[39;00m\u001b[38;5;21;01m.\u001b[39;00m\u001b[38;5;21;01mdrive\u001b[39;00m \u001b[38;5;28;01mimport\u001b[39;00m GoogleDrive\n\u001b[1;32m----> 4\u001b[0m \u001b[38;5;28;01mfrom\u001b[39;00m \u001b[38;5;21;01mgoogle\u001b[39;00m\u001b[38;5;21;01m.\u001b[39;00m\u001b[38;5;21;01mcolab\u001b[39;00m \u001b[38;5;28;01mimport\u001b[39;00m auth\n\u001b[0;32m      5\u001b[0m \u001b[38;5;28;01mfrom\u001b[39;00m \u001b[38;5;21;01moauth2client\u001b[39;00m\u001b[38;5;21;01m.\u001b[39;00m\u001b[38;5;21;01mclient\u001b[39;00m \u001b[38;5;28;01mimport\u001b[39;00m GoogleCredentials\n\u001b[0;32m      6\u001b[0m \u001b[38;5;66;03m# Authenticate and create the PyDrive client.\u001b[39;00m\n",
      "\u001b[1;31mModuleNotFoundError\u001b[0m: No module named 'google.colab'"
     ]
    }
   ],
   "source": [
    "#Library required to Download datasets from shared google drive link\n",
    "from pydrive.auth import GoogleAuth\n",
    "from pydrive.drive import GoogleDrive\n",
    "from google.colab import auth\n",
    "from oauth2client.client import GoogleCredentials\n",
    "# Authenticate and create the PyDrive client.\n",
    "auth.authenticate_user()\n",
    "gauth = GoogleAuth()\n",
    "gauth.credentials = GoogleCredentials.get_application_default()\n",
    "drive = GoogleDrive(gauth)"
   ]
  },
  {
   "cell_type": "code",
   "execution_count": 2,
   "metadata": {},
   "outputs": [
    {
     "name": "stdout",
     "output_type": "stream",
     "text": [
      "Note: you may need to restart the kernel to use updated packages.Collecting google.colab\n",
      "  Downloading google-colab-1.0.0.tar.gz (72 kB)\n",
      "     ---------------------------------------- 0.0/72.9 kB ? eta -:--:--\n",
      "     ---------------- ----------------------- 30.7/72.9 kB 1.3 MB/s eta 0:00:01\n",
      "     -------------------------------------- 72.9/72.9 kB 994.3 kB/s eta 0:00:00\n",
      "  Preparing metadata (setup.py): started\n",
      "  Preparing metadata (setup.py): finished with status 'done'\n",
      "Collecting google-auth~=1.4.0 (from google.colab)\n",
      "  Downloading google_auth-1.4.2-py2.py3-none-any.whl.metadata (3.0 kB)\n",
      "Collecting ipykernel~=4.6.0 (from google.colab)\n",
      "  Downloading ipykernel-4.6.1-py3-none-any.whl.metadata (981 bytes)\n",
      "Collecting ipython~=5.5.0 (from google.colab)\n",
      "  Downloading ipython-5.5.0-py3-none-any.whl.metadata (4.3 kB)\n",
      "Collecting notebook~=5.2.0 (from google.colab)\n",
      "  Downloading notebook-5.2.2-py2.py3-none-any.whl.metadata (1.8 kB)\n",
      "Requirement already satisfied: six~=1.12.0 in c:\\users\\heyda\\appdata\\local\\programs\\python\\python311\\lib\\site-packages (from google.colab) (1.12.0)\n",
      "Collecting pandas~=0.24.0 (from google.colab)\n",
      "  Downloading pandas-0.24.2.tar.gz (11.8 MB)\n",
      "     ---------------------------------------- 0.0/11.8 MB ? eta -:--:--\n",
      "     ---------------------------------------- 0.1/11.8 MB 2.2 MB/s eta 0:00:06\n",
      "     - -------------------------------------- 0.3/11.8 MB 4.1 MB/s eta 0:00:03\n",
      "     -- ------------------------------------- 0.7/11.8 MB 4.6 MB/s eta 0:00:03\n",
      "     --- ------------------------------------ 1.0/11.8 MB 5.8 MB/s eta 0:00:02\n",
      "     ----- ---------------------------------- 1.6/11.8 MB 7.5 MB/s eta 0:00:02\n",
      "     -------- ------------------------------- 2.4/11.8 MB 8.9 MB/s eta 0:00:02\n",
      "     ---------- ----------------------------- 3.2/11.8 MB 9.6 MB/s eta 0:00:01\n",
      "     ------------- -------------------------- 4.1/11.8 MB 11.4 MB/s eta 0:00:01\n",
      "     ----------------- ---------------------- 5.1/11.8 MB 12.6 MB/s eta 0:00:01\n",
      "     -------------------- ------------------- 6.1/11.8 MB 13.0 MB/s eta 0:00:01\n",
      "     ------------------------ --------------- 7.4/11.8 MB 14.7 MB/s eta 0:00:01\n",
      "     ---------------------------- ----------- 8.5/11.8 MB 15.4 MB/s eta 0:00:01\n",
      "     -------------------------------- ------- 9.6/11.8 MB 16.2 MB/s eta 0:00:01\n",
      "     ---------------------------------- ---- 10.3/11.8 MB 17.2 MB/s eta 0:00:01\n",
      "     ------------------------------------ -- 11.1/11.8 MB 19.3 MB/s eta 0:00:01\n",
      "     --------------------------------------  11.8/11.8 MB 20.5 MB/s eta 0:00:01\n",
      "     --------------------------------------- 11.8/11.8 MB 19.8 MB/s eta 0:00:00\n",
      "  Preparing metadata (setup.py): started\n",
      "  Preparing metadata (setup.py): finished with status 'done'\n",
      "Collecting portpicker~=1.2.0 (from google.colab)\n",
      "  Downloading portpicker-1.2.0.tar.gz (17 kB)\n",
      "  Preparing metadata (setup.py): started\n",
      "  Preparing metadata (setup.py): finished with status 'done'\n",
      "Collecting requests~=2.21.0 (from google.colab)\n",
      "  Downloading requests-2.21.0-py2.py3-none-any.whl.metadata (5.5 kB)\n",
      "Collecting tornado~=4.5.0 (from google.colab)\n",
      "  Downloading tornado-4.5.3.tar.gz (484 kB)\n",
      "     ---------------------------------------- 0.0/484.2 kB ? eta -:--:--\n",
      "     ------------------------------------- 484.2/484.2 kB 29.6 MB/s eta 0:00:00\n",
      "  Preparing metadata (setup.py): started\n",
      "  Preparing metadata (setup.py): finished with status 'done'\n",
      "Requirement already satisfied: pyasn1-modules>=0.2.1 in c:\\users\\heyda\\appdata\\local\\programs\\python\\python311\\lib\\site-packages (from google-auth~=1.4.0->google.colab) (0.2.8)\n",
      "Requirement already satisfied: rsa>=3.1.4 in c:\\users\\heyda\\appdata\\local\\programs\\python\\python311\\lib\\site-packages (from google-auth~=1.4.0->google.colab) (4.9)\n",
      "Requirement already satisfied: cachetools>=2.0.0 in c:\\users\\heyda\\appdata\\local\\programs\\python\\python311\\lib\\site-packages (from google-auth~=1.4.0->google.colab) (5.3.0)\n",
      "Requirement already satisfied: jupyter-client in c:\\users\\heyda\\appdata\\local\\programs\\python\\python311\\lib\\site-packages (from ipykernel~=4.6.0->google.colab) (8.1.0)\n",
      "Requirement already satisfied: traitlets>=4.1.0 in c:\\users\\heyda\\appdata\\local\\programs\\python\\python311\\lib\\site-packages (from ipykernel~=4.6.0->google.colab) (5.9.0)\n",
      "Requirement already satisfied: decorator in c:\\users\\heyda\\appdata\\local\\programs\\python\\python311\\lib\\site-packages (from ipython~=5.5.0->google.colab) (4.4.2)\n",
      "Requirement already satisfied: pickleshare in c:\\users\\heyda\\appdata\\local\\programs\\python\\python311\\lib\\site-packages (from ipython~=5.5.0->google.colab) (0.7.5)\n",
      "Collecting prompt-toolkit<2.0.0,>=1.0.4 (from ipython~=5.5.0->google.colab)\n",
      "  Downloading prompt_toolkit-1.0.18-py3-none-any.whl.metadata (7.9 kB)\n",
      "Requirement already satisfied: pygments in c:\\users\\heyda\\appdata\\local\\programs\\python\\python311\\lib\\site-packages (from ipython~=5.5.0->google.colab) (2.14.0)\n",
      "Requirement already satisfied: setuptools>=18.5 in c:\\users\\heyda\\appdata\\local\\programs\\python\\python311\\lib\\site-packages (from ipython~=5.5.0->google.colab) (65.5.0)\n",
      "Collecting simplegeneric>0.8 (from ipython~=5.5.0->google.colab)\n",
      "  Downloading simplegeneric-0.8.1.zip (12 kB)\n",
      "  Preparing metadata (setup.py): started\n",
      "  Preparing metadata (setup.py): finished with status 'done'\n",
      "Requirement already satisfied: colorama in c:\\users\\heyda\\appdata\\local\\programs\\python\\python311\\lib\\site-packages (from ipython~=5.5.0->google.colab) (0.4.6)\n",
      "Requirement already satisfied: ipython-genutils in c:\\users\\heyda\\appdata\\local\\programs\\python\\python311\\lib\\site-packages (from notebook~=5.2.0->google.colab) (0.2.0)\n",
      "Requirement already satisfied: jinja2 in c:\\users\\heyda\\appdata\\local\\programs\\python\\python311\\lib\\site-packages (from notebook~=5.2.0->google.colab) (3.1.2)\n",
      "Requirement already satisfied: jupyter-core in c:\\users\\heyda\\appdata\\local\\programs\\python\\python311\\lib\\site-packages (from notebook~=5.2.0->google.colab) (5.3.0)\n",
      "Requirement already satisfied: nbconvert in c:\\users\\heyda\\appdata\\local\\programs\\python\\python311\\lib\\site-packages (from notebook~=5.2.0->google.colab) (7.2.10)\n",
      "Requirement already satisfied: nbformat in c:\\users\\heyda\\appdata\\local\\programs\\python\\python311\\lib\\site-packages (from notebook~=5.2.0->google.colab) (5.8.0)\n",
      "Requirement already satisfied: python-dateutil>=2.5.0 in c:\\users\\heyda\\appdata\\local\\programs\\python\\python311\\lib\\site-packages (from pandas~=0.24.0->google.colab) (2.8.2)\n",
      "Requirement already satisfied: pytz>=2011k in c:\\users\\heyda\\appdata\\local\\programs\\python\\python311\\lib\\site-packages (from pandas~=0.24.0->google.colab) (2023.2)\n",
      "Requirement already satisfied: numpy>=1.12.0 in c:\\users\\heyda\\appdata\\local\\programs\\python\\python311\\lib\\site-packages (from pandas~=0.24.0->google.colab) (1.23.5)\n",
      "Requirement already satisfied: chardet<3.1.0,>=3.0.2 in c:\\users\\heyda\\appdata\\local\\programs\\python\\python311\\lib\\site-packages (from requests~=2.21.0->google.colab) (3.0.4)\n",
      "Collecting idna<2.9,>=2.5 (from requests~=2.21.0->google.colab)\n",
      "  Downloading idna-2.8-py2.py3-none-any.whl.metadata (8.9 kB)\n",
      "Collecting urllib3<1.25,>=1.21.1 (from requests~=2.21.0->google.colab)\n",
      "  Downloading urllib3-1.24.3-py2.py3-none-any.whl.metadata (36 kB)\n",
      "Requirement already satisfied: certifi>=2017.4.17 in c:\\users\\heyda\\appdata\\local\\programs\\python\\python311\\lib\\site-packages (from requests~=2.21.0->google.colab) (2022.12.7)\n",
      "Requirement already satisfied: wcwidth in c:\\users\\heyda\\appdata\\local\\programs\\python\\python311\\lib\\site-packages (from prompt-toolkit<2.0.0,>=1.0.4->ipython~=5.5.0->google.colab) (0.2.6)\n",
      "Requirement already satisfied: pyasn1<0.5.0,>=0.4.6 in c:\\users\\heyda\\appdata\\local\\programs\\python\\python311\\lib\\site-packages (from pyasn1-modules>=0.2.1->google-auth~=1.4.0->google.colab) (0.4.8)\n",
      "Requirement already satisfied: MarkupSafe>=2.0 in c:\\users\\heyda\\appdata\\local\\programs\\python\\python311\\lib\\site-packages (from jinja2->notebook~=5.2.0->google.colab) (2.1.2)\n",
      "Requirement already satisfied: pyzmq>=23.0 in c:\\users\\heyda\\appdata\\local\\programs\\python\\python311\\lib\\site-packages (from jupyter-client->ipykernel~=4.6.0->google.colab) (25.0.2)\n",
      "INFO: pip is looking at multiple versions of jupyter-client to determine which version is compatible with other requirements. This could take a while.\n",
      "Collecting jupyter-client (from ipykernel~=4.6.0->google.colab)\n",
      "  Downloading jupyter_client-8.6.1-py3-none-any.whl.metadata (8.3 kB)\n",
      "  Downloading jupyter_client-8.6.0-py3-none-any.whl.metadata (8.3 kB)\n",
      "  Downloading jupyter_client-8.4.0-py3-none-any.whl.metadata (8.3 kB)\n",
      "  Downloading jupyter_client-8.3.1-py3-none-any.whl.metadata (8.5 kB)\n",
      "  Downloading jupyter_client-8.3.0-py3-none-any.whl.metadata (8.5 kB)\n",
      "  Downloading jupyter_client-8.2.0-py3-none-any.whl.metadata (8.5 kB)\n",
      "  Downloading jupyter_client-8.0.3-py3-none-any.whl.metadata (8.6 kB)\n",
      "INFO: pip is still looking at multiple versions of jupyter-client to determine which version is compatible with other requirements. This could take a while.\n",
      "  Downloading jupyter_client-8.0.2-py3-none-any.whl.metadata (8.9 kB)\n",
      "  Downloading jupyter_client-8.0.1-py3-none-any.whl.metadata (8.9 kB)\n",
      "  Downloading jupyter_client-8.0.0-py3-none-any.whl.metadata (8.9 kB)\n",
      "  Downloading jupyter_client-7.4.9-py3-none-any.whl.metadata (8.5 kB)\n",
      "Collecting entrypoints (from jupyter-client->ipykernel~=4.6.0->google.colab)\n",
      "  Downloading entrypoints-0.4-py3-none-any.whl.metadata (2.6 kB)\n",
      "Requirement already satisfied: nest-asyncio>=1.5.4 in c:\\users\\heyda\\appdata\\local\\programs\\python\\python311\\lib\\site-packages (from jupyter-client->ipykernel~=4.6.0->google.colab) (1.5.6)\n",
      "Collecting jupyter-client (from ipykernel~=4.6.0->google.colab)\n",
      "  Downloading jupyter_client-7.4.8-py3-none-any.whl.metadata (8.5 kB)\n",
      "INFO: This is taking longer than usual. You might need to provide the dependency resolver with stricter constraints to reduce runtime. See https://pip.pypa.io/warnings/backtracking for guidance. If you want to abort this run, press Ctrl + C.\n",
      "  Downloading jupyter_client-7.4.7-py3-none-any.whl.metadata (8.5 kB)\n",
      "  Downloading jupyter_client-7.4.6-py3-none-any.whl.metadata (8.5 kB)\n",
      "  Downloading jupyter_client-7.4.5-py3-none-any.whl.metadata (8.5 kB)\n",
      "  Downloading jupyter_client-7.4.4-py3-none-any.whl.metadata (8.5 kB)\n",
      "  Downloading jupyter_client-7.4.3-py3-none-any.whl.metadata (8.5 kB)\n",
      "  Downloading jupyter_client-7.4.2-py3-none-any.whl.metadata (8.5 kB)\n",
      "  Downloading jupyter_client-7.4.1-py3-none-any.whl.metadata (8.5 kB)\n",
      "  Downloading jupyter_client-7.4.0-py3-none-any.whl.metadata (8.5 kB)\n",
      "  Downloading jupyter_client-7.3.5-py3-none-any.whl.metadata (8.5 kB)\n",
      "  Downloading jupyter_client-7.3.4-py3-none-any.whl.metadata (8.5 kB)\n",
      "  Downloading jupyter_client-7.3.3-py3-none-any.whl.metadata (8.5 kB)\n",
      "  Downloading jupyter_client-7.3.2-py3-none-any.whl.metadata (8.5 kB)\n",
      "  Downloading jupyter_client-7.3.1-py3-none-any.whl.metadata (5.5 kB)\n",
      "  Downloading jupyter_client-7.3.0-py3-none-any.whl.metadata (5.5 kB)\n",
      "  Downloading jupyter_client-7.2.2-py3-none-any.whl.metadata (5.4 kB)\n",
      "  Downloading jupyter_client-7.2.1-py3-none-any.whl.metadata (5.4 kB)\n",
      "  Downloading jupyter_client-7.2.0-py3-none-any.whl.metadata (5.4 kB)\n",
      "  Downloading jupyter_client-7.1.2-py3-none-any.whl.metadata (5.4 kB)\n",
      "Requirement already satisfied: platformdirs>=2.5 in c:\\users\\heyda\\appdata\\local\\programs\\python\\python311\\lib\\site-packages (from jupyter-core->notebook~=5.2.0->google.colab) (4.2.0)\n",
      "Requirement already satisfied: pywin32>=300 in c:\\users\\heyda\\appdata\\local\\programs\\python\\python311\\lib\\site-packages (from jupyter-core->notebook~=5.2.0->google.colab) (306)\n",
      "Requirement already satisfied: beautifulsoup4 in c:\\users\\heyda\\appdata\\local\\programs\\python\\python311\\lib\\site-packages (from nbconvert->notebook~=5.2.0->google.colab) (4.8.2)\n",
      "Requirement already satisfied: bleach in c:\\users\\heyda\\appdata\\local\\programs\\python\\python311\\lib\\site-packages (from nbconvert->notebook~=5.2.0->google.colab) (6.0.0)\n",
      "Requirement already satisfied: defusedxml in c:\\users\\heyda\\appdata\\local\\programs\\python\\python311\\lib\\site-packages (from nbconvert->notebook~=5.2.0->google.colab) (0.7.1)\n",
      "Requirement already satisfied: jupyterlab-pygments in c:\\users\\heyda\\appdata\\local\\programs\\python\\python311\\lib\\site-packages (from nbconvert->notebook~=5.2.0->google.colab) (0.2.2)\n",
      "Requirement already satisfied: mistune<3,>=2.0.3 in c:\\users\\heyda\\appdata\\local\\programs\\python\\python311\\lib\\site-packages (from nbconvert->notebook~=5.2.0->google.colab) (2.0.5)\n",
      "Requirement already satisfied: nbclient>=0.5.0 in c:\\users\\heyda\\appdata\\local\\programs\\python\\python311\\lib\\site-packages (from nbconvert->notebook~=5.2.0->google.colab) (0.7.2)\n",
      "Requirement already satisfied: packaging in c:\\users\\heyda\\appdata\\local\\programs\\python\\python311\\lib\\site-packages (from nbconvert->notebook~=5.2.0->google.colab) (23.2)\n",
      "Requirement already satisfied: pandocfilters>=1.4.1 in c:\\users\\heyda\\appdata\\local\\programs\\python\\python311\\lib\\site-packages (from nbconvert->notebook~=5.2.0->google.colab) (1.5.0)\n",
      "Requirement already satisfied: tinycss2 in c:\\users\\heyda\\appdata\\local\\programs\\python\\python311\\lib\\site-packages (from nbconvert->notebook~=5.2.0->google.colab) (1.2.1)\n",
      "Requirement already satisfied: fastjsonschema in c:\\users\\heyda\\appdata\\local\\programs\\python\\python311\\lib\\site-packages (from nbformat->notebook~=5.2.0->google.colab) (2.19.1)\n",
      "Requirement already satisfied: jsonschema>=2.6 in c:\\users\\heyda\\appdata\\local\\programs\\python\\python311\\lib\\site-packages (from nbformat->notebook~=5.2.0->google.colab) (4.17.3)\n",
      "Requirement already satisfied: attrs>=17.4.0 in c:\\users\\heyda\\appdata\\local\\programs\\python\\python311\\lib\\site-packages (from jsonschema>=2.6->nbformat->notebook~=5.2.0->google.colab) (22.2.0)\n",
      "Requirement already satisfied: pyrsistent!=0.17.0,!=0.17.1,!=0.17.2,>=0.14.0 in c:\\users\\heyda\\appdata\\local\\programs\\python\\python311\\lib\\site-packages (from jsonschema>=2.6->nbformat->notebook~=5.2.0->google.colab) (0.19.3)\n",
      "Requirement already satisfied: soupsieve>=1.2 in c:\\users\\heyda\\appdata\\local\\programs\\python\\python311\\lib\\site-packages (from beautifulsoup4->nbconvert->notebook~=5.2.0->google.colab) (2.4)\n",
      "Requirement already satisfied: webencodings in c:\\users\\heyda\\appdata\\local\\programs\\python\\python311\\lib\\site-packages (from bleach->nbconvert->notebook~=5.2.0->google.colab) (0.5.1)\n",
      "Downloading google_auth-1.4.2-py2.py3-none-any.whl (64 kB)\n",
      "   ---------------------------------------- 0.0/64.2 kB ? eta -:--:--\n",
      "   ---------------------------------------- 64.2/64.2 kB 3.6 MB/s eta 0:00:00\n",
      "Downloading ipykernel-4.6.1-py3-none-any.whl (104 kB)\n",
      "   ---------------------------------------- 0.0/104.5 kB ? eta -:--:--\n",
      "   ---------------------------------------- 104.5/104.5 kB 6.3 MB/s eta 0:00:00\n",
      "Downloading ipython-5.5.0-py3-none-any.whl (758 kB)\n",
      "   ---------------------------------------- 0.0/758.9 kB ? eta -:--:--\n",
      "   --------------------------------------  757.8/758.9 kB 24.1 MB/s eta 0:00:01\n",
      "   --------------------------------------- 758.9/758.9 kB 15.9 MB/s eta 0:00:00\n",
      "Downloading notebook-5.2.2-py2.py3-none-any.whl (8.0 MB)\n",
      "   ---------------------------------------- 0.0/8.0 MB ? eta -:--:--\n",
      "   --- ------------------------------------ 0.7/8.0 MB 44.8 MB/s eta 0:00:01\n",
      "   -------- ------------------------------- 1.7/8.0 MB 27.1 MB/s eta 0:00:01\n",
      "   ------------ --------------------------- 2.6/8.0 MB 23.6 MB/s eta 0:00:01\n",
      "   ----------------- ---------------------- 3.5/8.0 MB 22.3 MB/s eta 0:00:01\n",
      "   --------------------- ------------------ 4.4/8.0 MB 21.5 MB/s eta 0:00:01\n",
      "   --------------------------- ------------ 5.5/8.0 MB 21.9 MB/s eta 0:00:01\n",
      "   -------------------------------- ------- 6.5/8.0 MB 21.9 MB/s eta 0:00:01\n",
      "   ------------------------------------- -- 7.5/8.0 MB 21.9 MB/s eta 0:00:01\n",
      "   ---------------------------------------- 8.0/8.0 MB 20.5 MB/s eta 0:00:00\n",
      "Downloading requests-2.21.0-py2.py3-none-any.whl (57 kB)\n",
      "   ---------------------------------------- 0.0/58.0 kB ? eta -:--:--\n",
      "   ---------------------------------------- 58.0/58.0 kB ? eta 0:00:00\n",
      "Downloading idna-2.8-py2.py3-none-any.whl (58 kB)\n",
      "   ---------------------------------------- 0.0/58.6 kB ? eta -:--:--\n",
      "   ---------------------------------------- 58.6/58.6 kB ? eta 0:00:00\n",
      "Downloading prompt_toolkit-1.0.18-py3-none-any.whl (245 kB)\n",
      "   ---------------------------------------- 0.0/245.4 kB ? eta -:--:--\n",
      "   --------------------------------------- 245.4/245.4 kB 14.7 MB/s eta 0:00:00\n",
      "Downloading urllib3-1.24.3-py2.py3-none-any.whl (118 kB)\n",
      "   ---------------------------------------- 0.0/118.8 kB ? eta -:--:--\n",
      "   ---------------------------------------- 118.8/118.8 kB ? eta 0:00:00\n",
      "Downloading jupyter_client-7.1.2-py3-none-any.whl (130 kB)\n",
      "   ---------------------------------------- 0.0/130.3 kB ? eta -:--:--\n",
      "   ---------------------------------------- 130.3/130.3 kB 7.5 MB/s eta 0:00:00\n",
      "Downloading entrypoints-0.4-py3-none-any.whl (5.3 kB)\n",
      "Building wheels for collected packages: google.colab, pandas, portpicker, tornado, simplegeneric\n",
      "  Building wheel for google.colab (setup.py): started\n",
      "  Building wheel for google.colab (setup.py): finished with status 'done'\n",
      "  Created wheel for google.colab: filename=google_colab-1.0.0-py2.py3-none-any.whl size=102292 sha256=4f9c1ca208a94b3db134d65bfa2b9f409f5843f14606c9671db7b46708702d6b\n",
      "  Stored in directory: c:\\users\\heyda\\appdata\\local\\pip\\cache\\wheels\\73\\b6\\ca\\dc4e9a4b5a1658d43626182e7f6b0af210feb04d2ac8aeb14d\n",
      "  Building wheel for pandas (setup.py): started\n",
      "  Building wheel for pandas (setup.py): finished with status 'error'\n",
      "  Running setup.py clean for pandas\n",
      "  Building wheel for portpicker (setup.py): started\n",
      "  Building wheel for portpicker (setup.py): finished with status 'done'\n",
      "  Created wheel for portpicker: filename=portpicker-1.2.0-py3-none-any.whl size=13423 sha256=16396e827a19004dfa13a2e0765c72cfe344dbe235f79a7aa0fe63ae29b871a5\n",
      "  Stored in directory: c:\\users\\heyda\\appdata\\local\\pip\\cache\\wheels\\98\\c0\\67\\be0facce6485285ceb31a4449ae7f9a2d8918b0aaf1e4f5fac\n",
      "  Building wheel for tornado (setup.py): started\n",
      "  Building wheel for tornado (setup.py): finished with status 'done'\n",
      "  Created wheel for tornado: filename=tornado-4.5.3-cp311-cp311-win_amd64.whl size=425777 sha256=1f0a56595cd22eb500e61b6e4e716914b839a7169064617fffe7ca9bcedd5482\n",
      "  Stored in directory: c:\\users\\heyda\\appdata\\local\\pip\\cache\\wheels\\ac\\df\\24\\dbe05cad6bf0ca2e20a2df87bed87894d18df01cda94a1c7fa\n",
      "  Building wheel for simplegeneric (setup.py): started\n",
      "  Building wheel for simplegeneric (setup.py): finished with status 'done'\n",
      "  Created wheel for simplegeneric: filename=simplegeneric-0.8.1-py3-none-any.whl size=5098 sha256=88badf0bafc42ed5c595ecd707102971c0b2df5cc44a55eee7d974146dec7da0\n",
      "  Stored in directory: c:\\users\\heyda\\appdata\\local\\pip\\cache\\wheels\\d6\\d1\\55\\e647165561cca0c555173da3a4849e66af35eafe90848d581d\n",
      "Successfully built google.colab portpicker tornado simplegeneric\n",
      "Failed to build pandas\n",
      "\n"
     ]
    },
    {
     "name": "stderr",
     "output_type": "stream",
     "text": [
      "WARNING: Skipping c:\\Users\\heyda\\AppData\\Local\\Programs\\Python\\Python311\\Lib\\site-packages\\keras-2.12.0.dist-info due to invalid metadata entry 'name'\n",
      "WARNING: Skipping c:\\Users\\heyda\\AppData\\Local\\Programs\\Python\\Python311\\Lib\\site-packages\\keras-2.12.0.dist-info due to invalid metadata entry 'name'\n",
      "  error: subprocess-exited-with-error\n",
      "  \n",
      "  × python setup.py bdist_wheel did not run successfully.\n",
      "  │ exit code: 1\n",
      "  ╰─> [848 lines of output]\n",
      "      running bdist_wheel\n",
      "      running build\n",
      "      running build_py\n",
      "      creating build\n",
      "      creating build\\lib.win-amd64-cpython-311\n",
      "      creating build\\lib.win-amd64-cpython-311\\pandas\n",
      "      copying pandas\\conftest.py -> build\\lib.win-amd64-cpython-311\\pandas\n",
      "      copying pandas\\testing.py -> build\\lib.win-amd64-cpython-311\\pandas\n",
      "      copying pandas\\_version.py -> build\\lib.win-amd64-cpython-311\\pandas\n",
      "      copying pandas\\__init__.py -> build\\lib.win-amd64-cpython-311\\pandas\n",
      "      creating build\\lib.win-amd64-cpython-311\\pandas\\api\n",
      "      copying pandas\\api\\__init__.py -> build\\lib.win-amd64-cpython-311\\pandas\\api\n",
      "      creating build\\lib.win-amd64-cpython-311\\pandas\\arrays\n",
      "      copying pandas\\arrays\\__init__.py -> build\\lib.win-amd64-cpython-311\\pandas\\arrays\n",
      "      creating build\\lib.win-amd64-cpython-311\\pandas\\compat\n",
      "      copying pandas\\compat\\chainmap.py -> build\\lib.win-amd64-cpython-311\\pandas\\compat\n",
      "      copying pandas\\compat\\chainmap_impl.py -> build\\lib.win-amd64-cpython-311\\pandas\\compat\n",
      "      copying pandas\\compat\\pickle_compat.py -> build\\lib.win-amd64-cpython-311\\pandas\\compat\n",
      "      copying pandas\\compat\\__init__.py -> build\\lib.win-amd64-cpython-311\\pandas\\compat\n",
      "      creating build\\lib.win-amd64-cpython-311\\pandas\\core\n",
      "      copying pandas\\core\\accessor.py -> build\\lib.win-amd64-cpython-311\\pandas\\core\n",
      "      copying pandas\\core\\algorithms.py -> build\\lib.win-amd64-cpython-311\\pandas\\core\n",
      "      copying pandas\\core\\api.py -> build\\lib.win-amd64-cpython-311\\pandas\\core\n",
      "      copying pandas\\core\\apply.py -> build\\lib.win-amd64-cpython-311\\pandas\\core\n",
      "      copying pandas\\core\\base.py -> build\\lib.win-amd64-cpython-311\\pandas\\core\n",
      "      copying pandas\\core\\categorical.py -> build\\lib.win-amd64-cpython-311\\pandas\\core\n",
      "      copying pandas\\core\\common.py -> build\\lib.win-amd64-cpython-311\\pandas\\core\n",
      "      copying pandas\\core\\config.py -> build\\lib.win-amd64-cpython-311\\pandas\\core\n",
      "      copying pandas\\core\\config_init.py -> build\\lib.win-amd64-cpython-311\\pandas\\core\n",
      "      copying pandas\\core\\frame.py -> build\\lib.win-amd64-cpython-311\\pandas\\core\n",
      "      copying pandas\\core\\generic.py -> build\\lib.win-amd64-cpython-311\\pandas\\core\n",
      "      copying pandas\\core\\index.py -> build\\lib.win-amd64-cpython-311\\pandas\\core\n",
      "      copying pandas\\core\\indexing.py -> build\\lib.win-amd64-cpython-311\\pandas\\core\n",
      "      copying pandas\\core\\missing.py -> build\\lib.win-amd64-cpython-311\\pandas\\core\n",
      "      copying pandas\\core\\nanops.py -> build\\lib.win-amd64-cpython-311\\pandas\\core\n",
      "      copying pandas\\core\\ops.py -> build\\lib.win-amd64-cpython-311\\pandas\\core\n",
      "      copying pandas\\core\\panel.py -> build\\lib.win-amd64-cpython-311\\pandas\\core\n",
      "      copying pandas\\core\\resample.py -> build\\lib.win-amd64-cpython-311\\pandas\\core\n",
      "      copying pandas\\core\\series.py -> build\\lib.win-amd64-cpython-311\\pandas\\core\n",
      "      copying pandas\\core\\sorting.py -> build\\lib.win-amd64-cpython-311\\pandas\\core\n",
      "      copying pandas\\core\\strings.py -> build\\lib.win-amd64-cpython-311\\pandas\\core\n",
      "      copying pandas\\core\\window.py -> build\\lib.win-amd64-cpython-311\\pandas\\core\n",
      "      copying pandas\\core\\__init__.py -> build\\lib.win-amd64-cpython-311\\pandas\\core\n",
      "      creating build\\lib.win-amd64-cpython-311\\pandas\\errors\n",
      "      copying pandas\\errors\\__init__.py -> build\\lib.win-amd64-cpython-311\\pandas\\errors\n",
      "      creating build\\lib.win-amd64-cpython-311\\pandas\\io\n",
      "      copying pandas\\io\\api.py -> build\\lib.win-amd64-cpython-311\\pandas\\io\n",
      "      copying pandas\\io\\clipboards.py -> build\\lib.win-amd64-cpython-311\\pandas\\io\n",
      "      copying pandas\\io\\common.py -> build\\lib.win-amd64-cpython-311\\pandas\\io\n",
      "      copying pandas\\io\\date_converters.py -> build\\lib.win-amd64-cpython-311\\pandas\\io\n",
      "      copying pandas\\io\\excel.py -> build\\lib.win-amd64-cpython-311\\pandas\\io\n",
      "      copying pandas\\io\\feather_format.py -> build\\lib.win-amd64-cpython-311\\pandas\\io\n",
      "      copying pandas\\io\\gbq.py -> build\\lib.win-amd64-cpython-311\\pandas\\io\n",
      "      copying pandas\\io\\gcs.py -> build\\lib.win-amd64-cpython-311\\pandas\\io\n",
      "      copying pandas\\io\\html.py -> build\\lib.win-amd64-cpython-311\\pandas\\io\n",
      "      copying pandas\\io\\packers.py -> build\\lib.win-amd64-cpython-311\\pandas\\io\n",
      "      copying pandas\\io\\parquet.py -> build\\lib.win-amd64-cpython-311\\pandas\\io\n",
      "      copying pandas\\io\\parsers.py -> build\\lib.win-amd64-cpython-311\\pandas\\io\n",
      "      copying pandas\\io\\pickle.py -> build\\lib.win-amd64-cpython-311\\pandas\\io\n",
      "      copying pandas\\io\\pytables.py -> build\\lib.win-amd64-cpython-311\\pandas\\io\n",
      "      copying pandas\\io\\s3.py -> build\\lib.win-amd64-cpython-311\\pandas\\io\n",
      "      copying pandas\\io\\sql.py -> build\\lib.win-amd64-cpython-311\\pandas\\io\n",
      "      copying pandas\\io\\stata.py -> build\\lib.win-amd64-cpython-311\\pandas\\io\n",
      "      copying pandas\\io\\__init__.py -> build\\lib.win-amd64-cpython-311\\pandas\\io\n",
      "      creating build\\lib.win-amd64-cpython-311\\pandas\\plotting\n",
      "      copying pandas\\plotting\\_compat.py -> build\\lib.win-amd64-cpython-311\\pandas\\plotting\n",
      "      copying pandas\\plotting\\_converter.py -> build\\lib.win-amd64-cpython-311\\pandas\\plotting\n",
      "      copying pandas\\plotting\\_core.py -> build\\lib.win-amd64-cpython-311\\pandas\\plotting\n",
      "      copying pandas\\plotting\\_misc.py -> build\\lib.win-amd64-cpython-311\\pandas\\plotting\n",
      "      copying pandas\\plotting\\_style.py -> build\\lib.win-amd64-cpython-311\\pandas\\plotting\n",
      "      copying pandas\\plotting\\_timeseries.py -> build\\lib.win-amd64-cpython-311\\pandas\\plotting\n",
      "      copying pandas\\plotting\\_tools.py -> build\\lib.win-amd64-cpython-311\\pandas\\plotting\n",
      "      copying pandas\\plotting\\__init__.py -> build\\lib.win-amd64-cpython-311\\pandas\\plotting\n",
      "      creating build\\lib.win-amd64-cpython-311\\pandas\\tests\n",
      "      copying pandas\\tests\\test_algos.py -> build\\lib.win-amd64-cpython-311\\pandas\\tests\n",
      "      copying pandas\\tests\\test_base.py -> build\\lib.win-amd64-cpython-311\\pandas\\tests\n",
      "      copying pandas\\tests\\test_common.py -> build\\lib.win-amd64-cpython-311\\pandas\\tests\n",
      "      copying pandas\\tests\\test_compat.py -> build\\lib.win-amd64-cpython-311\\pandas\\tests\n",
      "      copying pandas\\tests\\test_config.py -> build\\lib.win-amd64-cpython-311\\pandas\\tests\n",
      "      copying pandas\\tests\\test_downstream.py -> build\\lib.win-amd64-cpython-311\\pandas\\tests\n",
      "      copying pandas\\tests\\test_errors.py -> build\\lib.win-amd64-cpython-311\\pandas\\tests\n",
      "      copying pandas\\tests\\test_expressions.py -> build\\lib.win-amd64-cpython-311\\pandas\\tests\n",
      "      copying pandas\\tests\\test_join.py -> build\\lib.win-amd64-cpython-311\\pandas\\tests\n",
      "      copying pandas\\tests\\test_lib.py -> build\\lib.win-amd64-cpython-311\\pandas\\tests\n",
      "      copying pandas\\tests\\test_multilevel.py -> build\\lib.win-amd64-cpython-311\\pandas\\tests\n",
      "      copying pandas\\tests\\test_nanops.py -> build\\lib.win-amd64-cpython-311\\pandas\\tests\n",
      "      copying pandas\\tests\\test_panel.py -> build\\lib.win-amd64-cpython-311\\pandas\\tests\n",
      "      copying pandas\\tests\\test_register_accessor.py -> build\\lib.win-amd64-cpython-311\\pandas\\tests\n",
      "      copying pandas\\tests\\test_sorting.py -> build\\lib.win-amd64-cpython-311\\pandas\\tests\n",
      "      copying pandas\\tests\\test_strings.py -> build\\lib.win-amd64-cpython-311\\pandas\\tests\n",
      "      copying pandas\\tests\\test_take.py -> build\\lib.win-amd64-cpython-311\\pandas\\tests\n",
      "      copying pandas\\tests\\test_window.py -> build\\lib.win-amd64-cpython-311\\pandas\\tests\n",
      "      copying pandas\\tests\\__init__.py -> build\\lib.win-amd64-cpython-311\\pandas\\tests\n",
      "      creating build\\lib.win-amd64-cpython-311\\pandas\\tseries\n",
      "      copying pandas\\tseries\\api.py -> build\\lib.win-amd64-cpython-311\\pandas\\tseries\n",
      "      copying pandas\\tseries\\converter.py -> build\\lib.win-amd64-cpython-311\\pandas\\tseries\n",
      "      copying pandas\\tseries\\frequencies.py -> build\\lib.win-amd64-cpython-311\\pandas\\tseries\n",
      "      copying pandas\\tseries\\holiday.py -> build\\lib.win-amd64-cpython-311\\pandas\\tseries\n",
      "      copying pandas\\tseries\\offsets.py -> build\\lib.win-amd64-cpython-311\\pandas\\tseries\n",
      "      copying pandas\\tseries\\plotting.py -> build\\lib.win-amd64-cpython-311\\pandas\\tseries\n",
      "      copying pandas\\tseries\\__init__.py -> build\\lib.win-amd64-cpython-311\\pandas\\tseries\n",
      "      creating build\\lib.win-amd64-cpython-311\\pandas\\util\n",
      "      copying pandas\\util\\testing.py -> build\\lib.win-amd64-cpython-311\\pandas\\util\n",
      "      copying pandas\\util\\_decorators.py -> build\\lib.win-amd64-cpython-311\\pandas\\util\n",
      "      copying pandas\\util\\_depr_module.py -> build\\lib.win-amd64-cpython-311\\pandas\\util\n",
      "      copying pandas\\util\\_doctools.py -> build\\lib.win-amd64-cpython-311\\pandas\\util\n",
      "      copying pandas\\util\\_exceptions.py -> build\\lib.win-amd64-cpython-311\\pandas\\util\n",
      "      copying pandas\\util\\_print_versions.py -> build\\lib.win-amd64-cpython-311\\pandas\\util\n",
      "      copying pandas\\util\\_tester.py -> build\\lib.win-amd64-cpython-311\\pandas\\util\n",
      "      copying pandas\\util\\_test_decorators.py -> build\\lib.win-amd64-cpython-311\\pandas\\util\n",
      "      copying pandas\\util\\_validators.py -> build\\lib.win-amd64-cpython-311\\pandas\\util\n",
      "      copying pandas\\util\\__init__.py -> build\\lib.win-amd64-cpython-311\\pandas\\util\n",
      "      creating build\\lib.win-amd64-cpython-311\\pandas\\_libs\n",
      "      copying pandas\\_libs\\__init__.py -> build\\lib.win-amd64-cpython-311\\pandas\\_libs\n",
      "      creating build\\lib.win-amd64-cpython-311\\pandas\\api\\extensions\n",
      "      copying pandas\\api\\extensions\\__init__.py -> build\\lib.win-amd64-cpython-311\\pandas\\api\\extensions\n",
      "      creating build\\lib.win-amd64-cpython-311\\pandas\\api\\types\n",
      "      copying pandas\\api\\types\\__init__.py -> build\\lib.win-amd64-cpython-311\\pandas\\api\\types\n",
      "      creating build\\lib.win-amd64-cpython-311\\pandas\\compat\\numpy\n",
      "      copying pandas\\compat\\numpy\\function.py -> build\\lib.win-amd64-cpython-311\\pandas\\compat\\numpy\n",
      "      copying pandas\\compat\\numpy\\__init__.py -> build\\lib.win-amd64-cpython-311\\pandas\\compat\\numpy\n",
      "      creating build\\lib.win-amd64-cpython-311\\pandas\\core\\arrays\n",
      "      copying pandas\\core\\arrays\\array_.py -> build\\lib.win-amd64-cpython-311\\pandas\\core\\arrays\n",
      "      copying pandas\\core\\arrays\\base.py -> build\\lib.win-amd64-cpython-311\\pandas\\core\\arrays\n",
      "      copying pandas\\core\\arrays\\categorical.py -> build\\lib.win-amd64-cpython-311\\pandas\\core\\arrays\n",
      "      copying pandas\\core\\arrays\\datetimelike.py -> build\\lib.win-amd64-cpython-311\\pandas\\core\\arrays\n",
      "      copying pandas\\core\\arrays\\datetimes.py -> build\\lib.win-amd64-cpython-311\\pandas\\core\\arrays\n",
      "      copying pandas\\core\\arrays\\integer.py -> build\\lib.win-amd64-cpython-311\\pandas\\core\\arrays\n",
      "      copying pandas\\core\\arrays\\interval.py -> build\\lib.win-amd64-cpython-311\\pandas\\core\\arrays\n",
      "      copying pandas\\core\\arrays\\numpy_.py -> build\\lib.win-amd64-cpython-311\\pandas\\core\\arrays\n",
      "      copying pandas\\core\\arrays\\period.py -> build\\lib.win-amd64-cpython-311\\pandas\\core\\arrays\n",
      "      copying pandas\\core\\arrays\\sparse.py -> build\\lib.win-amd64-cpython-311\\pandas\\core\\arrays\n",
      "      copying pandas\\core\\arrays\\timedeltas.py -> build\\lib.win-amd64-cpython-311\\pandas\\core\\arrays\n",
      "      copying pandas\\core\\arrays\\_ranges.py -> build\\lib.win-amd64-cpython-311\\pandas\\core\\arrays\n",
      "      copying pandas\\core\\arrays\\__init__.py -> build\\lib.win-amd64-cpython-311\\pandas\\core\\arrays\n",
      "      creating build\\lib.win-amd64-cpython-311\\pandas\\core\\computation\n",
      "      copying pandas\\core\\computation\\align.py -> build\\lib.win-amd64-cpython-311\\pandas\\core\\computation\n",
      "      copying pandas\\core\\computation\\api.py -> build\\lib.win-amd64-cpython-311\\pandas\\core\\computation\n",
      "      copying pandas\\core\\computation\\check.py -> build\\lib.win-amd64-cpython-311\\pandas\\core\\computation\n",
      "      copying pandas\\core\\computation\\common.py -> build\\lib.win-amd64-cpython-311\\pandas\\core\\computation\n",
      "      copying pandas\\core\\computation\\engines.py -> build\\lib.win-amd64-cpython-311\\pandas\\core\\computation\n",
      "      copying pandas\\core\\computation\\eval.py -> build\\lib.win-amd64-cpython-311\\pandas\\core\\computation\n",
      "      copying pandas\\core\\computation\\expr.py -> build\\lib.win-amd64-cpython-311\\pandas\\core\\computation\n",
      "      copying pandas\\core\\computation\\expressions.py -> build\\lib.win-amd64-cpython-311\\pandas\\core\\computation\n",
      "      copying pandas\\core\\computation\\ops.py -> build\\lib.win-amd64-cpython-311\\pandas\\core\\computation\n",
      "      copying pandas\\core\\computation\\pytables.py -> build\\lib.win-amd64-cpython-311\\pandas\\core\\computation\n",
      "      copying pandas\\core\\computation\\scope.py -> build\\lib.win-amd64-cpython-311\\pandas\\core\\computation\n",
      "      copying pandas\\core\\computation\\__init__.py -> build\\lib.win-amd64-cpython-311\\pandas\\core\\computation\n",
      "      creating build\\lib.win-amd64-cpython-311\\pandas\\core\\dtypes\n",
      "      copying pandas\\core\\dtypes\\api.py -> build\\lib.win-amd64-cpython-311\\pandas\\core\\dtypes\n",
      "      copying pandas\\core\\dtypes\\base.py -> build\\lib.win-amd64-cpython-311\\pandas\\core\\dtypes\n",
      "      copying pandas\\core\\dtypes\\cast.py -> build\\lib.win-amd64-cpython-311\\pandas\\core\\dtypes\n",
      "      copying pandas\\core\\dtypes\\common.py -> build\\lib.win-amd64-cpython-311\\pandas\\core\\dtypes\n",
      "      copying pandas\\core\\dtypes\\concat.py -> build\\lib.win-amd64-cpython-311\\pandas\\core\\dtypes\n",
      "      copying pandas\\core\\dtypes\\dtypes.py -> build\\lib.win-amd64-cpython-311\\pandas\\core\\dtypes\n",
      "      copying pandas\\core\\dtypes\\generic.py -> build\\lib.win-amd64-cpython-311\\pandas\\core\\dtypes\n",
      "      copying pandas\\core\\dtypes\\inference.py -> build\\lib.win-amd64-cpython-311\\pandas\\core\\dtypes\n",
      "      copying pandas\\core\\dtypes\\missing.py -> build\\lib.win-amd64-cpython-311\\pandas\\core\\dtypes\n",
      "      copying pandas\\core\\dtypes\\__init__.py -> build\\lib.win-amd64-cpython-311\\pandas\\core\\dtypes\n",
      "      creating build\\lib.win-amd64-cpython-311\\pandas\\core\\groupby\n",
      "      copying pandas\\core\\groupby\\base.py -> build\\lib.win-amd64-cpython-311\\pandas\\core\\groupby\n",
      "      copying pandas\\core\\groupby\\categorical.py -> build\\lib.win-amd64-cpython-311\\pandas\\core\\groupby\n",
      "      copying pandas\\core\\groupby\\generic.py -> build\\lib.win-amd64-cpython-311\\pandas\\core\\groupby\n",
      "      copying pandas\\core\\groupby\\groupby.py -> build\\lib.win-amd64-cpython-311\\pandas\\core\\groupby\n",
      "      copying pandas\\core\\groupby\\grouper.py -> build\\lib.win-amd64-cpython-311\\pandas\\core\\groupby\n",
      "      copying pandas\\core\\groupby\\ops.py -> build\\lib.win-amd64-cpython-311\\pandas\\core\\groupby\n",
      "      copying pandas\\core\\groupby\\__init__.py -> build\\lib.win-amd64-cpython-311\\pandas\\core\\groupby\n",
      "      creating build\\lib.win-amd64-cpython-311\\pandas\\core\\indexes\n",
      "      copying pandas\\core\\indexes\\accessors.py -> build\\lib.win-amd64-cpython-311\\pandas\\core\\indexes\n",
      "      copying pandas\\core\\indexes\\api.py -> build\\lib.win-amd64-cpython-311\\pandas\\core\\indexes\n",
      "      copying pandas\\core\\indexes\\base.py -> build\\lib.win-amd64-cpython-311\\pandas\\core\\indexes\n",
      "      copying pandas\\core\\indexes\\category.py -> build\\lib.win-amd64-cpython-311\\pandas\\core\\indexes\n",
      "      copying pandas\\core\\indexes\\datetimelike.py -> build\\lib.win-amd64-cpython-311\\pandas\\core\\indexes\n",
      "      copying pandas\\core\\indexes\\datetimes.py -> build\\lib.win-amd64-cpython-311\\pandas\\core\\indexes\n",
      "      copying pandas\\core\\indexes\\frozen.py -> build\\lib.win-amd64-cpython-311\\pandas\\core\\indexes\n",
      "      copying pandas\\core\\indexes\\interval.py -> build\\lib.win-amd64-cpython-311\\pandas\\core\\indexes\n",
      "      copying pandas\\core\\indexes\\multi.py -> build\\lib.win-amd64-cpython-311\\pandas\\core\\indexes\n",
      "      copying pandas\\core\\indexes\\numeric.py -> build\\lib.win-amd64-cpython-311\\pandas\\core\\indexes\n",
      "      copying pandas\\core\\indexes\\period.py -> build\\lib.win-amd64-cpython-311\\pandas\\core\\indexes\n",
      "      copying pandas\\core\\indexes\\range.py -> build\\lib.win-amd64-cpython-311\\pandas\\core\\indexes\n",
      "      copying pandas\\core\\indexes\\timedeltas.py -> build\\lib.win-amd64-cpython-311\\pandas\\core\\indexes\n",
      "      copying pandas\\core\\indexes\\__init__.py -> build\\lib.win-amd64-cpython-311\\pandas\\core\\indexes\n",
      "      creating build\\lib.win-amd64-cpython-311\\pandas\\core\\internals\n",
      "      copying pandas\\core\\internals\\arrays.py -> build\\lib.win-amd64-cpython-311\\pandas\\core\\internals\n",
      "      copying pandas\\core\\internals\\blocks.py -> build\\lib.win-amd64-cpython-311\\pandas\\core\\internals\n",
      "      copying pandas\\core\\internals\\concat.py -> build\\lib.win-amd64-cpython-311\\pandas\\core\\internals\n",
      "      copying pandas\\core\\internals\\construction.py -> build\\lib.win-amd64-cpython-311\\pandas\\core\\internals\n",
      "      copying pandas\\core\\internals\\managers.py -> build\\lib.win-amd64-cpython-311\\pandas\\core\\internals\n",
      "      copying pandas\\core\\internals\\__init__.py -> build\\lib.win-amd64-cpython-311\\pandas\\core\\internals\n",
      "      creating build\\lib.win-amd64-cpython-311\\pandas\\core\\reshape\n",
      "      copying pandas\\core\\reshape\\api.py -> build\\lib.win-amd64-cpython-311\\pandas\\core\\reshape\n",
      "      copying pandas\\core\\reshape\\concat.py -> build\\lib.win-amd64-cpython-311\\pandas\\core\\reshape\n",
      "      copying pandas\\core\\reshape\\melt.py -> build\\lib.win-amd64-cpython-311\\pandas\\core\\reshape\n",
      "      copying pandas\\core\\reshape\\merge.py -> build\\lib.win-amd64-cpython-311\\pandas\\core\\reshape\n",
      "      copying pandas\\core\\reshape\\pivot.py -> build\\lib.win-amd64-cpython-311\\pandas\\core\\reshape\n",
      "      copying pandas\\core\\reshape\\reshape.py -> build\\lib.win-amd64-cpython-311\\pandas\\core\\reshape\n",
      "      copying pandas\\core\\reshape\\tile.py -> build\\lib.win-amd64-cpython-311\\pandas\\core\\reshape\n",
      "      copying pandas\\core\\reshape\\util.py -> build\\lib.win-amd64-cpython-311\\pandas\\core\\reshape\n",
      "      copying pandas\\core\\reshape\\__init__.py -> build\\lib.win-amd64-cpython-311\\pandas\\core\\reshape\n",
      "      creating build\\lib.win-amd64-cpython-311\\pandas\\core\\sparse\n",
      "      copying pandas\\core\\sparse\\api.py -> build\\lib.win-amd64-cpython-311\\pandas\\core\\sparse\n",
      "      copying pandas\\core\\sparse\\frame.py -> build\\lib.win-amd64-cpython-311\\pandas\\core\\sparse\n",
      "      copying pandas\\core\\sparse\\scipy_sparse.py -> build\\lib.win-amd64-cpython-311\\pandas\\core\\sparse\n",
      "      copying pandas\\core\\sparse\\series.py -> build\\lib.win-amd64-cpython-311\\pandas\\core\\sparse\n",
      "      copying pandas\\core\\sparse\\__init__.py -> build\\lib.win-amd64-cpython-311\\pandas\\core\\sparse\n",
      "      creating build\\lib.win-amd64-cpython-311\\pandas\\core\\tools\n",
      "      copying pandas\\core\\tools\\datetimes.py -> build\\lib.win-amd64-cpython-311\\pandas\\core\\tools\n",
      "      copying pandas\\core\\tools\\numeric.py -> build\\lib.win-amd64-cpython-311\\pandas\\core\\tools\n",
      "      copying pandas\\core\\tools\\timedeltas.py -> build\\lib.win-amd64-cpython-311\\pandas\\core\\tools\n",
      "      copying pandas\\core\\tools\\__init__.py -> build\\lib.win-amd64-cpython-311\\pandas\\core\\tools\n",
      "      creating build\\lib.win-amd64-cpython-311\\pandas\\core\\util\n",
      "      copying pandas\\core\\util\\hashing.py -> build\\lib.win-amd64-cpython-311\\pandas\\core\\util\n",
      "      copying pandas\\core\\util\\__init__.py -> build\\lib.win-amd64-cpython-311\\pandas\\core\\util\n",
      "      creating build\\lib.win-amd64-cpython-311\\pandas\\io\\clipboard\n",
      "      copying pandas\\io\\clipboard\\clipboards.py -> build\\lib.win-amd64-cpython-311\\pandas\\io\\clipboard\n",
      "      copying pandas\\io\\clipboard\\exceptions.py -> build\\lib.win-amd64-cpython-311\\pandas\\io\\clipboard\n",
      "      copying pandas\\io\\clipboard\\windows.py -> build\\lib.win-amd64-cpython-311\\pandas\\io\\clipboard\n",
      "      copying pandas\\io\\clipboard\\__init__.py -> build\\lib.win-amd64-cpython-311\\pandas\\io\\clipboard\n",
      "      creating build\\lib.win-amd64-cpython-311\\pandas\\io\\formats\n",
      "      copying pandas\\io\\formats\\console.py -> build\\lib.win-amd64-cpython-311\\pandas\\io\\formats\n",
      "      copying pandas\\io\\formats\\css.py -> build\\lib.win-amd64-cpython-311\\pandas\\io\\formats\n",
      "      copying pandas\\io\\formats\\csvs.py -> build\\lib.win-amd64-cpython-311\\pandas\\io\\formats\n",
      "      copying pandas\\io\\formats\\excel.py -> build\\lib.win-amd64-cpython-311\\pandas\\io\\formats\n",
      "      copying pandas\\io\\formats\\format.py -> build\\lib.win-amd64-cpython-311\\pandas\\io\\formats\n",
      "      copying pandas\\io\\formats\\html.py -> build\\lib.win-amd64-cpython-311\\pandas\\io\\formats\n",
      "      copying pandas\\io\\formats\\latex.py -> build\\lib.win-amd64-cpython-311\\pandas\\io\\formats\n",
      "      copying pandas\\io\\formats\\printing.py -> build\\lib.win-amd64-cpython-311\\pandas\\io\\formats\n",
      "      copying pandas\\io\\formats\\style.py -> build\\lib.win-amd64-cpython-311\\pandas\\io\\formats\n",
      "      copying pandas\\io\\formats\\terminal.py -> build\\lib.win-amd64-cpython-311\\pandas\\io\\formats\n",
      "      copying pandas\\io\\formats\\__init__.py -> build\\lib.win-amd64-cpython-311\\pandas\\io\\formats\n",
      "      creating build\\lib.win-amd64-cpython-311\\pandas\\io\\json\n",
      "      copying pandas\\io\\json\\json.py -> build\\lib.win-amd64-cpython-311\\pandas\\io\\json\n",
      "      copying pandas\\io\\json\\normalize.py -> build\\lib.win-amd64-cpython-311\\pandas\\io\\json\n",
      "      copying pandas\\io\\json\\table_schema.py -> build\\lib.win-amd64-cpython-311\\pandas\\io\\json\n",
      "      copying pandas\\io\\json\\__init__.py -> build\\lib.win-amd64-cpython-311\\pandas\\io\\json\n",
      "      creating build\\lib.win-amd64-cpython-311\\pandas\\io\\msgpack\n",
      "      copying pandas\\io\\msgpack\\exceptions.py -> build\\lib.win-amd64-cpython-311\\pandas\\io\\msgpack\n",
      "      copying pandas\\io\\msgpack\\_version.py -> build\\lib.win-amd64-cpython-311\\pandas\\io\\msgpack\n",
      "      copying pandas\\io\\msgpack\\__init__.py -> build\\lib.win-amd64-cpython-311\\pandas\\io\\msgpack\n",
      "      creating build\\lib.win-amd64-cpython-311\\pandas\\io\\sas\n",
      "      copying pandas\\io\\sas\\sas7bdat.py -> build\\lib.win-amd64-cpython-311\\pandas\\io\\sas\n",
      "      copying pandas\\io\\sas\\sasreader.py -> build\\lib.win-amd64-cpython-311\\pandas\\io\\sas\n",
      "      copying pandas\\io\\sas\\sas_constants.py -> build\\lib.win-amd64-cpython-311\\pandas\\io\\sas\n",
      "      copying pandas\\io\\sas\\sas_xport.py -> build\\lib.win-amd64-cpython-311\\pandas\\io\\sas\n",
      "      copying pandas\\io\\sas\\__init__.py -> build\\lib.win-amd64-cpython-311\\pandas\\io\\sas\n",
      "      creating build\\lib.win-amd64-cpython-311\\pandas\\tests\\api\n",
      "      copying pandas\\tests\\api\\test_api.py -> build\\lib.win-amd64-cpython-311\\pandas\\tests\\api\n",
      "      copying pandas\\tests\\api\\test_types.py -> build\\lib.win-amd64-cpython-311\\pandas\\tests\\api\n",
      "      copying pandas\\tests\\api\\__init__.py -> build\\lib.win-amd64-cpython-311\\pandas\\tests\\api\n",
      "      creating build\\lib.win-amd64-cpython-311\\pandas\\tests\\arithmetic\n",
      "      copying pandas\\tests\\arithmetic\\conftest.py -> build\\lib.win-amd64-cpython-311\\pandas\\tests\\arithmetic\n",
      "      copying pandas\\tests\\arithmetic\\test_datetime64.py -> build\\lib.win-amd64-cpython-311\\pandas\\tests\\arithmetic\n",
      "      copying pandas\\tests\\arithmetic\\test_numeric.py -> build\\lib.win-amd64-cpython-311\\pandas\\tests\\arithmetic\n",
      "      copying pandas\\tests\\arithmetic\\test_object.py -> build\\lib.win-amd64-cpython-311\\pandas\\tests\\arithmetic\n",
      "      copying pandas\\tests\\arithmetic\\test_period.py -> build\\lib.win-amd64-cpython-311\\pandas\\tests\\arithmetic\n",
      "      copying pandas\\tests\\arithmetic\\test_timedelta64.py -> build\\lib.win-amd64-cpython-311\\pandas\\tests\\arithmetic\n",
      "      copying pandas\\tests\\arithmetic\\__init__.py -> build\\lib.win-amd64-cpython-311\\pandas\\tests\\arithmetic\n",
      "      creating build\\lib.win-amd64-cpython-311\\pandas\\tests\\arrays\n",
      "      copying pandas\\tests\\arrays\\test_array.py -> build\\lib.win-amd64-cpython-311\\pandas\\tests\\arrays\n",
      "      copying pandas\\tests\\arrays\\test_datetimelike.py -> build\\lib.win-amd64-cpython-311\\pandas\\tests\\arrays\n",
      "      copying pandas\\tests\\arrays\\test_datetimes.py -> build\\lib.win-amd64-cpython-311\\pandas\\tests\\arrays\n",
      "      copying pandas\\tests\\arrays\\test_integer.py -> build\\lib.win-amd64-cpython-311\\pandas\\tests\\arrays\n",
      "      copying pandas\\tests\\arrays\\test_numpy.py -> build\\lib.win-amd64-cpython-311\\pandas\\tests\\arrays\n",
      "      copying pandas\\tests\\arrays\\test_period.py -> build\\lib.win-amd64-cpython-311\\pandas\\tests\\arrays\n",
      "      copying pandas\\tests\\arrays\\test_timedeltas.py -> build\\lib.win-amd64-cpython-311\\pandas\\tests\\arrays\n",
      "      copying pandas\\tests\\arrays\\__init__.py -> build\\lib.win-amd64-cpython-311\\pandas\\tests\\arrays\n",
      "      creating build\\lib.win-amd64-cpython-311\\pandas\\tests\\computation\n",
      "      copying pandas\\tests\\computation\\test_compat.py -> build\\lib.win-amd64-cpython-311\\pandas\\tests\\computation\n",
      "      copying pandas\\tests\\computation\\test_eval.py -> build\\lib.win-amd64-cpython-311\\pandas\\tests\\computation\n",
      "      copying pandas\\tests\\computation\\__init__.py -> build\\lib.win-amd64-cpython-311\\pandas\\tests\\computation\n",
      "      creating build\\lib.win-amd64-cpython-311\\pandas\\tests\\dtypes\n",
      "      copying pandas\\tests\\dtypes\\test_common.py -> build\\lib.win-amd64-cpython-311\\pandas\\tests\\dtypes\n",
      "      copying pandas\\tests\\dtypes\\test_concat.py -> build\\lib.win-amd64-cpython-311\\pandas\\tests\\dtypes\n",
      "      copying pandas\\tests\\dtypes\\test_dtypes.py -> build\\lib.win-amd64-cpython-311\\pandas\\tests\\dtypes\n",
      "      copying pandas\\tests\\dtypes\\test_generic.py -> build\\lib.win-amd64-cpython-311\\pandas\\tests\\dtypes\n",
      "      copying pandas\\tests\\dtypes\\test_inference.py -> build\\lib.win-amd64-cpython-311\\pandas\\tests\\dtypes\n",
      "      copying pandas\\tests\\dtypes\\test_missing.py -> build\\lib.win-amd64-cpython-311\\pandas\\tests\\dtypes\n",
      "      copying pandas\\tests\\dtypes\\__init__.py -> build\\lib.win-amd64-cpython-311\\pandas\\tests\\dtypes\n",
      "      creating build\\lib.win-amd64-cpython-311\\pandas\\tests\\extension\n",
      "      copying pandas\\tests\\extension\\conftest.py -> build\\lib.win-amd64-cpython-311\\pandas\\tests\\extension\n",
      "      copying pandas\\tests\\extension\\test_categorical.py -> build\\lib.win-amd64-cpython-311\\pandas\\tests\\extension\n",
      "      copying pandas\\tests\\extension\\test_common.py -> build\\lib.win-amd64-cpython-311\\pandas\\tests\\extension\n",
      "      copying pandas\\tests\\extension\\test_datetime.py -> build\\lib.win-amd64-cpython-311\\pandas\\tests\\extension\n",
      "      copying pandas\\tests\\extension\\test_external_block.py -> build\\lib.win-amd64-cpython-311\\pandas\\tests\\extension\n",
      "      copying pandas\\tests\\extension\\test_integer.py -> build\\lib.win-amd64-cpython-311\\pandas\\tests\\extension\n",
      "      copying pandas\\tests\\extension\\test_interval.py -> build\\lib.win-amd64-cpython-311\\pandas\\tests\\extension\n",
      "      copying pandas\\tests\\extension\\test_period.py -> build\\lib.win-amd64-cpython-311\\pandas\\tests\\extension\n",
      "      copying pandas\\tests\\extension\\test_sparse.py -> build\\lib.win-amd64-cpython-311\\pandas\\tests\\extension\n",
      "      copying pandas\\tests\\extension\\__init__.py -> build\\lib.win-amd64-cpython-311\\pandas\\tests\\extension\n",
      "      creating build\\lib.win-amd64-cpython-311\\pandas\\tests\\frame\n",
      "      copying pandas\\tests\\frame\\common.py -> build\\lib.win-amd64-cpython-311\\pandas\\tests\\frame\n",
      "      copying pandas\\tests\\frame\\conftest.py -> build\\lib.win-amd64-cpython-311\\pandas\\tests\\frame\n",
      "      copying pandas\\tests\\frame\\test_alter_axes.py -> build\\lib.win-amd64-cpython-311\\pandas\\tests\\frame\n",
      "      copying pandas\\tests\\frame\\test_analytics.py -> build\\lib.win-amd64-cpython-311\\pandas\\tests\\frame\n",
      "      copying pandas\\tests\\frame\\test_api.py -> build\\lib.win-amd64-cpython-311\\pandas\\tests\\frame\n",
      "      copying pandas\\tests\\frame\\test_apply.py -> build\\lib.win-amd64-cpython-311\\pandas\\tests\\frame\n",
      "      copying pandas\\tests\\frame\\test_arithmetic.py -> build\\lib.win-amd64-cpython-311\\pandas\\tests\\frame\n",
      "      copying pandas\\tests\\frame\\test_asof.py -> build\\lib.win-amd64-cpython-311\\pandas\\tests\\frame\n",
      "      copying pandas\\tests\\frame\\test_axis_select_reindex.py -> build\\lib.win-amd64-cpython-311\\pandas\\tests\\frame\n",
      "      copying pandas\\tests\\frame\\test_block_internals.py -> build\\lib.win-amd64-cpython-311\\pandas\\tests\\frame\n",
      "      copying pandas\\tests\\frame\\test_combine_concat.py -> build\\lib.win-amd64-cpython-311\\pandas\\tests\\frame\n",
      "      copying pandas\\tests\\frame\\test_constructors.py -> build\\lib.win-amd64-cpython-311\\pandas\\tests\\frame\n",
      "      copying pandas\\tests\\frame\\test_convert_to.py -> build\\lib.win-amd64-cpython-311\\pandas\\tests\\frame\n",
      "      copying pandas\\tests\\frame\\test_dtypes.py -> build\\lib.win-amd64-cpython-311\\pandas\\tests\\frame\n",
      "      copying pandas\\tests\\frame\\test_duplicates.py -> build\\lib.win-amd64-cpython-311\\pandas\\tests\\frame\n",
      "      copying pandas\\tests\\frame\\test_indexing.py -> build\\lib.win-amd64-cpython-311\\pandas\\tests\\frame\n",
      "      copying pandas\\tests\\frame\\test_join.py -> build\\lib.win-amd64-cpython-311\\pandas\\tests\\frame\n",
      "      copying pandas\\tests\\frame\\test_missing.py -> build\\lib.win-amd64-cpython-311\\pandas\\tests\\frame\n",
      "      copying pandas\\tests\\frame\\test_mutate_columns.py -> build\\lib.win-amd64-cpython-311\\pandas\\tests\\frame\n",
      "      copying pandas\\tests\\frame\\test_nonunique_indexes.py -> build\\lib.win-amd64-cpython-311\\pandas\\tests\\frame\n",
      "      copying pandas\\tests\\frame\\test_operators.py -> build\\lib.win-amd64-cpython-311\\pandas\\tests\\frame\n",
      "      copying pandas\\tests\\frame\\test_period.py -> build\\lib.win-amd64-cpython-311\\pandas\\tests\\frame\n",
      "      copying pandas\\tests\\frame\\test_quantile.py -> build\\lib.win-amd64-cpython-311\\pandas\\tests\\frame\n",
      "      copying pandas\\tests\\frame\\test_query_eval.py -> build\\lib.win-amd64-cpython-311\\pandas\\tests\\frame\n",
      "      copying pandas\\tests\\frame\\test_rank.py -> build\\lib.win-amd64-cpython-311\\pandas\\tests\\frame\n",
      "      copying pandas\\tests\\frame\\test_replace.py -> build\\lib.win-amd64-cpython-311\\pandas\\tests\\frame\n",
      "      copying pandas\\tests\\frame\\test_repr_info.py -> build\\lib.win-amd64-cpython-311\\pandas\\tests\\frame\n",
      "      copying pandas\\tests\\frame\\test_reshape.py -> build\\lib.win-amd64-cpython-311\\pandas\\tests\\frame\n",
      "      copying pandas\\tests\\frame\\test_sorting.py -> build\\lib.win-amd64-cpython-311\\pandas\\tests\\frame\n",
      "      copying pandas\\tests\\frame\\test_sort_values_level_as_str.py -> build\\lib.win-amd64-cpython-311\\pandas\\tests\\frame\n",
      "      copying pandas\\tests\\frame\\test_subclass.py -> build\\lib.win-amd64-cpython-311\\pandas\\tests\\frame\n",
      "      copying pandas\\tests\\frame\\test_timeseries.py -> build\\lib.win-amd64-cpython-311\\pandas\\tests\\frame\n",
      "      copying pandas\\tests\\frame\\test_timezones.py -> build\\lib.win-amd64-cpython-311\\pandas\\tests\\frame\n",
      "      copying pandas\\tests\\frame\\test_to_csv.py -> build\\lib.win-amd64-cpython-311\\pandas\\tests\\frame\n",
      "      copying pandas\\tests\\frame\\test_validate.py -> build\\lib.win-amd64-cpython-311\\pandas\\tests\\frame\n",
      "      copying pandas\\tests\\frame\\__init__.py -> build\\lib.win-amd64-cpython-311\\pandas\\tests\\frame\n",
      "      creating build\\lib.win-amd64-cpython-311\\pandas\\tests\\generic\n",
      "      copying pandas\\tests\\generic\\test_frame.py -> build\\lib.win-amd64-cpython-311\\pandas\\tests\\generic\n",
      "      copying pandas\\tests\\generic\\test_generic.py -> build\\lib.win-amd64-cpython-311\\pandas\\tests\\generic\n",
      "      copying pandas\\tests\\generic\\test_label_or_level_utils.py -> build\\lib.win-amd64-cpython-311\\pandas\\tests\\generic\n",
      "      copying pandas\\tests\\generic\\test_panel.py -> build\\lib.win-amd64-cpython-311\\pandas\\tests\\generic\n",
      "      copying pandas\\tests\\generic\\test_series.py -> build\\lib.win-amd64-cpython-311\\pandas\\tests\\generic\n",
      "      copying pandas\\tests\\generic\\__init__.py -> build\\lib.win-amd64-cpython-311\\pandas\\tests\\generic\n",
      "      creating build\\lib.win-amd64-cpython-311\\pandas\\tests\\groupby\n",
      "      copying pandas\\tests\\groupby\\conftest.py -> build\\lib.win-amd64-cpython-311\\pandas\\tests\\groupby\n",
      "      copying pandas\\tests\\groupby\\test_apply.py -> build\\lib.win-amd64-cpython-311\\pandas\\tests\\groupby\n",
      "      copying pandas\\tests\\groupby\\test_bin_groupby.py -> build\\lib.win-amd64-cpython-311\\pandas\\tests\\groupby\n",
      "      copying pandas\\tests\\groupby\\test_categorical.py -> build\\lib.win-amd64-cpython-311\\pandas\\tests\\groupby\n",
      "      copying pandas\\tests\\groupby\\test_counting.py -> build\\lib.win-amd64-cpython-311\\pandas\\tests\\groupby\n",
      "      copying pandas\\tests\\groupby\\test_filters.py -> build\\lib.win-amd64-cpython-311\\pandas\\tests\\groupby\n",
      "      copying pandas\\tests\\groupby\\test_function.py -> build\\lib.win-amd64-cpython-311\\pandas\\tests\\groupby\n",
      "      copying pandas\\tests\\groupby\\test_groupby.py -> build\\lib.win-amd64-cpython-311\\pandas\\tests\\groupby\n",
      "      copying pandas\\tests\\groupby\\test_grouping.py -> build\\lib.win-amd64-cpython-311\\pandas\\tests\\groupby\n",
      "      copying pandas\\tests\\groupby\\test_index_as_string.py -> build\\lib.win-amd64-cpython-311\\pandas\\tests\\groupby\n",
      "      copying pandas\\tests\\groupby\\test_nth.py -> build\\lib.win-amd64-cpython-311\\pandas\\tests\\groupby\n",
      "      copying pandas\\tests\\groupby\\test_rank.py -> build\\lib.win-amd64-cpython-311\\pandas\\tests\\groupby\n",
      "      copying pandas\\tests\\groupby\\test_timegrouper.py -> build\\lib.win-amd64-cpython-311\\pandas\\tests\\groupby\n",
      "      copying pandas\\tests\\groupby\\test_transform.py -> build\\lib.win-amd64-cpython-311\\pandas\\tests\\groupby\n",
      "      copying pandas\\tests\\groupby\\test_value_counts.py -> build\\lib.win-amd64-cpython-311\\pandas\\tests\\groupby\n",
      "      copying pandas\\tests\\groupby\\test_whitelist.py -> build\\lib.win-amd64-cpython-311\\pandas\\tests\\groupby\n",
      "      copying pandas\\tests\\groupby\\__init__.py -> build\\lib.win-amd64-cpython-311\\pandas\\tests\\groupby\n",
      "      creating build\\lib.win-amd64-cpython-311\\pandas\\tests\\indexes\n",
      "      copying pandas\\tests\\indexes\\common.py -> build\\lib.win-amd64-cpython-311\\pandas\\tests\\indexes\n",
      "      copying pandas\\tests\\indexes\\conftest.py -> build\\lib.win-amd64-cpython-311\\pandas\\tests\\indexes\n",
      "      copying pandas\\tests\\indexes\\datetimelike.py -> build\\lib.win-amd64-cpython-311\\pandas\\tests\\indexes\n",
      "      copying pandas\\tests\\indexes\\test_base.py -> build\\lib.win-amd64-cpython-311\\pandas\\tests\\indexes\n",
      "      copying pandas\\tests\\indexes\\test_category.py -> build\\lib.win-amd64-cpython-311\\pandas\\tests\\indexes\n",
      "      copying pandas\\tests\\indexes\\test_common.py -> build\\lib.win-amd64-cpython-311\\pandas\\tests\\indexes\n",
      "      copying pandas\\tests\\indexes\\test_frozen.py -> build\\lib.win-amd64-cpython-311\\pandas\\tests\\indexes\n",
      "      copying pandas\\tests\\indexes\\test_numeric.py -> build\\lib.win-amd64-cpython-311\\pandas\\tests\\indexes\n",
      "      copying pandas\\tests\\indexes\\test_range.py -> build\\lib.win-amd64-cpython-311\\pandas\\tests\\indexes\n",
      "      copying pandas\\tests\\indexes\\__init__.py -> build\\lib.win-amd64-cpython-311\\pandas\\tests\\indexes\n",
      "      creating build\\lib.win-amd64-cpython-311\\pandas\\tests\\indexing\n",
      "      copying pandas\\tests\\indexing\\common.py -> build\\lib.win-amd64-cpython-311\\pandas\\tests\\indexing\n",
      "      copying pandas\\tests\\indexing\\conftest.py -> build\\lib.win-amd64-cpython-311\\pandas\\tests\\indexing\n",
      "      copying pandas\\tests\\indexing\\test_callable.py -> build\\lib.win-amd64-cpython-311\\pandas\\tests\\indexing\n",
      "      copying pandas\\tests\\indexing\\test_categorical.py -> build\\lib.win-amd64-cpython-311\\pandas\\tests\\indexing\n",
      "      copying pandas\\tests\\indexing\\test_chaining_and_caching.py -> build\\lib.win-amd64-cpython-311\\pandas\\tests\\indexing\n",
      "      copying pandas\\tests\\indexing\\test_coercion.py -> build\\lib.win-amd64-cpython-311\\pandas\\tests\\indexing\n",
      "      copying pandas\\tests\\indexing\\test_datetime.py -> build\\lib.win-amd64-cpython-311\\pandas\\tests\\indexing\n",
      "      copying pandas\\tests\\indexing\\test_floats.py -> build\\lib.win-amd64-cpython-311\\pandas\\tests\\indexing\n",
      "      copying pandas\\tests\\indexing\\test_iloc.py -> build\\lib.win-amd64-cpython-311\\pandas\\tests\\indexing\n",
      "      copying pandas\\tests\\indexing\\test_indexing.py -> build\\lib.win-amd64-cpython-311\\pandas\\tests\\indexing\n",
      "      copying pandas\\tests\\indexing\\test_indexing_engines.py -> build\\lib.win-amd64-cpython-311\\pandas\\tests\\indexing\n",
      "      copying pandas\\tests\\indexing\\test_indexing_slow.py -> build\\lib.win-amd64-cpython-311\\pandas\\tests\\indexing\n",
      "      copying pandas\\tests\\indexing\\test_ix.py -> build\\lib.win-amd64-cpython-311\\pandas\\tests\\indexing\n",
      "      copying pandas\\tests\\indexing\\test_loc.py -> build\\lib.win-amd64-cpython-311\\pandas\\tests\\indexing\n",
      "      copying pandas\\tests\\indexing\\test_panel.py -> build\\lib.win-amd64-cpython-311\\pandas\\tests\\indexing\n",
      "      copying pandas\\tests\\indexing\\test_partial.py -> build\\lib.win-amd64-cpython-311\\pandas\\tests\\indexing\n",
      "      copying pandas\\tests\\indexing\\test_scalar.py -> build\\lib.win-amd64-cpython-311\\pandas\\tests\\indexing\n",
      "      copying pandas\\tests\\indexing\\test_timedelta.py -> build\\lib.win-amd64-cpython-311\\pandas\\tests\\indexing\n",
      "      copying pandas\\tests\\indexing\\__init__.py -> build\\lib.win-amd64-cpython-311\\pandas\\tests\\indexing\n",
      "      creating build\\lib.win-amd64-cpython-311\\pandas\\tests\\internals\n",
      "      copying pandas\\tests\\internals\\test_internals.py -> build\\lib.win-amd64-cpython-311\\pandas\\tests\\internals\n",
      "      copying pandas\\tests\\internals\\__init__.py -> build\\lib.win-amd64-cpython-311\\pandas\\tests\\internals\n",
      "      creating build\\lib.win-amd64-cpython-311\\pandas\\tests\\io\n",
      "      copying pandas\\tests\\io\\conftest.py -> build\\lib.win-amd64-cpython-311\\pandas\\tests\\io\n",
      "      copying pandas\\tests\\io\\generate_legacy_storage_files.py -> build\\lib.win-amd64-cpython-311\\pandas\\tests\\io\n",
      "      copying pandas\\tests\\io\\test_clipboard.py -> build\\lib.win-amd64-cpython-311\\pandas\\tests\\io\n",
      "      copying pandas\\tests\\io\\test_common.py -> build\\lib.win-amd64-cpython-311\\pandas\\tests\\io\n",
      "      copying pandas\\tests\\io\\test_compression.py -> build\\lib.win-amd64-cpython-311\\pandas\\tests\\io\n",
      "      copying pandas\\tests\\io\\test_date_converters.py -> build\\lib.win-amd64-cpython-311\\pandas\\tests\\io\n",
      "      copying pandas\\tests\\io\\test_excel.py -> build\\lib.win-amd64-cpython-311\\pandas\\tests\\io\n",
      "      copying pandas\\tests\\io\\test_feather.py -> build\\lib.win-amd64-cpython-311\\pandas\\tests\\io\n",
      "      copying pandas\\tests\\io\\test_gbq.py -> build\\lib.win-amd64-cpython-311\\pandas\\tests\\io\n",
      "      copying pandas\\tests\\io\\test_gcs.py -> build\\lib.win-amd64-cpython-311\\pandas\\tests\\io\n",
      "      copying pandas\\tests\\io\\test_html.py -> build\\lib.win-amd64-cpython-311\\pandas\\tests\\io\n",
      "      copying pandas\\tests\\io\\test_packers.py -> build\\lib.win-amd64-cpython-311\\pandas\\tests\\io\n",
      "      copying pandas\\tests\\io\\test_parquet.py -> build\\lib.win-amd64-cpython-311\\pandas\\tests\\io\n",
      "      copying pandas\\tests\\io\\test_pickle.py -> build\\lib.win-amd64-cpython-311\\pandas\\tests\\io\n",
      "      copying pandas\\tests\\io\\test_pytables.py -> build\\lib.win-amd64-cpython-311\\pandas\\tests\\io\n",
      "      copying pandas\\tests\\io\\test_s3.py -> build\\lib.win-amd64-cpython-311\\pandas\\tests\\io\n",
      "      copying pandas\\tests\\io\\test_sql.py -> build\\lib.win-amd64-cpython-311\\pandas\\tests\\io\n",
      "      copying pandas\\tests\\io\\test_stata.py -> build\\lib.win-amd64-cpython-311\\pandas\\tests\\io\n",
      "      copying pandas\\tests\\io\\__init__.py -> build\\lib.win-amd64-cpython-311\\pandas\\tests\\io\n",
      "      creating build\\lib.win-amd64-cpython-311\\pandas\\tests\\plotting\n",
      "      copying pandas\\tests\\plotting\\common.py -> build\\lib.win-amd64-cpython-311\\pandas\\tests\\plotting\n",
      "      copying pandas\\tests\\plotting\\test_boxplot_method.py -> build\\lib.win-amd64-cpython-311\\pandas\\tests\\plotting\n",
      "      copying pandas\\tests\\plotting\\test_converter.py -> build\\lib.win-amd64-cpython-311\\pandas\\tests\\plotting\n",
      "      copying pandas\\tests\\plotting\\test_datetimelike.py -> build\\lib.win-amd64-cpython-311\\pandas\\tests\\plotting\n",
      "      copying pandas\\tests\\plotting\\test_frame.py -> build\\lib.win-amd64-cpython-311\\pandas\\tests\\plotting\n",
      "      copying pandas\\tests\\plotting\\test_groupby.py -> build\\lib.win-amd64-cpython-311\\pandas\\tests\\plotting\n",
      "      copying pandas\\tests\\plotting\\test_hist_method.py -> build\\lib.win-amd64-cpython-311\\pandas\\tests\\plotting\n",
      "      copying pandas\\tests\\plotting\\test_misc.py -> build\\lib.win-amd64-cpython-311\\pandas\\tests\\plotting\n",
      "      copying pandas\\tests\\plotting\\test_series.py -> build\\lib.win-amd64-cpython-311\\pandas\\tests\\plotting\n",
      "      copying pandas\\tests\\plotting\\__init__.py -> build\\lib.win-amd64-cpython-311\\pandas\\tests\\plotting\n",
      "      creating build\\lib.win-amd64-cpython-311\\pandas\\tests\\reductions\n",
      "      copying pandas\\tests\\reductions\\test_reductions.py -> build\\lib.win-amd64-cpython-311\\pandas\\tests\\reductions\n",
      "      copying pandas\\tests\\reductions\\test_stat_reductions.py -> build\\lib.win-amd64-cpython-311\\pandas\\tests\\reductions\n",
      "      copying pandas\\tests\\reductions\\__init__.py -> build\\lib.win-amd64-cpython-311\\pandas\\tests\\reductions\n",
      "      creating build\\lib.win-amd64-cpython-311\\pandas\\tests\\resample\n",
      "      copying pandas\\tests\\resample\\conftest.py -> build\\lib.win-amd64-cpython-311\\pandas\\tests\\resample\n",
      "      copying pandas\\tests\\resample\\test_base.py -> build\\lib.win-amd64-cpython-311\\pandas\\tests\\resample\n",
      "      copying pandas\\tests\\resample\\test_datetime_index.py -> build\\lib.win-amd64-cpython-311\\pandas\\tests\\resample\n",
      "      copying pandas\\tests\\resample\\test_period_index.py -> build\\lib.win-amd64-cpython-311\\pandas\\tests\\resample\n",
      "      copying pandas\\tests\\resample\\test_resampler_grouper.py -> build\\lib.win-amd64-cpython-311\\pandas\\tests\\resample\n",
      "      copying pandas\\tests\\resample\\test_resample_api.py -> build\\lib.win-amd64-cpython-311\\pandas\\tests\\resample\n",
      "      copying pandas\\tests\\resample\\test_timedelta.py -> build\\lib.win-amd64-cpython-311\\pandas\\tests\\resample\n",
      "      copying pandas\\tests\\resample\\test_time_grouper.py -> build\\lib.win-amd64-cpython-311\\pandas\\tests\\resample\n",
      "      copying pandas\\tests\\resample\\__init__.py -> build\\lib.win-amd64-cpython-311\\pandas\\tests\\resample\n",
      "      creating build\\lib.win-amd64-cpython-311\\pandas\\tests\\reshape\n",
      "      copying pandas\\tests\\reshape\\test_concat.py -> build\\lib.win-amd64-cpython-311\\pandas\\tests\\reshape\n",
      "      copying pandas\\tests\\reshape\\test_cut.py -> build\\lib.win-amd64-cpython-311\\pandas\\tests\\reshape\n",
      "      copying pandas\\tests\\reshape\\test_melt.py -> build\\lib.win-amd64-cpython-311\\pandas\\tests\\reshape\n",
      "      copying pandas\\tests\\reshape\\test_pivot.py -> build\\lib.win-amd64-cpython-311\\pandas\\tests\\reshape\n",
      "      copying pandas\\tests\\reshape\\test_qcut.py -> build\\lib.win-amd64-cpython-311\\pandas\\tests\\reshape\n",
      "      copying pandas\\tests\\reshape\\test_reshape.py -> build\\lib.win-amd64-cpython-311\\pandas\\tests\\reshape\n",
      "      copying pandas\\tests\\reshape\\test_union_categoricals.py -> build\\lib.win-amd64-cpython-311\\pandas\\tests\\reshape\n",
      "      copying pandas\\tests\\reshape\\test_util.py -> build\\lib.win-amd64-cpython-311\\pandas\\tests\\reshape\n",
      "      copying pandas\\tests\\reshape\\__init__.py -> build\\lib.win-amd64-cpython-311\\pandas\\tests\\reshape\n",
      "      creating build\\lib.win-amd64-cpython-311\\pandas\\tests\\scalar\n",
      "      copying pandas\\tests\\scalar\\test_nat.py -> build\\lib.win-amd64-cpython-311\\pandas\\tests\\scalar\n",
      "      copying pandas\\tests\\scalar\\__init__.py -> build\\lib.win-amd64-cpython-311\\pandas\\tests\\scalar\n",
      "      creating build\\lib.win-amd64-cpython-311\\pandas\\tests\\series\n",
      "      copying pandas\\tests\\series\\common.py -> build\\lib.win-amd64-cpython-311\\pandas\\tests\\series\n",
      "      copying pandas\\tests\\series\\conftest.py -> build\\lib.win-amd64-cpython-311\\pandas\\tests\\series\n",
      "      copying pandas\\tests\\series\\test_alter_axes.py -> build\\lib.win-amd64-cpython-311\\pandas\\tests\\series\n",
      "      copying pandas\\tests\\series\\test_analytics.py -> build\\lib.win-amd64-cpython-311\\pandas\\tests\\series\n",
      "      copying pandas\\tests\\series\\test_api.py -> build\\lib.win-amd64-cpython-311\\pandas\\tests\\series\n",
      "      copying pandas\\tests\\series\\test_apply.py -> build\\lib.win-amd64-cpython-311\\pandas\\tests\\series\n",
      "      copying pandas\\tests\\series\\test_arithmetic.py -> build\\lib.win-amd64-cpython-311\\pandas\\tests\\series\n",
      "      copying pandas\\tests\\series\\test_asof.py -> build\\lib.win-amd64-cpython-311\\pandas\\tests\\series\n",
      "      copying pandas\\tests\\series\\test_block_internals.py -> build\\lib.win-amd64-cpython-311\\pandas\\tests\\series\n",
      "      copying pandas\\tests\\series\\test_combine_concat.py -> build\\lib.win-amd64-cpython-311\\pandas\\tests\\series\n",
      "      copying pandas\\tests\\series\\test_constructors.py -> build\\lib.win-amd64-cpython-311\\pandas\\tests\\series\n",
      "      copying pandas\\tests\\series\\test_datetime_values.py -> build\\lib.win-amd64-cpython-311\\pandas\\tests\\series\n",
      "      copying pandas\\tests\\series\\test_dtypes.py -> build\\lib.win-amd64-cpython-311\\pandas\\tests\\series\n",
      "      copying pandas\\tests\\series\\test_duplicates.py -> build\\lib.win-amd64-cpython-311\\pandas\\tests\\series\n",
      "      copying pandas\\tests\\series\\test_internals.py -> build\\lib.win-amd64-cpython-311\\pandas\\tests\\series\n",
      "      copying pandas\\tests\\series\\test_io.py -> build\\lib.win-amd64-cpython-311\\pandas\\tests\\series\n",
      "      copying pandas\\tests\\series\\test_missing.py -> build\\lib.win-amd64-cpython-311\\pandas\\tests\\series\n",
      "      copying pandas\\tests\\series\\test_operators.py -> build\\lib.win-amd64-cpython-311\\pandas\\tests\\series\n",
      "      copying pandas\\tests\\series\\test_period.py -> build\\lib.win-amd64-cpython-311\\pandas\\tests\\series\n",
      "      copying pandas\\tests\\series\\test_quantile.py -> build\\lib.win-amd64-cpython-311\\pandas\\tests\\series\n",
      "      copying pandas\\tests\\series\\test_rank.py -> build\\lib.win-amd64-cpython-311\\pandas\\tests\\series\n",
      "      copying pandas\\tests\\series\\test_replace.py -> build\\lib.win-amd64-cpython-311\\pandas\\tests\\series\n",
      "      copying pandas\\tests\\series\\test_repr.py -> build\\lib.win-amd64-cpython-311\\pandas\\tests\\series\n",
      "      copying pandas\\tests\\series\\test_sorting.py -> build\\lib.win-amd64-cpython-311\\pandas\\tests\\series\n",
      "      copying pandas\\tests\\series\\test_subclass.py -> build\\lib.win-amd64-cpython-311\\pandas\\tests\\series\n",
      "      copying pandas\\tests\\series\\test_timeseries.py -> build\\lib.win-amd64-cpython-311\\pandas\\tests\\series\n",
      "      copying pandas\\tests\\series\\test_timezones.py -> build\\lib.win-amd64-cpython-311\\pandas\\tests\\series\n",
      "      copying pandas\\tests\\series\\test_validate.py -> build\\lib.win-amd64-cpython-311\\pandas\\tests\\series\n",
      "      copying pandas\\tests\\series\\__init__.py -> build\\lib.win-amd64-cpython-311\\pandas\\tests\\series\n",
      "      creating build\\lib.win-amd64-cpython-311\\pandas\\tests\\sparse\n",
      "      copying pandas\\tests\\sparse\\common.py -> build\\lib.win-amd64-cpython-311\\pandas\\tests\\sparse\n",
      "      copying pandas\\tests\\sparse\\test_combine_concat.py -> build\\lib.win-amd64-cpython-311\\pandas\\tests\\sparse\n",
      "      copying pandas\\tests\\sparse\\test_format.py -> build\\lib.win-amd64-cpython-311\\pandas\\tests\\sparse\n",
      "      copying pandas\\tests\\sparse\\test_groupby.py -> build\\lib.win-amd64-cpython-311\\pandas\\tests\\sparse\n",
      "      copying pandas\\tests\\sparse\\test_indexing.py -> build\\lib.win-amd64-cpython-311\\pandas\\tests\\sparse\n",
      "      copying pandas\\tests\\sparse\\test_pivot.py -> build\\lib.win-amd64-cpython-311\\pandas\\tests\\sparse\n",
      "      copying pandas\\tests\\sparse\\test_reshape.py -> build\\lib.win-amd64-cpython-311\\pandas\\tests\\sparse\n",
      "      copying pandas\\tests\\sparse\\__init__.py -> build\\lib.win-amd64-cpython-311\\pandas\\tests\\sparse\n",
      "      creating build\\lib.win-amd64-cpython-311\\pandas\\tests\\tools\n",
      "      copying pandas\\tests\\tools\\test_numeric.py -> build\\lib.win-amd64-cpython-311\\pandas\\tests\\tools\n",
      "      copying pandas\\tests\\tools\\__init__.py -> build\\lib.win-amd64-cpython-311\\pandas\\tests\\tools\n",
      "      creating build\\lib.win-amd64-cpython-311\\pandas\\tests\\tseries\n",
      "      copying pandas\\tests\\tseries\\test_frequencies.py -> build\\lib.win-amd64-cpython-311\\pandas\\tests\\tseries\n",
      "      copying pandas\\tests\\tseries\\test_holiday.py -> build\\lib.win-amd64-cpython-311\\pandas\\tests\\tseries\n",
      "      copying pandas\\tests\\tseries\\__init__.py -> build\\lib.win-amd64-cpython-311\\pandas\\tests\\tseries\n",
      "      creating build\\lib.win-amd64-cpython-311\\pandas\\tests\\tslibs\n",
      "      copying pandas\\tests\\tslibs\\test_api.py -> build\\lib.win-amd64-cpython-311\\pandas\\tests\\tslibs\n",
      "      copying pandas\\tests\\tslibs\\test_array_to_datetime.py -> build\\lib.win-amd64-cpython-311\\pandas\\tests\\tslibs\n",
      "      copying pandas\\tests\\tslibs\\test_ccalendar.py -> build\\lib.win-amd64-cpython-311\\pandas\\tests\\tslibs\n",
      "      copying pandas\\tests\\tslibs\\test_conversion.py -> build\\lib.win-amd64-cpython-311\\pandas\\tests\\tslibs\n",
      "      copying pandas\\tests\\tslibs\\test_libfrequencies.py -> build\\lib.win-amd64-cpython-311\\pandas\\tests\\tslibs\n",
      "      copying pandas\\tests\\tslibs\\test_liboffsets.py -> build\\lib.win-amd64-cpython-311\\pandas\\tests\\tslibs\n",
      "      copying pandas\\tests\\tslibs\\test_normalize_date.py -> build\\lib.win-amd64-cpython-311\\pandas\\tests\\tslibs\n",
      "      copying pandas\\tests\\tslibs\\test_parse_iso8601.py -> build\\lib.win-amd64-cpython-311\\pandas\\tests\\tslibs\n",
      "      copying pandas\\tests\\tslibs\\test_parsing.py -> build\\lib.win-amd64-cpython-311\\pandas\\tests\\tslibs\n",
      "      copying pandas\\tests\\tslibs\\test_period_asfreq.py -> build\\lib.win-amd64-cpython-311\\pandas\\tests\\tslibs\n",
      "      copying pandas\\tests\\tslibs\\test_timedeltas.py -> build\\lib.win-amd64-cpython-311\\pandas\\tests\\tslibs\n",
      "      copying pandas\\tests\\tslibs\\test_timezones.py -> build\\lib.win-amd64-cpython-311\\pandas\\tests\\tslibs\n",
      "      copying pandas\\tests\\tslibs\\__init__.py -> build\\lib.win-amd64-cpython-311\\pandas\\tests\\tslibs\n",
      "      creating build\\lib.win-amd64-cpython-311\\pandas\\tests\\util\n",
      "      copying pandas\\tests\\util\\conftest.py -> build\\lib.win-amd64-cpython-311\\pandas\\tests\\util\n",
      "      copying pandas\\tests\\util\\test_assert_almost_equal.py -> build\\lib.win-amd64-cpython-311\\pandas\\tests\\util\n",
      "      copying pandas\\tests\\util\\test_assert_categorical_equal.py -> build\\lib.win-amd64-cpython-311\\pandas\\tests\\util\n",
      "      copying pandas\\tests\\util\\test_assert_extension_array_equal.py -> build\\lib.win-amd64-cpython-311\\pandas\\tests\\util\n",
      "      copying pandas\\tests\\util\\test_assert_frame_equal.py -> build\\lib.win-amd64-cpython-311\\pandas\\tests\\util\n",
      "      copying pandas\\tests\\util\\test_assert_index_equal.py -> build\\lib.win-amd64-cpython-311\\pandas\\tests\\util\n",
      "      copying pandas\\tests\\util\\test_assert_interval_array_equal.py -> build\\lib.win-amd64-cpython-311\\pandas\\tests\\util\n",
      "      copying pandas\\tests\\util\\test_assert_numpy_array_equal.py -> build\\lib.win-amd64-cpython-311\\pandas\\tests\\util\n",
      "      copying pandas\\tests\\util\\test_assert_series_equal.py -> build\\lib.win-amd64-cpython-311\\pandas\\tests\\util\n",
      "      copying pandas\\tests\\util\\test_deprecate.py -> build\\lib.win-amd64-cpython-311\\pandas\\tests\\util\n",
      "      copying pandas\\tests\\util\\test_deprecate_kwarg.py -> build\\lib.win-amd64-cpython-311\\pandas\\tests\\util\n",
      "      copying pandas\\tests\\util\\test_hashing.py -> build\\lib.win-amd64-cpython-311\\pandas\\tests\\util\n",
      "      copying pandas\\tests\\util\\test_locale.py -> build\\lib.win-amd64-cpython-311\\pandas\\tests\\util\n",
      "      copying pandas\\tests\\util\\test_move.py -> build\\lib.win-amd64-cpython-311\\pandas\\tests\\util\n",
      "      copying pandas\\tests\\util\\test_safe_import.py -> build\\lib.win-amd64-cpython-311\\pandas\\tests\\util\n",
      "      copying pandas\\tests\\util\\test_util.py -> build\\lib.win-amd64-cpython-311\\pandas\\tests\\util\n",
      "      copying pandas\\tests\\util\\test_validate_args.py -> build\\lib.win-amd64-cpython-311\\pandas\\tests\\util\n",
      "      copying pandas\\tests\\util\\test_validate_args_and_kwargs.py -> build\\lib.win-amd64-cpython-311\\pandas\\tests\\util\n",
      "      copying pandas\\tests\\util\\test_validate_kwargs.py -> build\\lib.win-amd64-cpython-311\\pandas\\tests\\util\n",
      "      copying pandas\\tests\\util\\__init__.py -> build\\lib.win-amd64-cpython-311\\pandas\\tests\\util\n",
      "      creating build\\lib.win-amd64-cpython-311\\pandas\\tests\\arrays\\categorical\n",
      "      copying pandas\\tests\\arrays\\categorical\\common.py -> build\\lib.win-amd64-cpython-311\\pandas\\tests\\arrays\\categorical\n",
      "      copying pandas\\tests\\arrays\\categorical\\conftest.py -> build\\lib.win-amd64-cpython-311\\pandas\\tests\\arrays\\categorical\n",
      "      copying pandas\\tests\\arrays\\categorical\\test_algos.py -> build\\lib.win-amd64-cpython-311\\pandas\\tests\\arrays\\categorical\n",
      "      copying pandas\\tests\\arrays\\categorical\\test_analytics.py -> build\\lib.win-amd64-cpython-311\\pandas\\tests\\arrays\\categorical\n",
      "      copying pandas\\tests\\arrays\\categorical\\test_api.py -> build\\lib.win-amd64-cpython-311\\pandas\\tests\\arrays\\categorical\n",
      "      copying pandas\\tests\\arrays\\categorical\\test_constructors.py -> build\\lib.win-amd64-cpython-311\\pandas\\tests\\arrays\\categorical\n",
      "      copying pandas\\tests\\arrays\\categorical\\test_dtypes.py -> build\\lib.win-amd64-cpython-311\\pandas\\tests\\arrays\\categorical\n",
      "      copying pandas\\tests\\arrays\\categorical\\test_indexing.py -> build\\lib.win-amd64-cpython-311\\pandas\\tests\\arrays\\categorical\n",
      "      copying pandas\\tests\\arrays\\categorical\\test_missing.py -> build\\lib.win-amd64-cpython-311\\pandas\\tests\\arrays\\categorical\n",
      "      copying pandas\\tests\\arrays\\categorical\\test_operators.py -> build\\lib.win-amd64-cpython-311\\pandas\\tests\\arrays\\categorical\n",
      "      copying pandas\\tests\\arrays\\categorical\\test_repr.py -> build\\lib.win-amd64-cpython-311\\pandas\\tests\\arrays\\categorical\n",
      "      copying pandas\\tests\\arrays\\categorical\\test_sorting.py -> build\\lib.win-amd64-cpython-311\\pandas\\tests\\arrays\\categorical\n",
      "      copying pandas\\tests\\arrays\\categorical\\test_subclass.py -> build\\lib.win-amd64-cpython-311\\pandas\\tests\\arrays\\categorical\n",
      "      copying pandas\\tests\\arrays\\categorical\\test_warnings.py -> build\\lib.win-amd64-cpython-311\\pandas\\tests\\arrays\\categorical\n",
      "      copying pandas\\tests\\arrays\\categorical\\__init__.py -> build\\lib.win-amd64-cpython-311\\pandas\\tests\\arrays\\categorical\n",
      "      creating build\\lib.win-amd64-cpython-311\\pandas\\tests\\arrays\\interval\n",
      "      copying pandas\\tests\\arrays\\interval\\test_interval.py -> build\\lib.win-amd64-cpython-311\\pandas\\tests\\arrays\\interval\n",
      "      copying pandas\\tests\\arrays\\interval\\test_ops.py -> build\\lib.win-amd64-cpython-311\\pandas\\tests\\arrays\\interval\n",
      "      copying pandas\\tests\\arrays\\interval\\__init__.py -> build\\lib.win-amd64-cpython-311\\pandas\\tests\\arrays\\interval\n",
      "      creating build\\lib.win-amd64-cpython-311\\pandas\\tests\\arrays\\sparse\n",
      "      copying pandas\\tests\\arrays\\sparse\\test_arithmetics.py -> build\\lib.win-amd64-cpython-311\\pandas\\tests\\arrays\\sparse\n",
      "      copying pandas\\tests\\arrays\\sparse\\test_array.py -> build\\lib.win-amd64-cpython-311\\pandas\\tests\\arrays\\sparse\n",
      "      copying pandas\\tests\\arrays\\sparse\\test_dtype.py -> build\\lib.win-amd64-cpython-311\\pandas\\tests\\arrays\\sparse\n",
      "      copying pandas\\tests\\arrays\\sparse\\test_libsparse.py -> build\\lib.win-amd64-cpython-311\\pandas\\tests\\arrays\\sparse\n",
      "      copying pandas\\tests\\arrays\\sparse\\__init__.py -> build\\lib.win-amd64-cpython-311\\pandas\\tests\\arrays\\sparse\n",
      "      creating build\\lib.win-amd64-cpython-311\\pandas\\tests\\dtypes\\cast\n",
      "      copying pandas\\tests\\dtypes\\cast\\test_construct_from_scalar.py -> build\\lib.win-amd64-cpython-311\\pandas\\tests\\dtypes\\cast\n",
      "      copying pandas\\tests\\dtypes\\cast\\test_construct_ndarray.py -> build\\lib.win-amd64-cpython-311\\pandas\\tests\\dtypes\\cast\n",
      "      copying pandas\\tests\\dtypes\\cast\\test_construct_object_arr.py -> build\\lib.win-amd64-cpython-311\\pandas\\tests\\dtypes\\cast\n",
      "      copying pandas\\tests\\dtypes\\cast\\test_convert_objects.py -> build\\lib.win-amd64-cpython-311\\pandas\\tests\\dtypes\\cast\n",
      "      copying pandas\\tests\\dtypes\\cast\\test_downcast.py -> build\\lib.win-amd64-cpython-311\\pandas\\tests\\dtypes\\cast\n",
      "      copying pandas\\tests\\dtypes\\cast\\test_find_common_type.py -> build\\lib.win-amd64-cpython-311\\pandas\\tests\\dtypes\\cast\n",
      "      copying pandas\\tests\\dtypes\\cast\\test_infer_datetimelike.py -> build\\lib.win-amd64-cpython-311\\pandas\\tests\\dtypes\\cast\n",
      "      copying pandas\\tests\\dtypes\\cast\\test_infer_dtype.py -> build\\lib.win-amd64-cpython-311\\pandas\\tests\\dtypes\\cast\n",
      "      copying pandas\\tests\\dtypes\\cast\\__init__.py -> build\\lib.win-amd64-cpython-311\\pandas\\tests\\dtypes\\cast\n",
      "      creating build\\lib.win-amd64-cpython-311\\pandas\\tests\\extension\\arrow\n",
      "      copying pandas\\tests\\extension\\arrow\\bool.py -> build\\lib.win-amd64-cpython-311\\pandas\\tests\\extension\\arrow\n",
      "      copying pandas\\tests\\extension\\arrow\\test_bool.py -> build\\lib.win-amd64-cpython-311\\pandas\\tests\\extension\\arrow\n",
      "      copying pandas\\tests\\extension\\arrow\\__init__.py -> build\\lib.win-amd64-cpython-311\\pandas\\tests\\extension\\arrow\n",
      "      creating build\\lib.win-amd64-cpython-311\\pandas\\tests\\extension\\base\n",
      "      copying pandas\\tests\\extension\\base\\base.py -> build\\lib.win-amd64-cpython-311\\pandas\\tests\\extension\\base\n",
      "      copying pandas\\tests\\extension\\base\\casting.py -> build\\lib.win-amd64-cpython-311\\pandas\\tests\\extension\\base\n",
      "      copying pandas\\tests\\extension\\base\\constructors.py -> build\\lib.win-amd64-cpython-311\\pandas\\tests\\extension\\base\n",
      "      copying pandas\\tests\\extension\\base\\dtype.py -> build\\lib.win-amd64-cpython-311\\pandas\\tests\\extension\\base\n",
      "      copying pandas\\tests\\extension\\base\\getitem.py -> build\\lib.win-amd64-cpython-311\\pandas\\tests\\extension\\base\n",
      "      copying pandas\\tests\\extension\\base\\groupby.py -> build\\lib.win-amd64-cpython-311\\pandas\\tests\\extension\\base\n",
      "      copying pandas\\tests\\extension\\base\\interface.py -> build\\lib.win-amd64-cpython-311\\pandas\\tests\\extension\\base\n",
      "      copying pandas\\tests\\extension\\base\\io.py -> build\\lib.win-amd64-cpython-311\\pandas\\tests\\extension\\base\n",
      "      copying pandas\\tests\\extension\\base\\methods.py -> build\\lib.win-amd64-cpython-311\\pandas\\tests\\extension\\base\n",
      "      copying pandas\\tests\\extension\\base\\missing.py -> build\\lib.win-amd64-cpython-311\\pandas\\tests\\extension\\base\n",
      "      copying pandas\\tests\\extension\\base\\ops.py -> build\\lib.win-amd64-cpython-311\\pandas\\tests\\extension\\base\n",
      "      copying pandas\\tests\\extension\\base\\printing.py -> build\\lib.win-amd64-cpython-311\\pandas\\tests\\extension\\base\n",
      "      copying pandas\\tests\\extension\\base\\reduce.py -> build\\lib.win-amd64-cpython-311\\pandas\\tests\\extension\\base\n",
      "      copying pandas\\tests\\extension\\base\\reshaping.py -> build\\lib.win-amd64-cpython-311\\pandas\\tests\\extension\\base\n",
      "      copying pandas\\tests\\extension\\base\\setitem.py -> build\\lib.win-amd64-cpython-311\\pandas\\tests\\extension\\base\n",
      "      copying pandas\\tests\\extension\\base\\__init__.py -> build\\lib.win-amd64-cpython-311\\pandas\\tests\\extension\\base\n",
      "      creating build\\lib.win-amd64-cpython-311\\pandas\\tests\\extension\\decimal\n",
      "      copying pandas\\tests\\extension\\decimal\\array.py -> build\\lib.win-amd64-cpython-311\\pandas\\tests\\extension\\decimal\n",
      "      copying pandas\\tests\\extension\\decimal\\test_decimal.py -> build\\lib.win-amd64-cpython-311\\pandas\\tests\\extension\\decimal\n",
      "      copying pandas\\tests\\extension\\decimal\\__init__.py -> build\\lib.win-amd64-cpython-311\\pandas\\tests\\extension\\decimal\n",
      "      creating build\\lib.win-amd64-cpython-311\\pandas\\tests\\extension\\json\n",
      "      copying pandas\\tests\\extension\\json\\array.py -> build\\lib.win-amd64-cpython-311\\pandas\\tests\\extension\\json\n",
      "      copying pandas\\tests\\extension\\json\\test_json.py -> build\\lib.win-amd64-cpython-311\\pandas\\tests\\extension\\json\n",
      "      copying pandas\\tests\\extension\\json\\__init__.py -> build\\lib.win-amd64-cpython-311\\pandas\\tests\\extension\\json\n",
      "      creating build\\lib.win-amd64-cpython-311\\pandas\\tests\\extension\\numpy_\n",
      "      copying pandas\\tests\\extension\\numpy_\\conftest.py -> build\\lib.win-amd64-cpython-311\\pandas\\tests\\extension\\numpy_\n",
      "      copying pandas\\tests\\extension\\numpy_\\test_numpy.py -> build\\lib.win-amd64-cpython-311\\pandas\\tests\\extension\\numpy_\n",
      "      copying pandas\\tests\\extension\\numpy_\\test_numpy_nested.py -> build\\lib.win-amd64-cpython-311\\pandas\\tests\\extension\\numpy_\n",
      "      copying pandas\\tests\\extension\\numpy_\\__init__.py -> build\\lib.win-amd64-cpython-311\\pandas\\tests\\extension\\numpy_\n",
      "      creating build\\lib.win-amd64-cpython-311\\pandas\\tests\\groupby\\aggregate\n",
      "      copying pandas\\tests\\groupby\\aggregate\\test_aggregate.py -> build\\lib.win-amd64-cpython-311\\pandas\\tests\\groupby\\aggregate\n",
      "      copying pandas\\tests\\groupby\\aggregate\\test_cython.py -> build\\lib.win-amd64-cpython-311\\pandas\\tests\\groupby\\aggregate\n",
      "      copying pandas\\tests\\groupby\\aggregate\\test_other.py -> build\\lib.win-amd64-cpython-311\\pandas\\tests\\groupby\\aggregate\n",
      "      copying pandas\\tests\\groupby\\aggregate\\__init__.py -> build\\lib.win-amd64-cpython-311\\pandas\\tests\\groupby\\aggregate\n",
      "      creating build\\lib.win-amd64-cpython-311\\pandas\\tests\\indexes\\datetimes\n",
      "      copying pandas\\tests\\indexes\\datetimes\\test_arithmetic.py -> build\\lib.win-amd64-cpython-311\\pandas\\tests\\indexes\\datetimes\n",
      "      copying pandas\\tests\\indexes\\datetimes\\test_astype.py -> build\\lib.win-amd64-cpython-311\\pandas\\tests\\indexes\\datetimes\n",
      "      copying pandas\\tests\\indexes\\datetimes\\test_construction.py -> build\\lib.win-amd64-cpython-311\\pandas\\tests\\indexes\\datetimes\n",
      "      copying pandas\\tests\\indexes\\datetimes\\test_datetime.py -> build\\lib.win-amd64-cpython-311\\pandas\\tests\\indexes\\datetimes\n",
      "      copying pandas\\tests\\indexes\\datetimes\\test_datetimelike.py -> build\\lib.win-amd64-cpython-311\\pandas\\tests\\indexes\\datetimes\n",
      "      copying pandas\\tests\\indexes\\datetimes\\test_date_range.py -> build\\lib.win-amd64-cpython-311\\pandas\\tests\\indexes\\datetimes\n",
      "      copying pandas\\tests\\indexes\\datetimes\\test_formats.py -> build\\lib.win-amd64-cpython-311\\pandas\\tests\\indexes\\datetimes\n",
      "      copying pandas\\tests\\indexes\\datetimes\\test_indexing.py -> build\\lib.win-amd64-cpython-311\\pandas\\tests\\indexes\\datetimes\n",
      "      copying pandas\\tests\\indexes\\datetimes\\test_misc.py -> build\\lib.win-amd64-cpython-311\\pandas\\tests\\indexes\\datetimes\n",
      "      copying pandas\\tests\\indexes\\datetimes\\test_missing.py -> build\\lib.win-amd64-cpython-311\\pandas\\tests\\indexes\\datetimes\n",
      "      copying pandas\\tests\\indexes\\datetimes\\test_ops.py -> build\\lib.win-amd64-cpython-311\\pandas\\tests\\indexes\\datetimes\n",
      "      copying pandas\\tests\\indexes\\datetimes\\test_partial_slicing.py -> build\\lib.win-amd64-cpython-311\\pandas\\tests\\indexes\\datetimes\n",
      "      copying pandas\\tests\\indexes\\datetimes\\test_scalar_compat.py -> build\\lib.win-amd64-cpython-311\\pandas\\tests\\indexes\\datetimes\n",
      "      copying pandas\\tests\\indexes\\datetimes\\test_setops.py -> build\\lib.win-amd64-cpython-311\\pandas\\tests\\indexes\\datetimes\n",
      "      copying pandas\\tests\\indexes\\datetimes\\test_timezones.py -> build\\lib.win-amd64-cpython-311\\pandas\\tests\\indexes\\datetimes\n",
      "      copying pandas\\tests\\indexes\\datetimes\\test_tools.py -> build\\lib.win-amd64-cpython-311\\pandas\\tests\\indexes\\datetimes\n",
      "      copying pandas\\tests\\indexes\\datetimes\\__init__.py -> build\\lib.win-amd64-cpython-311\\pandas\\tests\\indexes\\datetimes\n",
      "      creating build\\lib.win-amd64-cpython-311\\pandas\\tests\\indexes\\interval\n",
      "      copying pandas\\tests\\indexes\\interval\\test_astype.py -> build\\lib.win-amd64-cpython-311\\pandas\\tests\\indexes\\interval\n",
      "      copying pandas\\tests\\indexes\\interval\\test_construction.py -> build\\lib.win-amd64-cpython-311\\pandas\\tests\\indexes\\interval\n",
      "      copying pandas\\tests\\indexes\\interval\\test_interval.py -> build\\lib.win-amd64-cpython-311\\pandas\\tests\\indexes\\interval\n",
      "      copying pandas\\tests\\indexes\\interval\\test_interval_new.py -> build\\lib.win-amd64-cpython-311\\pandas\\tests\\indexes\\interval\n",
      "      copying pandas\\tests\\indexes\\interval\\test_interval_range.py -> build\\lib.win-amd64-cpython-311\\pandas\\tests\\indexes\\interval\n",
      "      copying pandas\\tests\\indexes\\interval\\test_interval_tree.py -> build\\lib.win-amd64-cpython-311\\pandas\\tests\\indexes\\interval\n",
      "      copying pandas\\tests\\indexes\\interval\\__init__.py -> build\\lib.win-amd64-cpython-311\\pandas\\tests\\indexes\\interval\n",
      "      creating build\\lib.win-amd64-cpython-311\\pandas\\tests\\indexes\\multi\n",
      "      copying pandas\\tests\\indexes\\multi\\conftest.py -> build\\lib.win-amd64-cpython-311\\pandas\\tests\\indexes\\multi\n",
      "      copying pandas\\tests\\indexes\\multi\\test_analytics.py -> build\\lib.win-amd64-cpython-311\\pandas\\tests\\indexes\\multi\n",
      "      copying pandas\\tests\\indexes\\multi\\test_astype.py -> build\\lib.win-amd64-cpython-311\\pandas\\tests\\indexes\\multi\n",
      "      copying pandas\\tests\\indexes\\multi\\test_compat.py -> build\\lib.win-amd64-cpython-311\\pandas\\tests\\indexes\\multi\n",
      "      copying pandas\\tests\\indexes\\multi\\test_constructor.py -> build\\lib.win-amd64-cpython-311\\pandas\\tests\\indexes\\multi\n",
      "      copying pandas\\tests\\indexes\\multi\\test_contains.py -> build\\lib.win-amd64-cpython-311\\pandas\\tests\\indexes\\multi\n",
      "      copying pandas\\tests\\indexes\\multi\\test_conversion.py -> build\\lib.win-amd64-cpython-311\\pandas\\tests\\indexes\\multi\n",
      "      copying pandas\\tests\\indexes\\multi\\test_copy.py -> build\\lib.win-amd64-cpython-311\\pandas\\tests\\indexes\\multi\n",
      "      copying pandas\\tests\\indexes\\multi\\test_drop.py -> build\\lib.win-amd64-cpython-311\\pandas\\tests\\indexes\\multi\n",
      "      copying pandas\\tests\\indexes\\multi\\test_duplicates.py -> build\\lib.win-amd64-cpython-311\\pandas\\tests\\indexes\\multi\n",
      "      copying pandas\\tests\\indexes\\multi\\test_equivalence.py -> build\\lib.win-amd64-cpython-311\\pandas\\tests\\indexes\\multi\n",
      "      copying pandas\\tests\\indexes\\multi\\test_format.py -> build\\lib.win-amd64-cpython-311\\pandas\\tests\\indexes\\multi\n",
      "      copying pandas\\tests\\indexes\\multi\\test_get_set.py -> build\\lib.win-amd64-cpython-311\\pandas\\tests\\indexes\\multi\n",
      "      copying pandas\\tests\\indexes\\multi\\test_indexing.py -> build\\lib.win-amd64-cpython-311\\pandas\\tests\\indexes\\multi\n",
      "      copying pandas\\tests\\indexes\\multi\\test_integrity.py -> build\\lib.win-amd64-cpython-311\\pandas\\tests\\indexes\\multi\n",
      "      copying pandas\\tests\\indexes\\multi\\test_join.py -> build\\lib.win-amd64-cpython-311\\pandas\\tests\\indexes\\multi\n",
      "      copying pandas\\tests\\indexes\\multi\\test_missing.py -> build\\lib.win-amd64-cpython-311\\pandas\\tests\\indexes\\multi\n",
      "      copying pandas\\tests\\indexes\\multi\\test_monotonic.py -> build\\lib.win-amd64-cpython-311\\pandas\\tests\\indexes\\multi\n",
      "      copying pandas\\tests\\indexes\\multi\\test_names.py -> build\\lib.win-amd64-cpython-311\\pandas\\tests\\indexes\\multi\n",
      "      copying pandas\\tests\\indexes\\multi\\test_partial_indexing.py -> build\\lib.win-amd64-cpython-311\\pandas\\tests\\indexes\\multi\n",
      "      copying pandas\\tests\\indexes\\multi\\test_reindex.py -> build\\lib.win-amd64-cpython-311\\pandas\\tests\\indexes\\multi\n",
      "      copying pandas\\tests\\indexes\\multi\\test_reshape.py -> build\\lib.win-amd64-cpython-311\\pandas\\tests\\indexes\\multi\n",
      "      copying pandas\\tests\\indexes\\multi\\test_set_ops.py -> build\\lib.win-amd64-cpython-311\\pandas\\tests\\indexes\\multi\n",
      "      copying pandas\\tests\\indexes\\multi\\test_sorting.py -> build\\lib.win-amd64-cpython-311\\pandas\\tests\\indexes\\multi\n",
      "      copying pandas\\tests\\indexes\\multi\\__init__.py -> build\\lib.win-amd64-cpython-311\\pandas\\tests\\indexes\\multi\n",
      "      creating build\\lib.win-amd64-cpython-311\\pandas\\tests\\indexes\\period\n",
      "      copying pandas\\tests\\indexes\\period\\test_arithmetic.py -> build\\lib.win-amd64-cpython-311\\pandas\\tests\\indexes\\period\n",
      "      copying pandas\\tests\\indexes\\period\\test_asfreq.py -> build\\lib.win-amd64-cpython-311\\pandas\\tests\\indexes\\period\n",
      "      copying pandas\\tests\\indexes\\period\\test_astype.py -> build\\lib.win-amd64-cpython-311\\pandas\\tests\\indexes\\period\n",
      "      copying pandas\\tests\\indexes\\period\\test_construction.py -> build\\lib.win-amd64-cpython-311\\pandas\\tests\\indexes\\period\n",
      "      copying pandas\\tests\\indexes\\period\\test_formats.py -> build\\lib.win-amd64-cpython-311\\pandas\\tests\\indexes\\period\n",
      "      copying pandas\\tests\\indexes\\period\\test_indexing.py -> build\\lib.win-amd64-cpython-311\\pandas\\tests\\indexes\\period\n",
      "      copying pandas\\tests\\indexes\\period\\test_ops.py -> build\\lib.win-amd64-cpython-311\\pandas\\tests\\indexes\\period\n",
      "      copying pandas\\tests\\indexes\\period\\test_partial_slicing.py -> build\\lib.win-amd64-cpython-311\\pandas\\tests\\indexes\\period\n",
      "      copying pandas\\tests\\indexes\\period\\test_period.py -> build\\lib.win-amd64-cpython-311\\pandas\\tests\\indexes\\period\n",
      "      copying pandas\\tests\\indexes\\period\\test_period_range.py -> build\\lib.win-amd64-cpython-311\\pandas\\tests\\indexes\\period\n",
      "      copying pandas\\tests\\indexes\\period\\test_scalar_compat.py -> build\\lib.win-amd64-cpython-311\\pandas\\tests\\indexes\\period\n",
      "      copying pandas\\tests\\indexes\\period\\test_setops.py -> build\\lib.win-amd64-cpython-311\\pandas\\tests\\indexes\\period\n",
      "      copying pandas\\tests\\indexes\\period\\test_tools.py -> build\\lib.win-amd64-cpython-311\\pandas\\tests\\indexes\\period\n",
      "      copying pandas\\tests\\indexes\\period\\__init__.py -> build\\lib.win-amd64-cpython-311\\pandas\\tests\\indexes\\period\n",
      "      creating build\\lib.win-amd64-cpython-311\\pandas\\tests\\indexes\\timedeltas\n",
      "      copying pandas\\tests\\indexes\\timedeltas\\test_arithmetic.py -> build\\lib.win-amd64-cpython-311\\pandas\\tests\\indexes\\timedeltas\n",
      "      copying pandas\\tests\\indexes\\timedeltas\\test_astype.py -> build\\lib.win-amd64-cpython-311\\pandas\\tests\\indexes\\timedeltas\n",
      "      copying pandas\\tests\\indexes\\timedeltas\\test_construction.py -> build\\lib.win-amd64-cpython-311\\pandas\\tests\\indexes\\timedeltas\n",
      "      copying pandas\\tests\\indexes\\timedeltas\\test_formats.py -> build\\lib.win-amd64-cpython-311\\pandas\\tests\\indexes\\timedeltas\n",
      "      copying pandas\\tests\\indexes\\timedeltas\\test_indexing.py -> build\\lib.win-amd64-cpython-311\\pandas\\tests\\indexes\\timedeltas\n",
      "      copying pandas\\tests\\indexes\\timedeltas\\test_ops.py -> build\\lib.win-amd64-cpython-311\\pandas\\tests\\indexes\\timedeltas\n",
      "      copying pandas\\tests\\indexes\\timedeltas\\test_partial_slicing.py -> build\\lib.win-amd64-cpython-311\\pandas\\tests\\indexes\\timedeltas\n",
      "      copying pandas\\tests\\indexes\\timedeltas\\test_scalar_compat.py -> build\\lib.win-amd64-cpython-311\\pandas\\tests\\indexes\\timedeltas\n",
      "      copying pandas\\tests\\indexes\\timedeltas\\test_setops.py -> build\\lib.win-amd64-cpython-311\\pandas\\tests\\indexes\\timedeltas\n",
      "      copying pandas\\tests\\indexes\\timedeltas\\test_timedelta.py -> build\\lib.win-amd64-cpython-311\\pandas\\tests\\indexes\\timedeltas\n",
      "      copying pandas\\tests\\indexes\\timedeltas\\test_timedelta_range.py -> build\\lib.win-amd64-cpython-311\\pandas\\tests\\indexes\\timedeltas\n",
      "      copying pandas\\tests\\indexes\\timedeltas\\test_tools.py -> build\\lib.win-amd64-cpython-311\\pandas\\tests\\indexes\\timedeltas\n",
      "      copying pandas\\tests\\indexes\\timedeltas\\__init__.py -> build\\lib.win-amd64-cpython-311\\pandas\\tests\\indexes\\timedeltas\n",
      "      creating build\\lib.win-amd64-cpython-311\\pandas\\tests\\indexing\\interval\n",
      "      copying pandas\\tests\\indexing\\interval\\test_interval.py -> build\\lib.win-amd64-cpython-311\\pandas\\tests\\indexing\\interval\n",
      "      copying pandas\\tests\\indexing\\interval\\test_interval_new.py -> build\\lib.win-amd64-cpython-311\\pandas\\tests\\indexing\\interval\n",
      "      copying pandas\\tests\\indexing\\interval\\__init__.py -> build\\lib.win-amd64-cpython-311\\pandas\\tests\\indexing\\interval\n",
      "      creating build\\lib.win-amd64-cpython-311\\pandas\\tests\\indexing\\multiindex\n",
      "      copying pandas\\tests\\indexing\\multiindex\\conftest.py -> build\\lib.win-amd64-cpython-311\\pandas\\tests\\indexing\\multiindex\n",
      "      copying pandas\\tests\\indexing\\multiindex\\test_chaining_and_caching.py -> build\\lib.win-amd64-cpython-311\\pandas\\tests\\indexing\\multiindex\n",
      "      copying pandas\\tests\\indexing\\multiindex\\test_datetime.py -> build\\lib.win-amd64-cpython-311\\pandas\\tests\\indexing\\multiindex\n",
      "      copying pandas\\tests\\indexing\\multiindex\\test_getitem.py -> build\\lib.win-amd64-cpython-311\\pandas\\tests\\indexing\\multiindex\n",
      "      copying pandas\\tests\\indexing\\multiindex\\test_iloc.py -> build\\lib.win-amd64-cpython-311\\pandas\\tests\\indexing\\multiindex\n",
      "      copying pandas\\tests\\indexing\\multiindex\\test_indexing_slow.py -> build\\lib.win-amd64-cpython-311\\pandas\\tests\\indexing\\multiindex\n",
      "      copying pandas\\tests\\indexing\\multiindex\\test_ix.py -> build\\lib.win-amd64-cpython-311\\pandas\\tests\\indexing\\multiindex\n",
      "      copying pandas\\tests\\indexing\\multiindex\\test_loc.py -> build\\lib.win-amd64-cpython-311\\pandas\\tests\\indexing\\multiindex\n",
      "      copying pandas\\tests\\indexing\\multiindex\\test_multiindex.py -> build\\lib.win-amd64-cpython-311\\pandas\\tests\\indexing\\multiindex\n",
      "      copying pandas\\tests\\indexing\\multiindex\\test_panel.py -> build\\lib.win-amd64-cpython-311\\pandas\\tests\\indexing\\multiindex\n",
      "      copying pandas\\tests\\indexing\\multiindex\\test_partial.py -> build\\lib.win-amd64-cpython-311\\pandas\\tests\\indexing\\multiindex\n",
      "      copying pandas\\tests\\indexing\\multiindex\\test_setitem.py -> build\\lib.win-amd64-cpython-311\\pandas\\tests\\indexing\\multiindex\n",
      "      copying pandas\\tests\\indexing\\multiindex\\test_set_ops.py -> build\\lib.win-amd64-cpython-311\\pandas\\tests\\indexing\\multiindex\n",
      "      copying pandas\\tests\\indexing\\multiindex\\test_slice.py -> build\\lib.win-amd64-cpython-311\\pandas\\tests\\indexing\\multiindex\n",
      "      copying pandas\\tests\\indexing\\multiindex\\test_sorted.py -> build\\lib.win-amd64-cpython-311\\pandas\\tests\\indexing\\multiindex\n",
      "      copying pandas\\tests\\indexing\\multiindex\\test_xs.py -> build\\lib.win-amd64-cpython-311\\pandas\\tests\\indexing\\multiindex\n",
      "      copying pandas\\tests\\indexing\\multiindex\\__init__.py -> build\\lib.win-amd64-cpython-311\\pandas\\tests\\indexing\\multiindex\n",
      "      creating build\\lib.win-amd64-cpython-311\\pandas\\tests\\io\\formats\n",
      "      copying pandas\\tests\\io\\formats\\test_console.py -> build\\lib.win-amd64-cpython-311\\pandas\\tests\\io\\formats\n",
      "      copying pandas\\tests\\io\\formats\\test_css.py -> build\\lib.win-amd64-cpython-311\\pandas\\tests\\io\\formats\n",
      "      copying pandas\\tests\\io\\formats\\test_eng_formatting.py -> build\\lib.win-amd64-cpython-311\\pandas\\tests\\io\\formats\n",
      "      copying pandas\\tests\\io\\formats\\test_format.py -> build\\lib.win-amd64-cpython-311\\pandas\\tests\\io\\formats\n",
      "      copying pandas\\tests\\io\\formats\\test_printing.py -> build\\lib.win-amd64-cpython-311\\pandas\\tests\\io\\formats\n",
      "      copying pandas\\tests\\io\\formats\\test_style.py -> build\\lib.win-amd64-cpython-311\\pandas\\tests\\io\\formats\n",
      "      copying pandas\\tests\\io\\formats\\test_to_csv.py -> build\\lib.win-amd64-cpython-311\\pandas\\tests\\io\\formats\n",
      "      copying pandas\\tests\\io\\formats\\test_to_excel.py -> build\\lib.win-amd64-cpython-311\\pandas\\tests\\io\\formats\n",
      "      copying pandas\\tests\\io\\formats\\test_to_html.py -> build\\lib.win-amd64-cpython-311\\pandas\\tests\\io\\formats\n",
      "      copying pandas\\tests\\io\\formats\\test_to_latex.py -> build\\lib.win-amd64-cpython-311\\pandas\\tests\\io\\formats\n",
      "      copying pandas\\tests\\io\\formats\\__init__.py -> build\\lib.win-amd64-cpython-311\\pandas\\tests\\io\\formats\n",
      "      creating build\\lib.win-amd64-cpython-311\\pandas\\tests\\io\\json\n",
      "      copying pandas\\tests\\io\\json\\test_compression.py -> build\\lib.win-amd64-cpython-311\\pandas\\tests\\io\\json\n",
      "      copying pandas\\tests\\io\\json\\test_json_table_schema.py -> build\\lib.win-amd64-cpython-311\\pandas\\tests\\io\\json\n",
      "      copying pandas\\tests\\io\\json\\test_normalize.py -> build\\lib.win-amd64-cpython-311\\pandas\\tests\\io\\json\n",
      "      copying pandas\\tests\\io\\json\\test_pandas.py -> build\\lib.win-amd64-cpython-311\\pandas\\tests\\io\\json\n",
      "      copying pandas\\tests\\io\\json\\test_readlines.py -> build\\lib.win-amd64-cpython-311\\pandas\\tests\\io\\json\n",
      "      copying pandas\\tests\\io\\json\\test_ujson.py -> build\\lib.win-amd64-cpython-311\\pandas\\tests\\io\\json\n",
      "      copying pandas\\tests\\io\\json\\__init__.py -> build\\lib.win-amd64-cpython-311\\pandas\\tests\\io\\json\n",
      "      creating build\\lib.win-amd64-cpython-311\\pandas\\tests\\io\\msgpack\n",
      "      copying pandas\\tests\\io\\msgpack\\common.py -> build\\lib.win-amd64-cpython-311\\pandas\\tests\\io\\msgpack\n",
      "      copying pandas\\tests\\io\\msgpack\\test_buffer.py -> build\\lib.win-amd64-cpython-311\\pandas\\tests\\io\\msgpack\n",
      "      copying pandas\\tests\\io\\msgpack\\test_case.py -> build\\lib.win-amd64-cpython-311\\pandas\\tests\\io\\msgpack\n",
      "      copying pandas\\tests\\io\\msgpack\\test_except.py -> build\\lib.win-amd64-cpython-311\\pandas\\tests\\io\\msgpack\n",
      "      copying pandas\\tests\\io\\msgpack\\test_extension.py -> build\\lib.win-amd64-cpython-311\\pandas\\tests\\io\\msgpack\n",
      "      copying pandas\\tests\\io\\msgpack\\test_format.py -> build\\lib.win-amd64-cpython-311\\pandas\\tests\\io\\msgpack\n",
      "      copying pandas\\tests\\io\\msgpack\\test_limits.py -> build\\lib.win-amd64-cpython-311\\pandas\\tests\\io\\msgpack\n",
      "      copying pandas\\tests\\io\\msgpack\\test_newspec.py -> build\\lib.win-amd64-cpython-311\\pandas\\tests\\io\\msgpack\n",
      "      copying pandas\\tests\\io\\msgpack\\test_obj.py -> build\\lib.win-amd64-cpython-311\\pandas\\tests\\io\\msgpack\n",
      "      copying pandas\\tests\\io\\msgpack\\test_pack.py -> build\\lib.win-amd64-cpython-311\\pandas\\tests\\io\\msgpack\n",
      "      copying pandas\\tests\\io\\msgpack\\test_read_size.py -> build\\lib.win-amd64-cpython-311\\pandas\\tests\\io\\msgpack\n",
      "      copying pandas\\tests\\io\\msgpack\\test_seq.py -> build\\lib.win-amd64-cpython-311\\pandas\\tests\\io\\msgpack\n",
      "      copying pandas\\tests\\io\\msgpack\\test_sequnpack.py -> build\\lib.win-amd64-cpython-311\\pandas\\tests\\io\\msgpack\n",
      "      copying pandas\\tests\\io\\msgpack\\test_subtype.py -> build\\lib.win-amd64-cpython-311\\pandas\\tests\\io\\msgpack\n",
      "      copying pandas\\tests\\io\\msgpack\\test_unpack.py -> build\\lib.win-amd64-cpython-311\\pandas\\tests\\io\\msgpack\n",
      "      copying pandas\\tests\\io\\msgpack\\test_unpack_raw.py -> build\\lib.win-amd64-cpython-311\\pandas\\tests\\io\\msgpack\n",
      "      copying pandas\\tests\\io\\msgpack\\__init__.py -> build\\lib.win-amd64-cpython-311\\pandas\\tests\\io\\msgpack\n",
      "      creating build\\lib.win-amd64-cpython-311\\pandas\\tests\\io\\parser\n",
      "      copying pandas\\tests\\io\\parser\\conftest.py -> build\\lib.win-amd64-cpython-311\\pandas\\tests\\io\\parser\n",
      "      copying pandas\\tests\\io\\parser\\test_comment.py -> build\\lib.win-amd64-cpython-311\\pandas\\tests\\io\\parser\n",
      "      copying pandas\\tests\\io\\parser\\test_common.py -> build\\lib.win-amd64-cpython-311\\pandas\\tests\\io\\parser\n",
      "      copying pandas\\tests\\io\\parser\\test_compression.py -> build\\lib.win-amd64-cpython-311\\pandas\\tests\\io\\parser\n",
      "      copying pandas\\tests\\io\\parser\\test_converters.py -> build\\lib.win-amd64-cpython-311\\pandas\\tests\\io\\parser\n",
      "      copying pandas\\tests\\io\\parser\\test_c_parser_only.py -> build\\lib.win-amd64-cpython-311\\pandas\\tests\\io\\parser\n",
      "      copying pandas\\tests\\io\\parser\\test_dialect.py -> build\\lib.win-amd64-cpython-311\\pandas\\tests\\io\\parser\n",
      "      copying pandas\\tests\\io\\parser\\test_dtypes.py -> build\\lib.win-amd64-cpython-311\\pandas\\tests\\io\\parser\n",
      "      copying pandas\\tests\\io\\parser\\test_header.py -> build\\lib.win-amd64-cpython-311\\pandas\\tests\\io\\parser\n",
      "      copying pandas\\tests\\io\\parser\\test_index_col.py -> build\\lib.win-amd64-cpython-311\\pandas\\tests\\io\\parser\n",
      "      copying pandas\\tests\\io\\parser\\test_mangle_dupes.py -> build\\lib.win-amd64-cpython-311\\pandas\\tests\\io\\parser\n",
      "      copying pandas\\tests\\io\\parser\\test_multi_thread.py -> build\\lib.win-amd64-cpython-311\\pandas\\tests\\io\\parser\n",
      "      copying pandas\\tests\\io\\parser\\test_na_values.py -> build\\lib.win-amd64-cpython-311\\pandas\\tests\\io\\parser\n",
      "      copying pandas\\tests\\io\\parser\\test_network.py -> build\\lib.win-amd64-cpython-311\\pandas\\tests\\io\\parser\n",
      "      copying pandas\\tests\\io\\parser\\test_parse_dates.py -> build\\lib.win-amd64-cpython-311\\pandas\\tests\\io\\parser\n",
      "      copying pandas\\tests\\io\\parser\\test_python_parser_only.py -> build\\lib.win-amd64-cpython-311\\pandas\\tests\\io\\parser\n",
      "      copying pandas\\tests\\io\\parser\\test_quoting.py -> build\\lib.win-amd64-cpython-311\\pandas\\tests\\io\\parser\n",
      "      copying pandas\\tests\\io\\parser\\test_read_fwf.py -> build\\lib.win-amd64-cpython-311\\pandas\\tests\\io\\parser\n",
      "      copying pandas\\tests\\io\\parser\\test_skiprows.py -> build\\lib.win-amd64-cpython-311\\pandas\\tests\\io\\parser\n",
      "      copying pandas\\tests\\io\\parser\\test_textreader.py -> build\\lib.win-amd64-cpython-311\\pandas\\tests\\io\\parser\n",
      "      copying pandas\\tests\\io\\parser\\test_unsupported.py -> build\\lib.win-amd64-cpython-311\\pandas\\tests\\io\\parser\n",
      "      copying pandas\\tests\\io\\parser\\test_usecols.py -> build\\lib.win-amd64-cpython-311\\pandas\\tests\\io\\parser\n",
      "      copying pandas\\tests\\io\\parser\\__init__.py -> build\\lib.win-amd64-cpython-311\\pandas\\tests\\io\\parser\n",
      "      creating build\\lib.win-amd64-cpython-311\\pandas\\tests\\io\\sas\n",
      "      copying pandas\\tests\\io\\sas\\test_sas.py -> build\\lib.win-amd64-cpython-311\\pandas\\tests\\io\\sas\n",
      "      copying pandas\\tests\\io\\sas\\test_sas7bdat.py -> build\\lib.win-amd64-cpython-311\\pandas\\tests\\io\\sas\n",
      "      copying pandas\\tests\\io\\sas\\test_xport.py -> build\\lib.win-amd64-cpython-311\\pandas\\tests\\io\\sas\n",
      "      copying pandas\\tests\\io\\sas\\__init__.py -> build\\lib.win-amd64-cpython-311\\pandas\\tests\\io\\sas\n",
      "      creating build\\lib.win-amd64-cpython-311\\pandas\\tests\\reshape\\merge\n",
      "      copying pandas\\tests\\reshape\\merge\\test_join.py -> build\\lib.win-amd64-cpython-311\\pandas\\tests\\reshape\\merge\n",
      "      copying pandas\\tests\\reshape\\merge\\test_merge.py -> build\\lib.win-amd64-cpython-311\\pandas\\tests\\reshape\\merge\n",
      "      copying pandas\\tests\\reshape\\merge\\test_merge_asof.py -> build\\lib.win-amd64-cpython-311\\pandas\\tests\\reshape\\merge\n",
      "      copying pandas\\tests\\reshape\\merge\\test_merge_index_as_string.py -> build\\lib.win-amd64-cpython-311\\pandas\\tests\\reshape\\merge\n",
      "      copying pandas\\tests\\reshape\\merge\\test_merge_ordered.py -> build\\lib.win-amd64-cpython-311\\pandas\\tests\\reshape\\merge\n",
      "      copying pandas\\tests\\reshape\\merge\\test_multi.py -> build\\lib.win-amd64-cpython-311\\pandas\\tests\\reshape\\merge\n",
      "      copying pandas\\tests\\reshape\\merge\\__init__.py -> build\\lib.win-amd64-cpython-311\\pandas\\tests\\reshape\\merge\n",
      "      creating build\\lib.win-amd64-cpython-311\\pandas\\tests\\scalar\\interval\n",
      "      copying pandas\\tests\\scalar\\interval\\test_interval.py -> build\\lib.win-amd64-cpython-311\\pandas\\tests\\scalar\\interval\n",
      "      copying pandas\\tests\\scalar\\interval\\test_ops.py -> build\\lib.win-amd64-cpython-311\\pandas\\tests\\scalar\\interval\n",
      "      copying pandas\\tests\\scalar\\interval\\__init__.py -> build\\lib.win-amd64-cpython-311\\pandas\\tests\\scalar\\interval\n",
      "      creating build\\lib.win-amd64-cpython-311\\pandas\\tests\\scalar\\period\n",
      "      copying pandas\\tests\\scalar\\period\\test_asfreq.py -> build\\lib.win-amd64-cpython-311\\pandas\\tests\\scalar\\period\n",
      "      copying pandas\\tests\\scalar\\period\\test_period.py -> build\\lib.win-amd64-cpython-311\\pandas\\tests\\scalar\\period\n",
      "      copying pandas\\tests\\scalar\\period\\__init__.py -> build\\lib.win-amd64-cpython-311\\pandas\\tests\\scalar\\period\n",
      "      creating build\\lib.win-amd64-cpython-311\\pandas\\tests\\scalar\\timedelta\n",
      "      copying pandas\\tests\\scalar\\timedelta\\test_arithmetic.py -> build\\lib.win-amd64-cpython-311\\pandas\\tests\\scalar\\timedelta\n",
      "      copying pandas\\tests\\scalar\\timedelta\\test_construction.py -> build\\lib.win-amd64-cpython-311\\pandas\\tests\\scalar\\timedelta\n",
      "      copying pandas\\tests\\scalar\\timedelta\\test_formats.py -> build\\lib.win-amd64-cpython-311\\pandas\\tests\\scalar\\timedelta\n",
      "      copying pandas\\tests\\scalar\\timedelta\\test_timedelta.py -> build\\lib.win-amd64-cpython-311\\pandas\\tests\\scalar\\timedelta\n",
      "      copying pandas\\tests\\scalar\\timedelta\\__init__.py -> build\\lib.win-amd64-cpython-311\\pandas\\tests\\scalar\\timedelta\n",
      "      creating build\\lib.win-amd64-cpython-311\\pandas\\tests\\scalar\\timestamp\n",
      "      copying pandas\\tests\\scalar\\timestamp\\test_arithmetic.py -> build\\lib.win-amd64-cpython-311\\pandas\\tests\\scalar\\timestamp\n",
      "      copying pandas\\tests\\scalar\\timestamp\\test_comparisons.py -> build\\lib.win-amd64-cpython-311\\pandas\\tests\\scalar\\timestamp\n",
      "      copying pandas\\tests\\scalar\\timestamp\\test_rendering.py -> build\\lib.win-amd64-cpython-311\\pandas\\tests\\scalar\\timestamp\n",
      "      copying pandas\\tests\\scalar\\timestamp\\test_timestamp.py -> build\\lib.win-amd64-cpython-311\\pandas\\tests\\scalar\\timestamp\n",
      "      copying pandas\\tests\\scalar\\timestamp\\test_timezones.py -> build\\lib.win-amd64-cpython-311\\pandas\\tests\\scalar\\timestamp\n",
      "      copying pandas\\tests\\scalar\\timestamp\\test_unary_ops.py -> build\\lib.win-amd64-cpython-311\\pandas\\tests\\scalar\\timestamp\n",
      "      copying pandas\\tests\\scalar\\timestamp\\__init__.py -> build\\lib.win-amd64-cpython-311\\pandas\\tests\\scalar\\timestamp\n",
      "      creating build\\lib.win-amd64-cpython-311\\pandas\\tests\\series\\indexing\n",
      "      copying pandas\\tests\\series\\indexing\\conftest.py -> build\\lib.win-amd64-cpython-311\\pandas\\tests\\series\\indexing\n",
      "      copying pandas\\tests\\series\\indexing\\test_alter_index.py -> build\\lib.win-amd64-cpython-311\\pandas\\tests\\series\\indexing\n",
      "      copying pandas\\tests\\series\\indexing\\test_boolean.py -> build\\lib.win-amd64-cpython-311\\pandas\\tests\\series\\indexing\n",
      "      copying pandas\\tests\\series\\indexing\\test_callable.py -> build\\lib.win-amd64-cpython-311\\pandas\\tests\\series\\indexing\n",
      "      copying pandas\\tests\\series\\indexing\\test_datetime.py -> build\\lib.win-amd64-cpython-311\\pandas\\tests\\series\\indexing\n",
      "      copying pandas\\tests\\series\\indexing\\test_iloc.py -> build\\lib.win-amd64-cpython-311\\pandas\\tests\\series\\indexing\n",
      "      copying pandas\\tests\\series\\indexing\\test_indexing.py -> build\\lib.win-amd64-cpython-311\\pandas\\tests\\series\\indexing\n",
      "      copying pandas\\tests\\series\\indexing\\test_loc.py -> build\\lib.win-amd64-cpython-311\\pandas\\tests\\series\\indexing\n",
      "      copying pandas\\tests\\series\\indexing\\test_numeric.py -> build\\lib.win-amd64-cpython-311\\pandas\\tests\\series\\indexing\n",
      "      copying pandas\\tests\\series\\indexing\\__init__.py -> build\\lib.win-amd64-cpython-311\\pandas\\tests\\series\\indexing\n",
      "      creating build\\lib.win-amd64-cpython-311\\pandas\\tests\\sparse\\frame\n",
      "      copying pandas\\tests\\sparse\\frame\\conftest.py -> build\\lib.win-amd64-cpython-311\\pandas\\tests\\sparse\\frame\n",
      "      copying pandas\\tests\\sparse\\frame\\test_analytics.py -> build\\lib.win-amd64-cpython-311\\pandas\\tests\\sparse\\frame\n",
      "      copying pandas\\tests\\sparse\\frame\\test_apply.py -> build\\lib.win-amd64-cpython-311\\pandas\\tests\\sparse\\frame\n",
      "      copying pandas\\tests\\sparse\\frame\\test_frame.py -> build\\lib.win-amd64-cpython-311\\pandas\\tests\\sparse\\frame\n",
      "      copying pandas\\tests\\sparse\\frame\\test_indexing.py -> build\\lib.win-amd64-cpython-311\\pandas\\tests\\sparse\\frame\n",
      "      copying pandas\\tests\\sparse\\frame\\test_to_csv.py -> build\\lib.win-amd64-cpython-311\\pandas\\tests\\sparse\\frame\n",
      "      copying pandas\\tests\\sparse\\frame\\test_to_from_scipy.py -> build\\lib.win-amd64-cpython-311\\pandas\\tests\\sparse\\frame\n",
      "      copying pandas\\tests\\sparse\\frame\\__init__.py -> build\\lib.win-amd64-cpython-311\\pandas\\tests\\sparse\\frame\n",
      "      creating build\\lib.win-amd64-cpython-311\\pandas\\tests\\sparse\\series\n",
      "      copying pandas\\tests\\sparse\\series\\test_indexing.py -> build\\lib.win-amd64-cpython-311\\pandas\\tests\\sparse\\series\n",
      "      copying pandas\\tests\\sparse\\series\\test_series.py -> build\\lib.win-amd64-cpython-311\\pandas\\tests\\sparse\\series\n",
      "      copying pandas\\tests\\sparse\\series\\__init__.py -> build\\lib.win-amd64-cpython-311\\pandas\\tests\\sparse\\series\n",
      "      creating build\\lib.win-amd64-cpython-311\\pandas\\tests\\tseries\\offsets\n",
      "      copying pandas\\tests\\tseries\\offsets\\common.py -> build\\lib.win-amd64-cpython-311\\pandas\\tests\\tseries\\offsets\n",
      "      copying pandas\\tests\\tseries\\offsets\\conftest.py -> build\\lib.win-amd64-cpython-311\\pandas\\tests\\tseries\\offsets\n",
      "      copying pandas\\tests\\tseries\\offsets\\test_fiscal.py -> build\\lib.win-amd64-cpython-311\\pandas\\tests\\tseries\\offsets\n",
      "      copying pandas\\tests\\tseries\\offsets\\test_offsets.py -> build\\lib.win-amd64-cpython-311\\pandas\\tests\\tseries\\offsets\n",
      "      copying pandas\\tests\\tseries\\offsets\\test_offsets_properties.py -> build\\lib.win-amd64-cpython-311\\pandas\\tests\\tseries\\offsets\n",
      "      copying pandas\\tests\\tseries\\offsets\\test_ticks.py -> build\\lib.win-amd64-cpython-311\\pandas\\tests\\tseries\\offsets\n",
      "      copying pandas\\tests\\tseries\\offsets\\test_yqm_offsets.py -> build\\lib.win-amd64-cpython-311\\pandas\\tests\\tseries\\offsets\n",
      "      copying pandas\\tests\\tseries\\offsets\\__init__.py -> build\\lib.win-amd64-cpython-311\\pandas\\tests\\tseries\\offsets\n",
      "      creating build\\lib.win-amd64-cpython-311\\pandas\\_libs\\tslibs\n",
      "      copying pandas\\_libs\\tslibs\\__init__.py -> build\\lib.win-amd64-cpython-311\\pandas\\_libs\\tslibs\n",
      "      creating build\\lib.win-amd64-cpython-311\\pandas\\io\\formats\\templates\n",
      "      copying pandas\\io\\formats\\templates\\html.tpl -> build\\lib.win-amd64-cpython-311\\pandas\\io\\formats\\templates\n",
      "      UPDATING build\\lib.win-amd64-cpython-311\\pandas/_version.py\n",
      "      set build\\lib.win-amd64-cpython-311\\pandas/_version.py to '0.24.2'\n",
      "      running build_ext\n",
      "      building 'pandas._libs.algos' extension\n",
      "      creating build\\temp.win-amd64-cpython-311\n",
      "      creating build\\temp.win-amd64-cpython-311\\Release\n",
      "      creating build\\temp.win-amd64-cpython-311\\Release\\pandas\n",
      "      creating build\\temp.win-amd64-cpython-311\\Release\\pandas\\_libs\n",
      "      \"C:\\Program Files\\Microsoft Visual Studio\\2022\\Community\\VC\\Tools\\MSVC\\14.39.33519\\bin\\HostX86\\x64\\cl.exe\" /c /nologo /O2 /W3 /GL /DNDEBUG /MD -Ipandas/_libs/src/klib -Ipandas/_libs/src -Ic:\\Users\\heyda\\AppData\\Local\\Programs\\Python\\Python311\\Lib\\site-packages\\numpy\\core\\include -Ic:\\Users\\heyda\\AppData\\Local\\Programs\\Python\\Python311\\include -Ic:\\Users\\heyda\\AppData\\Local\\Programs\\Python\\Python311\\Include \"-IC:\\Program Files\\Microsoft Visual Studio\\2022\\Community\\VC\\Tools\\MSVC\\14.39.33519\\include\" \"-IC:\\Program Files\\Microsoft Visual Studio\\2022\\Community\\VC\\Auxiliary\\VS\\include\" \"-IC:\\Program Files (x86)\\Windows Kits\\10\\include\\10.0.22621.0\\ucrt\" \"-IC:\\Program Files (x86)\\Windows Kits\\10\\\\include\\10.0.22621.0\\\\um\" \"-IC:\\Program Files (x86)\\Windows Kits\\10\\\\include\\10.0.22621.0\\\\shared\" \"-IC:\\Program Files (x86)\\Windows Kits\\10\\\\include\\10.0.22621.0\\\\winrt\" \"-IC:\\Program Files (x86)\\Windows Kits\\10\\\\include\\10.0.22621.0\\\\cppwinrt\" \"-IC:\\Program Files (x86)\\Windows Kits\\NETFXSDK\\4.8\\include\\um\" /Tcpandas\\_libs/algos.c /Fobuild\\temp.win-amd64-cpython-311\\Release\\pandas\\_libs/algos.obj\n",
      "      algos.c\n",
      "      pandas\\_libs/algos.c(230): fatal error C1083: Cannot open include file: 'longintrepr.h': No such file or directory\n",
      "      error: command 'C:\\\\Program Files\\\\Microsoft Visual Studio\\\\2022\\\\Community\\\\VC\\\\Tools\\\\MSVC\\\\14.39.33519\\\\bin\\\\HostX86\\\\x64\\\\cl.exe' failed with exit code 2\n",
      "      [end of output]\n",
      "  \n",
      "  note: This error originates from a subprocess, and is likely not a problem with pip.\n",
      "  ERROR: Failed building wheel for pandas\n",
      "ERROR: Could not build wheels for pandas, which is required to install pyproject.toml-based projects\n",
      "WARNING: Skipping c:\\Users\\heyda\\AppData\\Local\\Programs\\Python\\Python311\\Lib\\site-packages\\keras-2.12.0.dist-info due to invalid metadata entry 'name'\n",
      "WARNING: Skipping c:\\Users\\heyda\\AppData\\Local\\Programs\\Python\\Python311\\Lib\\site-packages\\keras-2.12.0.dist-info due to invalid metadata entry 'name'\n",
      "WARNING: Skipping c:\\Users\\heyda\\AppData\\Local\\Programs\\Python\\Python311\\Lib\\site-packages\\keras-2.12.0.dist-info due to invalid metadata entry 'name'\n"
     ]
    }
   ],
   "source": [
    "pip install google.colab"
   ]
  },
  {
   "cell_type": "code",
   "execution_count": 5,
   "metadata": {
    "executionInfo": {
     "elapsed": 452,
     "status": "ok",
     "timestamp": 1630391681842,
     "user": {
      "displayName": "Lavkush Gupta",
      "photoUrl": "https://lh3.googleusercontent.com/a-/AOh14GhXBbqE1GucghkOOxurab_4g5akj7qOnO4F869XNw=s64",
      "userId": "13236722463613958999"
     },
     "user_tz": -330
    },
    "id": "GkSw4Qjk1a9g"
   },
   "outputs": [],
   "source": [
    "# Importing libraries\n",
    "import pandas as pd\n",
    "import numpy as np\n",
    "import matplotlib.pyplot as plt\n",
    "import seaborn as sns\n",
    "from scipy.stats import norm"
   ]
  },
  {
   "cell_type": "markdown",
   "metadata": {
    "id": "FOOdJ1AVpAsh"
   },
   "source": [
    "## Downloading the Data\n"
   ]
  },
  {
   "cell_type": "code",
   "execution_count": 6,
   "metadata": {
    "executionInfo": {
     "elapsed": 13,
     "status": "ok",
     "timestamp": 1630391683398,
     "user": {
      "displayName": "Lavkush Gupta",
      "photoUrl": "https://lh3.googleusercontent.com/a-/AOh14GhXBbqE1GucghkOOxurab_4g5akj7qOnO4F869XNw=s64",
      "userId": "13236722463613958999"
     },
     "user_tz": -330
    },
    "id": "iFJmwVVuy0hM"
   },
   "outputs": [],
   "source": [
    "#Downloading Dataset FRom Shared Google Drive Link\n",
    "file_id = '1VNpyNkGxHdskfdTNRSjjyNa5qC9u0JyV'"
   ]
  },
  {
   "cell_type": "code",
   "execution_count": 1,
   "metadata": {
    "executionInfo": {
     "elapsed": 28087,
     "status": "ok",
     "timestamp": 1630391714055,
     "user": {
      "displayName": "Lavkush Gupta",
      "photoUrl": "https://lh3.googleusercontent.com/a-/AOh14GhXBbqE1GucghkOOxurab_4g5akj7qOnO4F869XNw=s64",
      "userId": "13236722463613958999"
     },
     "user_tz": -330
    },
    "id": "cc3IqPzZ0a6e"
   },
   "outputs": [
    {
     "ename": "NameError",
     "evalue": "name 'drive' is not defined",
     "output_type": "error",
     "traceback": [
      "\u001b[1;31m---------------------------------------------------------------------------\u001b[0m",
      "\u001b[1;31mNameError\u001b[0m                                 Traceback (most recent call last)",
      "Cell \u001b[1;32mIn[1], line 1\u001b[0m\n\u001b[1;32m----> 1\u001b[0m downloaded \u001b[38;5;241m=\u001b[39m \u001b[43mdrive\u001b[49m\u001b[38;5;241m.\u001b[39mCreateFile({\u001b[38;5;124m'\u001b[39m\u001b[38;5;124mid\u001b[39m\u001b[38;5;124m'\u001b[39m:file_id}) \n\u001b[0;32m      2\u001b[0m downloaded\u001b[38;5;241m.\u001b[39mGetContentFile(\u001b[38;5;124m'\u001b[39m\u001b[38;5;124mFraud.csv\u001b[39m\u001b[38;5;124m'\u001b[39m)  \n",
      "\u001b[1;31mNameError\u001b[0m: name 'drive' is not defined"
     ]
    }
   ],
   "source": [
    "downloaded = drive.CreateFile({'id':file_id}) \n",
    "downloaded.GetContentFile('Fraud.csv')  \n"
   ]
  },
  {
   "cell_type": "code",
   "execution_count": 8,
   "metadata": {
    "executionInfo": {
     "elapsed": 12208,
     "status": "ok",
     "timestamp": 1630391736452,
     "user": {
      "displayName": "Lavkush Gupta",
      "photoUrl": "https://lh3.googleusercontent.com/a-/AOh14GhXBbqE1GucghkOOxurab_4g5akj7qOnO4F869XNw=s64",
      "userId": "13236722463613958999"
     },
     "user_tz": -330
    },
    "id": "HVX3397k_Q08"
   },
   "outputs": [],
   "source": [
    "df = pd.read_csv('Fraud.csv')"
   ]
  },
  {
   "cell_type": "code",
   "execution_count": 9,
   "metadata": {
    "colab": {
     "base_uri": "https://localhost:8080/",
     "height": 224
    },
    "executionInfo": {
     "elapsed": 48,
     "status": "ok",
     "timestamp": 1630391736455,
     "user": {
      "displayName": "Lavkush Gupta",
      "photoUrl": "https://lh3.googleusercontent.com/a-/AOh14GhXBbqE1GucghkOOxurab_4g5akj7qOnO4F869XNw=s64",
      "userId": "13236722463613958999"
     },
     "user_tz": -330
    },
    "id": "5Eox0cld176e",
    "outputId": "33239e31-cbd7-47aa-db90-bed379ad31b6"
   },
   "outputs": [
    {
     "data": {
      "text/html": [
       "<div>\n",
       "<style scoped>\n",
       "    .dataframe tbody tr th:only-of-type {\n",
       "        vertical-align: middle;\n",
       "    }\n",
       "\n",
       "    .dataframe tbody tr th {\n",
       "        vertical-align: top;\n",
       "    }\n",
       "\n",
       "    .dataframe thead th {\n",
       "        text-align: right;\n",
       "    }\n",
       "</style>\n",
       "<table border=\"1\" class=\"dataframe\">\n",
       "  <thead>\n",
       "    <tr style=\"text-align: right;\">\n",
       "      <th></th>\n",
       "      <th>step</th>\n",
       "      <th>type</th>\n",
       "      <th>amount</th>\n",
       "      <th>nameOrig</th>\n",
       "      <th>oldbalanceOrg</th>\n",
       "      <th>newbalanceOrig</th>\n",
       "      <th>nameDest</th>\n",
       "      <th>oldbalanceDest</th>\n",
       "      <th>newbalanceDest</th>\n",
       "      <th>isFraud</th>\n",
       "      <th>isFlaggedFraud</th>\n",
       "    </tr>\n",
       "  </thead>\n",
       "  <tbody>\n",
       "    <tr>\n",
       "      <th>0</th>\n",
       "      <td>1</td>\n",
       "      <td>PAYMENT</td>\n",
       "      <td>9839.64</td>\n",
       "      <td>C1231006815</td>\n",
       "      <td>170136.0</td>\n",
       "      <td>160296.36</td>\n",
       "      <td>M1979787155</td>\n",
       "      <td>0.0</td>\n",
       "      <td>0.0</td>\n",
       "      <td>0</td>\n",
       "      <td>0</td>\n",
       "    </tr>\n",
       "    <tr>\n",
       "      <th>1</th>\n",
       "      <td>1</td>\n",
       "      <td>PAYMENT</td>\n",
       "      <td>1864.28</td>\n",
       "      <td>C1666544295</td>\n",
       "      <td>21249.0</td>\n",
       "      <td>19384.72</td>\n",
       "      <td>M2044282225</td>\n",
       "      <td>0.0</td>\n",
       "      <td>0.0</td>\n",
       "      <td>0</td>\n",
       "      <td>0</td>\n",
       "    </tr>\n",
       "    <tr>\n",
       "      <th>2</th>\n",
       "      <td>1</td>\n",
       "      <td>TRANSFER</td>\n",
       "      <td>181.00</td>\n",
       "      <td>C1305486145</td>\n",
       "      <td>181.0</td>\n",
       "      <td>0.00</td>\n",
       "      <td>C553264065</td>\n",
       "      <td>0.0</td>\n",
       "      <td>0.0</td>\n",
       "      <td>1</td>\n",
       "      <td>0</td>\n",
       "    </tr>\n",
       "    <tr>\n",
       "      <th>3</th>\n",
       "      <td>1</td>\n",
       "      <td>CASH_OUT</td>\n",
       "      <td>181.00</td>\n",
       "      <td>C840083671</td>\n",
       "      <td>181.0</td>\n",
       "      <td>0.00</td>\n",
       "      <td>C38997010</td>\n",
       "      <td>21182.0</td>\n",
       "      <td>0.0</td>\n",
       "      <td>1</td>\n",
       "      <td>0</td>\n",
       "    </tr>\n",
       "    <tr>\n",
       "      <th>4</th>\n",
       "      <td>1</td>\n",
       "      <td>PAYMENT</td>\n",
       "      <td>11668.14</td>\n",
       "      <td>C2048537720</td>\n",
       "      <td>41554.0</td>\n",
       "      <td>29885.86</td>\n",
       "      <td>M1230701703</td>\n",
       "      <td>0.0</td>\n",
       "      <td>0.0</td>\n",
       "      <td>0</td>\n",
       "      <td>0</td>\n",
       "    </tr>\n",
       "  </tbody>\n",
       "</table>\n",
       "</div>"
      ],
      "text/plain": [
       "   step      type    amount  ... newbalanceDest  isFraud  isFlaggedFraud\n",
       "0     1   PAYMENT   9839.64  ...            0.0        0               0\n",
       "1     1   PAYMENT   1864.28  ...            0.0        0               0\n",
       "2     1  TRANSFER    181.00  ...            0.0        1               0\n",
       "3     1  CASH_OUT    181.00  ...            0.0        1               0\n",
       "4     1   PAYMENT  11668.14  ...            0.0        0               0\n",
       "\n",
       "[5 rows x 11 columns]"
      ]
     },
     "execution_count": 9,
     "metadata": {},
     "output_type": "execute_result"
    }
   ],
   "source": [
    "df.head()"
   ]
  },
  {
   "cell_type": "markdown",
   "metadata": {
    "id": "Iuu_bseM3jQP"
   },
   "source": [
    "##Checking Missing Values"
   ]
  },
  {
   "cell_type": "code",
   "execution_count": 10,
   "metadata": {
    "colab": {
     "base_uri": "https://localhost:8080/"
    },
    "executionInfo": {
     "elapsed": 651,
     "status": "ok",
     "timestamp": 1630391737080,
     "user": {
      "displayName": "Lavkush Gupta",
      "photoUrl": "https://lh3.googleusercontent.com/a-/AOh14GhXBbqE1GucghkOOxurab_4g5akj7qOnO4F869XNw=s64",
      "userId": "13236722463613958999"
     },
     "user_tz": -330
    },
    "id": "FP0tNcX-1994",
    "outputId": "85cba041-6698-4b62-a177-8a573e54e5d4"
   },
   "outputs": [
    {
     "data": {
      "text/plain": [
       "step              0\n",
       "type              0\n",
       "amount            0\n",
       "nameOrig          0\n",
       "oldbalanceOrg     0\n",
       "newbalanceOrig    0\n",
       "nameDest          0\n",
       "oldbalanceDest    0\n",
       "newbalanceDest    0\n",
       "isFraud           0\n",
       "isFlaggedFraud    0\n",
       "dtype: int64"
      ]
     },
     "execution_count": 10,
     "metadata": {},
     "output_type": "execute_result"
    }
   ],
   "source": [
    "df.isna().sum()"
   ]
  },
  {
   "cell_type": "code",
   "execution_count": 11,
   "metadata": {
    "colab": {
     "base_uri": "https://localhost:8080/"
    },
    "executionInfo": {
     "elapsed": 443,
     "status": "ok",
     "timestamp": 1630391737509,
     "user": {
      "displayName": "Lavkush Gupta",
      "photoUrl": "https://lh3.googleusercontent.com/a-/AOh14GhXBbqE1GucghkOOxurab_4g5akj7qOnO4F869XNw=s64",
      "userId": "13236722463613958999"
     },
     "user_tz": -330
    },
    "id": "NbEKl2jh2OiD",
    "outputId": "a72b6c02-5f79-4fcc-aa17-6d9b4f079269"
   },
   "outputs": [
    {
     "data": {
      "text/plain": [
       "0    6354407\n",
       "1       8213\n",
       "Name: isFraud, dtype: int64"
      ]
     },
     "execution_count": 11,
     "metadata": {},
     "output_type": "execute_result"
    }
   ],
   "source": [
    "# Counting the occurrences of fraud and no fraud\n",
    "occ = df['isFraud'].value_counts()\n",
    "occ"
   ]
  },
  {
   "cell_type": "code",
   "execution_count": 12,
   "metadata": {
    "colab": {
     "base_uri": "https://localhost:8080/"
    },
    "executionInfo": {
     "elapsed": 38,
     "status": "ok",
     "timestamp": 1630391737510,
     "user": {
      "displayName": "Lavkush Gupta",
      "photoUrl": "https://lh3.googleusercontent.com/a-/AOh14GhXBbqE1GucghkOOxurab_4g5akj7qOnO4F869XNw=s64",
      "userId": "13236722463613958999"
     },
     "user_tz": -330
    },
    "id": "3lJ94KIp6pf5",
    "outputId": "9da674e6-b7bb-4a81-c99f-134830a2675e"
   },
   "outputs": [
    {
     "data": {
      "text/plain": [
       "0    0.998709\n",
       "1    0.001291\n",
       "Name: isFraud, dtype: float64"
      ]
     },
     "execution_count": 12,
     "metadata": {},
     "output_type": "execute_result"
    }
   ],
   "source": [
    "# Printing the ratio of fraud cases\n",
    "fraud_ratio = occ/len(df.index)\n",
    "fraud_ratio"
   ]
  },
  {
   "cell_type": "markdown",
   "metadata": {
    "id": "U4_-XjHi5iiN"
   },
   "source": [
    "From the above obseravation it seems the ratio of Fraud to Not Fraud is  very low which indicates Unbalanced Data."
   ]
  },
  {
   "cell_type": "code",
   "execution_count": 13,
   "metadata": {
    "colab": {
     "base_uri": "https://localhost:8080/"
    },
    "executionInfo": {
     "elapsed": 33,
     "status": "ok",
     "timestamp": 1630391737512,
     "user": {
      "displayName": "Lavkush Gupta",
      "photoUrl": "https://lh3.googleusercontent.com/a-/AOh14GhXBbqE1GucghkOOxurab_4g5akj7qOnO4F869XNw=s64",
      "userId": "13236722463613958999"
     },
     "user_tz": -330
    },
    "id": "joZvO5SP5QRd",
    "outputId": "4a1762bc-eb2c-4e8e-d06a-71602976a5e2"
   },
   "outputs": [
    {
     "data": {
      "text/plain": [
       "0    6362604\n",
       "1         16\n",
       "Name: isFlaggedFraud, dtype: int64"
      ]
     },
     "execution_count": 13,
     "metadata": {},
     "output_type": "execute_result"
    }
   ],
   "source": [
    "# Count the occurrences of isflaggedfraud and no isflaggedfraud\n",
    "occ_1= df['isFlaggedFraud'].value_counts()\n",
    "occ_1 "
   ]
  },
  {
   "cell_type": "code",
   "execution_count": 14,
   "metadata": {
    "colab": {
     "base_uri": "https://localhost:8080/"
    },
    "executionInfo": {
     "elapsed": 43,
     "status": "ok",
     "timestamp": 1630391737527,
     "user": {
      "displayName": "Lavkush Gupta",
      "photoUrl": "https://lh3.googleusercontent.com/a-/AOh14GhXBbqE1GucghkOOxurab_4g5akj7qOnO4F869XNw=s64",
      "userId": "13236722463613958999"
     },
     "user_tz": -330
    },
    "id": "L39HORxo6-Qi",
    "outputId": "a527bb28-4820-467d-f5db-621d94aa27b5"
   },
   "outputs": [
    {
     "data": {
      "text/plain": [
       "0    0.999997\n",
       "1    0.000003\n",
       "Name: isFlaggedFraud, dtype: float64"
      ]
     },
     "execution_count": 14,
     "metadata": {},
     "output_type": "execute_result"
    }
   ],
   "source": [
    "fraud_ratio = occ_1/len(df.index)\n",
    "fraud_ratio"
   ]
  },
  {
   "cell_type": "code",
   "execution_count": 15,
   "metadata": {
    "colab": {
     "base_uri": "https://localhost:8080/",
     "height": 131
    },
    "executionInfo": {
     "elapsed": 40,
     "status": "ok",
     "timestamp": 1630391737529,
     "user": {
      "displayName": "Lavkush Gupta",
      "photoUrl": "https://lh3.googleusercontent.com/a-/AOh14GhXBbqE1GucghkOOxurab_4g5akj7qOnO4F869XNw=s64",
      "userId": "13236722463613958999"
     },
     "user_tz": -330
    },
    "id": "CW3AcEvm-L05",
    "outputId": "99c3aeab-0d81-4f10-b0a3-62ccac25e83c"
   },
   "outputs": [
    {
     "data": {
      "text/html": [
       "<div>\n",
       "<style scoped>\n",
       "    .dataframe tbody tr th:only-of-type {\n",
       "        vertical-align: middle;\n",
       "    }\n",
       "\n",
       "    .dataframe tbody tr th {\n",
       "        vertical-align: top;\n",
       "    }\n",
       "\n",
       "    .dataframe thead th {\n",
       "        text-align: right;\n",
       "    }\n",
       "</style>\n",
       "<table border=\"1\" class=\"dataframe\">\n",
       "  <thead>\n",
       "    <tr style=\"text-align: right;\">\n",
       "      <th></th>\n",
       "      <th>step</th>\n",
       "      <th>type</th>\n",
       "      <th>amount</th>\n",
       "      <th>nameOrig</th>\n",
       "      <th>oldbalanceOrg</th>\n",
       "      <th>newbalanceOrig</th>\n",
       "      <th>nameDest</th>\n",
       "      <th>oldbalanceDest</th>\n",
       "      <th>newbalanceDest</th>\n",
       "      <th>isFraud</th>\n",
       "      <th>isFlaggedFraud</th>\n",
       "    </tr>\n",
       "  </thead>\n",
       "  <tbody>\n",
       "    <tr>\n",
       "      <th>0</th>\n",
       "      <td>1</td>\n",
       "      <td>PAYMENT</td>\n",
       "      <td>9839.64</td>\n",
       "      <td>C1231006815</td>\n",
       "      <td>170136.0</td>\n",
       "      <td>160296.36</td>\n",
       "      <td>M1979787155</td>\n",
       "      <td>0.0</td>\n",
       "      <td>0.0</td>\n",
       "      <td>0</td>\n",
       "      <td>0</td>\n",
       "    </tr>\n",
       "    <tr>\n",
       "      <th>1</th>\n",
       "      <td>1</td>\n",
       "      <td>PAYMENT</td>\n",
       "      <td>1864.28</td>\n",
       "      <td>C1666544295</td>\n",
       "      <td>21249.0</td>\n",
       "      <td>19384.72</td>\n",
       "      <td>M2044282225</td>\n",
       "      <td>0.0</td>\n",
       "      <td>0.0</td>\n",
       "      <td>0</td>\n",
       "      <td>0</td>\n",
       "    </tr>\n",
       "  </tbody>\n",
       "</table>\n",
       "</div>"
      ],
      "text/plain": [
       "   step     type   amount  ... newbalanceDest  isFraud  isFlaggedFraud\n",
       "0     1  PAYMENT  9839.64  ...            0.0        0               0\n",
       "1     1  PAYMENT  1864.28  ...            0.0        0               0\n",
       "\n",
       "[2 rows x 11 columns]"
      ]
     },
     "execution_count": 15,
     "metadata": {},
     "output_type": "execute_result"
    }
   ],
   "source": [
    "df.head(2)"
   ]
  },
  {
   "cell_type": "markdown",
   "metadata": {
    "id": "F4q3tc4q7FM9"
   },
   "source": [
    "It seems Same for the FlaggedFraud Cases"
   ]
  },
  {
   "cell_type": "code",
   "execution_count": 16,
   "metadata": {
    "colab": {
     "base_uri": "https://localhost:8080/"
    },
    "executionInfo": {
     "elapsed": 398,
     "status": "ok",
     "timestamp": 1630391737889,
     "user": {
      "displayName": "Lavkush Gupta",
      "photoUrl": "https://lh3.googleusercontent.com/a-/AOh14GhXBbqE1GucghkOOxurab_4g5akj7qOnO4F869XNw=s64",
      "userId": "13236722463613958999"
     },
     "user_tz": -330
    },
    "id": "korakeAEC5Fj",
    "outputId": "e87152aa-d086-49a0-8e3d-086f84beb008"
   },
   "outputs": [
    {
     "data": {
      "text/plain": [
       "type\n",
       "CASH_IN     1399284\n",
       "CASH_OUT    2237500\n",
       "DEBIT         41432\n",
       "PAYMENT     2151495\n",
       "TRANSFER     532909\n",
       "Name: isFraud, dtype: int64"
      ]
     },
     "execution_count": 16,
     "metadata": {},
     "output_type": "execute_result"
    }
   ],
   "source": [
    "fraudby_type = df.groupby(\"type\")[\"isFraud\"].count()\n",
    "fraudby_type\n"
   ]
  },
  {
   "cell_type": "markdown",
   "metadata": {
    "id": "ZOJKE6Qo8Rj3"
   },
   "source": [
    "## Visualizing Datasets"
   ]
  },
  {
   "cell_type": "code",
   "execution_count": 17,
   "metadata": {
    "colab": {
     "base_uri": "https://localhost:8080/"
    },
    "executionInfo": {
     "elapsed": 11,
     "status": "ok",
     "timestamp": 1630391737890,
     "user": {
      "displayName": "Lavkush Gupta",
      "photoUrl": "https://lh3.googleusercontent.com/a-/AOh14GhXBbqE1GucghkOOxurab_4g5akj7qOnO4F869XNw=s64",
      "userId": "13236722463613958999"
     },
     "user_tz": -330
    },
    "id": "6zOlIK4kAE5t",
    "outputId": "2355450d-3445-454d-f08c-3d8b01602826"
   },
   "outputs": [
    {
     "name": "stdout",
     "output_type": "stream",
     "text": [
      "The no. of different steps involved in transactions are : 428\n"
     ]
    }
   ],
   "source": [
    "# checking the different types of steps involved in transactions\n",
    "steps = df['step'].value_counts().nunique()\n",
    "print(\"The no. of different steps involved in transactions are :\", steps)"
   ]
  },
  {
   "cell_type": "code",
   "execution_count": 18,
   "metadata": {
    "colab": {
     "base_uri": "https://localhost:8080/",
     "height": 517
    },
    "executionInfo": {
     "elapsed": 1066,
     "status": "ok",
     "timestamp": 1630391738950,
     "user": {
      "displayName": "Lavkush Gupta",
      "photoUrl": "https://lh3.googleusercontent.com/a-/AOh14GhXBbqE1GucghkOOxurab_4g5akj7qOnO4F869XNw=s64",
      "userId": "13236722463613958999"
     },
     "user_tz": -330
    },
    "id": "cFocrgOlAd4k",
    "outputId": "e0a9da32-99b3-4c8a-f28e-1d5582499196"
   },
   "outputs": [
    {
     "name": "stderr",
     "output_type": "stream",
     "text": [
      "/usr/local/lib/python3.7/dist-packages/seaborn/distributions.py:2557: FutureWarning: `distplot` is a deprecated function and will be removed in a future version. Please adapt your code to use either `displot` (a figure-level function with similar flexibility) or `histplot` (an axes-level function for histograms).\n",
      "  warnings.warn(msg, FutureWarning)\n"
     ]
    },
    {
     "data": {
      "image/png": "[encoded data removed]",
      "text/plain": [
       "<Figure size 1008x504 with 1 Axes>"
      ]
     },
     "metadata": {
      "needs_background": "light"
     },
     "output_type": "display_data"
    }
   ],
   "source": [
    "plt.rcParams['figure.figsize'] =(14, 7)\n",
    "sns.distplot(df.step, fit = norm, kde = False)\n",
    "plt.title('Distribution Plot for steps', fontsize = 20)\n",
    "plt.xlabel('Step', fontsize = 10)\n",
    "plt.show();"
   ]
  },
  {
   "cell_type": "code",
   "execution_count": 19,
   "metadata": {
    "colab": {
     "base_uri": "https://localhost:8080/",
     "height": 513
    },
    "executionInfo": {
     "elapsed": 1282,
     "status": "ok",
     "timestamp": 1630391740214,
     "user": {
      "displayName": "Lavkush Gupta",
      "photoUrl": "https://lh3.googleusercontent.com/a-/AOh14GhXBbqE1GucghkOOxurab_4g5akj7qOnO4F869XNw=s64",
      "userId": "13236722463613958999"
     },
     "user_tz": -330
    },
    "id": "g5HQCmkFBGh8",
    "outputId": "9e0da728-d29b-4632-aa44-7e2380ecff1d"
   },
   "outputs": [
    {
     "data": {
      "image/png": "[encoded data removed]",
      "text/plain": [
       "<Figure size 720x504 with 1 Axes>"
      ]
     },
     "metadata": {
      "needs_background": "light"
     },
     "output_type": "display_data"
    }
   ],
   "source": [
    "# Checking the different values of amounts transationed\n",
    "plt.rcParams['figure.figsize'] = (10, 7)\n",
    "df['amount'].value_counts().head(10).plot.bar()\n",
    "plt.title('10 Most Common Transaction amounts', fontsize = 20)\n",
    "plt.xlabel('Amounts')\n",
    "plt.ylabel('Count')\n",
    "plt.show()"
   ]
  },
  {
   "cell_type": "code",
   "execution_count": 20,
   "metadata": {
    "colab": {
     "base_uri": "https://localhost:8080/",
     "height": 517
    },
    "executionInfo": {
     "elapsed": 35383,
     "status": "ok",
     "timestamp": 1630391775584,
     "user": {
      "displayName": "Lavkush Gupta",
      "photoUrl": "https://lh3.googleusercontent.com/a-/AOh14GhXBbqE1GucghkOOxurab_4g5akj7qOnO4F869XNw=s64",
      "userId": "13236722463613958999"
     },
     "user_tz": -330
    },
    "id": "CxGxpFAtBOT9",
    "outputId": "d8fc566f-fe9b-4c23-8067-c689c6abe5ab"
   },
   "outputs": [
    {
     "name": "stderr",
     "output_type": "stream",
     "text": [
      "/usr/local/lib/python3.7/dist-packages/seaborn/distributions.py:2557: FutureWarning: `distplot` is a deprecated function and will be removed in a future version. Please adapt your code to use either `displot` (a figure-level function with similar flexibility) or `histplot` (an axes-level function for histograms).\n",
      "  warnings.warn(msg, FutureWarning)\n"
     ]
    },
    {
     "data": {
      "image/png": "[encoded data removed]",
      "text/plain": [
       "<Figure size 720x504 with 1 Axes>"
      ]
     },
     "metadata": {
      "needs_background": "light"
     },
     "output_type": "display_data"
    }
   ],
   "source": [
    "#Distribution Plot for Amount\n",
    "ax = sns.distplot(df.amount)\n",
    "ax.set_title(label = 'Distribution Plot for Amount', fontsize = 20)\n",
    "ax.set_xlabel(xlabel = 'Amount', fontsize = 10)\n",
    "plt.show()"
   ]
  },
  {
   "cell_type": "code",
   "execution_count": 21,
   "metadata": {
    "colab": {
     "base_uri": "https://localhost:8080/"
    },
    "executionInfo": {
     "elapsed": 2118,
     "status": "ok",
     "timestamp": 1630391777688,
     "user": {
      "displayName": "Lavkush Gupta",
      "photoUrl": "https://lh3.googleusercontent.com/a-/AOh14GhXBbqE1GucghkOOxurab_4g5akj7qOnO4F869XNw=s64",
      "userId": "13236722463613958999"
     },
     "user_tz": -330
    },
    "id": "je9OBNouC9Xu",
    "outputId": "057be706-b431-4089-9aa6-3b428bc2e625"
   },
   "outputs": [
    {
     "name": "stdout",
     "output_type": "stream",
     "text": [
      "The number of fraudulent TRANSFERs = 4097\n",
      "The number of fraudulent CASH_OUTs = 4116\n",
      "The number of fraudulent CASH_Ins = 0\n",
      "The number of fraudulent Debits = 0\n",
      "The number of fraudulent Payments = 0\n"
     ]
    }
   ],
   "source": [
    "dfFraudPayment = df.loc[(df.isFraud == 1) & (df.type == 'PAYMENT')]\n",
    "dfFraudTransfer = df.loc[(df.isFraud == 1) & (df.type == 'TRANSFER')]\n",
    "dfFraudCashout = df.loc[(df.isFraud == 1) & (df.type == 'CASH_OUT')]\n",
    "dfFraudCashin = df.loc[(df.isFraud == 1) & (df.type == 'CASH_IN')]\n",
    "dfFrauddebit = df.loc[(df.isFraud == 1) & (df.type == 'DEBIT')]\n",
    "print ('The number of fraudulent TRANSFERs = {}'.format(len(dfFraudTransfer)))\n",
    "print ('The number of fraudulent CASH_OUTs = {}'.format(len(dfFraudCashout)))\n",
    "print ('The number of fraudulent CASH_Ins = {}'.format(len(dfFraudCashin)))\n",
    "print ('The number of fraudulent Debits = {}'.format(len(dfFrauddebit)))\n",
    "print ('The number of fraudulent Payments = {}'.format(len(dfFraudPayment)))"
   ]
  },
  {
   "cell_type": "markdown",
   "metadata": {
    "id": "K0JmWsKGE1Yg"
   },
   "source": [
    "From above observations it seem most of Fradulent tranctions was from TRANSFERS and CASH_OUT"
   ]
  },
  {
   "cell_type": "code",
   "execution_count": 22,
   "metadata": {
    "colab": {
     "base_uri": "https://localhost:8080/"
    },
    "executionInfo": {
     "elapsed": 1176,
     "status": "ok",
     "timestamp": 1630391778848,
     "user": {
      "displayName": "Lavkush Gupta",
      "photoUrl": "https://lh3.googleusercontent.com/a-/AOh14GhXBbqE1GucghkOOxurab_4g5akj7qOnO4F869XNw=s64",
      "userId": "13236722463613958999"
     },
     "user_tz": -330
    },
    "id": "VXtV_iUQDqmR",
    "outputId": "59acc912-3fef-45bf-d4a5-6a1741556bae"
   },
   "outputs": [
    {
     "name": "stdout",
     "output_type": "stream",
     "text": [
      "Transfer Transaction\n",
      "Minimum Transaction : 63.8\n",
      "Maximum Transaction : 10000000.0\n",
      "\n",
      "CASH_OUT Transaction\n",
      "Minimum Transaction : 0.0\n",
      "Maximum Transaction : 10000000.0\n"
     ]
    }
   ],
   "source": [
    "# Finding out the minimum and maximum transaction from Transfer and cash out transaction mode when it is set to be Fraud\n",
    "\n",
    "print(\"Transfer Transaction\")\n",
    "print(\"Minimum Transaction :\", df.loc[(df.isFraud == 1) & (df.type == 'TRANSFER')].amount.min())\n",
    "print(\"Maximum Transaction :\", df.loc[(df.isFraud == 1) & (df.type == 'TRANSFER')].amount.max())\n",
    "\n",
    "print(\"\\nCASH_OUT Transaction\")\n",
    "print(\"Minimum Transaction :\", df.loc[(df.isFraud == 1) & (df.type == 'CASH_OUT')].amount.min())\n",
    "print(\"Maximum Transaction :\", df.loc[(df.isFraud == 1) & (df.type == 'CASH_OUT')].amount.max())"
   ]
  },
  {
   "cell_type": "code",
   "execution_count": 23,
   "metadata": {
    "colab": {
     "base_uri": "https://localhost:8080/"
    },
    "executionInfo": {
     "elapsed": 640,
     "status": "ok",
     "timestamp": 1630391779479,
     "user": {
      "displayName": "Lavkush Gupta",
      "photoUrl": "https://lh3.googleusercontent.com/a-/AOh14GhXBbqE1GucghkOOxurab_4g5akj7qOnO4F869XNw=s64",
      "userId": "13236722463613958999"
     },
     "user_tz": -330
    },
    "id": "E2Yy-RQXGFIr",
    "outputId": "6a08c4aa-07b0-4a79-b3bc-3dc8220c443e"
   },
   "outputs": [
    {
     "name": "stdout",
     "output_type": "stream",
     "text": [
      "The no. of Flagged Fraudulent Transactions : 16\n",
      "Minimum Transaction : 353874.22\n",
      "Maximum Transaction : 10000000.0\n"
     ]
    }
   ],
   "source": [
    "# Figuringing out the no. of flagged fraudulent transactions\n",
    "FlaggedFraud = df.loc[(df.isFlaggedFraud == 1) & (df.type == 'TRANSFER')]\n",
    "print(\"The no. of Flagged Fraudulent Transactions :\", len(FlaggedFraud))\n",
    "\n",
    "# Printing the minimum and maximum transactions done when FlaggedFraud is set\n",
    "# The Transaction mode being Transfer\n",
    "print(\"Minimum Transaction :\", df.loc[df.isFlaggedFraud == 1].amount.min())\n",
    "print(\"Maximum Transaction :\", df.loc[df.isFlaggedFraud == 1].amount.max())"
   ]
  },
  {
   "cell_type": "markdown",
   "metadata": {
    "id": "FtKrObTwGusb"
   },
   "source": [
    "#  Dataset where only Transfer Transactions are mentioned"
   ]
  },
  {
   "cell_type": "code",
   "execution_count": 24,
   "metadata": {
    "colab": {
     "base_uri": "https://localhost:8080/",
     "height": 379
    },
    "executionInfo": {
     "elapsed": 647,
     "status": "ok",
     "timestamp": 1630391780121,
     "user": {
      "displayName": "Lavkush Gupta",
      "photoUrl": "https://lh3.googleusercontent.com/a-/AOh14GhXBbqE1GucghkOOxurab_4g5akj7qOnO4F869XNw=s64",
      "userId": "13236722463613958999"
     },
     "user_tz": -330
    },
    "id": "5gSx5LPfGcuA",
    "outputId": "77d9e57b-767a-4db2-b684-033850ce5037"
   },
   "outputs": [
    {
     "data": {
      "text/html": [
       "<div>\n",
       "<style scoped>\n",
       "    .dataframe tbody tr th:only-of-type {\n",
       "        vertical-align: middle;\n",
       "    }\n",
       "\n",
       "    .dataframe tbody tr th {\n",
       "        vertical-align: top;\n",
       "    }\n",
       "\n",
       "    .dataframe thead th {\n",
       "        text-align: right;\n",
       "    }\n",
       "</style>\n",
       "<table border=\"1\" class=\"dataframe\">\n",
       "  <thead>\n",
       "    <tr style=\"text-align: right;\">\n",
       "      <th></th>\n",
       "      <th>step</th>\n",
       "      <th>type</th>\n",
       "      <th>amount</th>\n",
       "      <th>nameOrig</th>\n",
       "      <th>oldbalanceOrg</th>\n",
       "      <th>newbalanceOrig</th>\n",
       "      <th>nameDest</th>\n",
       "      <th>oldbalanceDest</th>\n",
       "      <th>newbalanceDest</th>\n",
       "      <th>isFraud</th>\n",
       "      <th>isFlaggedFraud</th>\n",
       "    </tr>\n",
       "  </thead>\n",
       "  <tbody>\n",
       "    <tr>\n",
       "      <th>2</th>\n",
       "      <td>1</td>\n",
       "      <td>TRANSFER</td>\n",
       "      <td>181.00</td>\n",
       "      <td>C1305486145</td>\n",
       "      <td>181.00</td>\n",
       "      <td>0.0</td>\n",
       "      <td>C553264065</td>\n",
       "      <td>0.00</td>\n",
       "      <td>0.00</td>\n",
       "      <td>1</td>\n",
       "      <td>0</td>\n",
       "    </tr>\n",
       "    <tr>\n",
       "      <th>19</th>\n",
       "      <td>1</td>\n",
       "      <td>TRANSFER</td>\n",
       "      <td>215310.30</td>\n",
       "      <td>C1670993182</td>\n",
       "      <td>705.00</td>\n",
       "      <td>0.0</td>\n",
       "      <td>C1100439041</td>\n",
       "      <td>22425.00</td>\n",
       "      <td>0.00</td>\n",
       "      <td>0</td>\n",
       "      <td>0</td>\n",
       "    </tr>\n",
       "    <tr>\n",
       "      <th>24</th>\n",
       "      <td>1</td>\n",
       "      <td>TRANSFER</td>\n",
       "      <td>311685.89</td>\n",
       "      <td>C1984094095</td>\n",
       "      <td>10835.00</td>\n",
       "      <td>0.0</td>\n",
       "      <td>C932583850</td>\n",
       "      <td>6267.00</td>\n",
       "      <td>2719172.89</td>\n",
       "      <td>0</td>\n",
       "      <td>0</td>\n",
       "    </tr>\n",
       "    <tr>\n",
       "      <th>58</th>\n",
       "      <td>1</td>\n",
       "      <td>TRANSFER</td>\n",
       "      <td>62610.80</td>\n",
       "      <td>C1976401987</td>\n",
       "      <td>79114.00</td>\n",
       "      <td>16503.2</td>\n",
       "      <td>C1937962514</td>\n",
       "      <td>517.00</td>\n",
       "      <td>8383.29</td>\n",
       "      <td>0</td>\n",
       "      <td>0</td>\n",
       "    </tr>\n",
       "    <tr>\n",
       "      <th>78</th>\n",
       "      <td>1</td>\n",
       "      <td>TRANSFER</td>\n",
       "      <td>42712.39</td>\n",
       "      <td>C283039401</td>\n",
       "      <td>10363.39</td>\n",
       "      <td>0.0</td>\n",
       "      <td>C1330106945</td>\n",
       "      <td>57901.66</td>\n",
       "      <td>24044.18</td>\n",
       "      <td>0</td>\n",
       "      <td>0</td>\n",
       "    </tr>\n",
       "    <tr>\n",
       "      <th>79</th>\n",
       "      <td>1</td>\n",
       "      <td>TRANSFER</td>\n",
       "      <td>77957.68</td>\n",
       "      <td>C207471778</td>\n",
       "      <td>0.00</td>\n",
       "      <td>0.0</td>\n",
       "      <td>C1761291320</td>\n",
       "      <td>94900.00</td>\n",
       "      <td>22233.65</td>\n",
       "      <td>0</td>\n",
       "      <td>0</td>\n",
       "    </tr>\n",
       "    <tr>\n",
       "      <th>80</th>\n",
       "      <td>1</td>\n",
       "      <td>TRANSFER</td>\n",
       "      <td>17231.46</td>\n",
       "      <td>C1243171897</td>\n",
       "      <td>0.00</td>\n",
       "      <td>0.0</td>\n",
       "      <td>C783286238</td>\n",
       "      <td>24672.00</td>\n",
       "      <td>0.00</td>\n",
       "      <td>0</td>\n",
       "      <td>0</td>\n",
       "    </tr>\n",
       "    <tr>\n",
       "      <th>81</th>\n",
       "      <td>1</td>\n",
       "      <td>TRANSFER</td>\n",
       "      <td>78766.03</td>\n",
       "      <td>C1376151044</td>\n",
       "      <td>0.00</td>\n",
       "      <td>0.0</td>\n",
       "      <td>C1749186397</td>\n",
       "      <td>103772.00</td>\n",
       "      <td>277515.05</td>\n",
       "      <td>0</td>\n",
       "      <td>0</td>\n",
       "    </tr>\n",
       "    <tr>\n",
       "      <th>82</th>\n",
       "      <td>1</td>\n",
       "      <td>TRANSFER</td>\n",
       "      <td>224606.64</td>\n",
       "      <td>C873175411</td>\n",
       "      <td>0.00</td>\n",
       "      <td>0.0</td>\n",
       "      <td>C766572210</td>\n",
       "      <td>354678.92</td>\n",
       "      <td>0.00</td>\n",
       "      <td>0</td>\n",
       "      <td>0</td>\n",
       "    </tr>\n",
       "    <tr>\n",
       "      <th>83</th>\n",
       "      <td>1</td>\n",
       "      <td>TRANSFER</td>\n",
       "      <td>125872.53</td>\n",
       "      <td>C1443967876</td>\n",
       "      <td>0.00</td>\n",
       "      <td>0.0</td>\n",
       "      <td>C392292416</td>\n",
       "      <td>348512.00</td>\n",
       "      <td>3420103.09</td>\n",
       "      <td>0</td>\n",
       "      <td>0</td>\n",
       "    </tr>\n",
       "  </tbody>\n",
       "</table>\n",
       "</div>"
      ],
      "text/plain": [
       "    step      type     amount  ... newbalanceDest  isFraud  isFlaggedFraud\n",
       "2      1  TRANSFER     181.00  ...           0.00        1               0\n",
       "19     1  TRANSFER  215310.30  ...           0.00        0               0\n",
       "24     1  TRANSFER  311685.89  ...     2719172.89        0               0\n",
       "58     1  TRANSFER   62610.80  ...        8383.29        0               0\n",
       "78     1  TRANSFER   42712.39  ...       24044.18        0               0\n",
       "79     1  TRANSFER   77957.68  ...       22233.65        0               0\n",
       "80     1  TRANSFER   17231.46  ...           0.00        0               0\n",
       "81     1  TRANSFER   78766.03  ...      277515.05        0               0\n",
       "82     1  TRANSFER  224606.64  ...           0.00        0               0\n",
       "83     1  TRANSFER  125872.53  ...     3420103.09        0               0\n",
       "\n",
       "[10 rows x 11 columns]"
      ]
     },
     "execution_count": 24,
     "metadata": {},
     "output_type": "execute_result"
    }
   ],
   "source": [
    "# Defining a dataset containing only transfer type of transactions\n",
    "dataTransfer = df.loc[df['type'] == 'TRANSFER']\n",
    "dataTransfer = pd.DataFrame(dataTransfer)\n",
    "dataTransfer.head(10)"
   ]
  },
  {
   "cell_type": "code",
   "execution_count": 25,
   "metadata": {
    "colab": {
     "base_uri": "https://localhost:8080/",
     "height": 379
    },
    "executionInfo": {
     "elapsed": 42,
     "status": "ok",
     "timestamp": 1630391780128,
     "user": {
      "displayName": "Lavkush Gupta",
      "photoUrl": "https://lh3.googleusercontent.com/a-/AOh14GhXBbqE1GucghkOOxurab_4g5akj7qOnO4F869XNw=s64",
      "userId": "13236722463613958999"
     },
     "user_tz": -330
    },
    "id": "5G8Tc_l0G-a-",
    "outputId": "f11ee204-236d-4e94-f079-8baf4dcf9b28"
   },
   "outputs": [
    {
     "data": {
      "text/html": [
       "<div>\n",
       "<style scoped>\n",
       "    .dataframe tbody tr th:only-of-type {\n",
       "        vertical-align: middle;\n",
       "    }\n",
       "\n",
       "    .dataframe tbody tr th {\n",
       "        vertical-align: top;\n",
       "    }\n",
       "\n",
       "    .dataframe thead th {\n",
       "        text-align: right;\n",
       "    }\n",
       "</style>\n",
       "<table border=\"1\" class=\"dataframe\">\n",
       "  <thead>\n",
       "    <tr style=\"text-align: right;\">\n",
       "      <th></th>\n",
       "      <th>step</th>\n",
       "      <th>type</th>\n",
       "      <th>amount</th>\n",
       "      <th>nameOrig</th>\n",
       "      <th>oldbalanceOrg</th>\n",
       "      <th>newbalanceOrig</th>\n",
       "      <th>nameDest</th>\n",
       "      <th>oldbalanceDest</th>\n",
       "      <th>newbalanceDest</th>\n",
       "      <th>isFraud</th>\n",
       "      <th>isFlaggedFraud</th>\n",
       "    </tr>\n",
       "  </thead>\n",
       "  <tbody>\n",
       "    <tr>\n",
       "      <th>6205439</th>\n",
       "      <td>586</td>\n",
       "      <td>TRANSFER</td>\n",
       "      <td>353874.22</td>\n",
       "      <td>C1684585475</td>\n",
       "      <td>353874.22</td>\n",
       "      <td>353874.22</td>\n",
       "      <td>C1770418982</td>\n",
       "      <td>0.0</td>\n",
       "      <td>0.0</td>\n",
       "      <td>1</td>\n",
       "      <td>1</td>\n",
       "    </tr>\n",
       "    <tr>\n",
       "      <th>3760288</th>\n",
       "      <td>279</td>\n",
       "      <td>TRANSFER</td>\n",
       "      <td>536624.41</td>\n",
       "      <td>C1035541766</td>\n",
       "      <td>536624.41</td>\n",
       "      <td>536624.41</td>\n",
       "      <td>C1100697970</td>\n",
       "      <td>0.0</td>\n",
       "      <td>0.0</td>\n",
       "      <td>1</td>\n",
       "      <td>1</td>\n",
       "    </tr>\n",
       "    <tr>\n",
       "      <th>3247297</th>\n",
       "      <td>250</td>\n",
       "      <td>TRANSFER</td>\n",
       "      <td>1343002.08</td>\n",
       "      <td>C1100582606</td>\n",
       "      <td>1343002.08</td>\n",
       "      <td>1343002.08</td>\n",
       "      <td>C1147517658</td>\n",
       "      <td>0.0</td>\n",
       "      <td>0.0</td>\n",
       "      <td>1</td>\n",
       "      <td>1</td>\n",
       "    </tr>\n",
       "    <tr>\n",
       "      <th>6266413</th>\n",
       "      <td>617</td>\n",
       "      <td>TRANSFER</td>\n",
       "      <td>2542664.27</td>\n",
       "      <td>C786455622</td>\n",
       "      <td>2542664.27</td>\n",
       "      <td>2542664.27</td>\n",
       "      <td>C661958277</td>\n",
       "      <td>0.0</td>\n",
       "      <td>0.0</td>\n",
       "      <td>1</td>\n",
       "      <td>1</td>\n",
       "    </tr>\n",
       "    <tr>\n",
       "      <th>6351225</th>\n",
       "      <td>702</td>\n",
       "      <td>TRANSFER</td>\n",
       "      <td>3171085.59</td>\n",
       "      <td>C1892216157</td>\n",
       "      <td>3171085.59</td>\n",
       "      <td>3171085.59</td>\n",
       "      <td>C1308068787</td>\n",
       "      <td>0.0</td>\n",
       "      <td>0.0</td>\n",
       "      <td>1</td>\n",
       "      <td>1</td>\n",
       "    </tr>\n",
       "    <tr>\n",
       "      <th>6296014</th>\n",
       "      <td>671</td>\n",
       "      <td>TRANSFER</td>\n",
       "      <td>3441041.46</td>\n",
       "      <td>C917414431</td>\n",
       "      <td>3441041.46</td>\n",
       "      <td>3441041.46</td>\n",
       "      <td>C1082139865</td>\n",
       "      <td>0.0</td>\n",
       "      <td>0.0</td>\n",
       "      <td>1</td>\n",
       "      <td>1</td>\n",
       "    </tr>\n",
       "    <tr>\n",
       "      <th>6168499</th>\n",
       "      <td>554</td>\n",
       "      <td>TRANSFER</td>\n",
       "      <td>3576297.10</td>\n",
       "      <td>C193696150</td>\n",
       "      <td>3576297.10</td>\n",
       "      <td>3576297.10</td>\n",
       "      <td>C484597480</td>\n",
       "      <td>0.0</td>\n",
       "      <td>0.0</td>\n",
       "      <td>1</td>\n",
       "      <td>1</td>\n",
       "    </tr>\n",
       "    <tr>\n",
       "      <th>5563713</th>\n",
       "      <td>387</td>\n",
       "      <td>TRANSFER</td>\n",
       "      <td>4892193.09</td>\n",
       "      <td>C908544136</td>\n",
       "      <td>4892193.09</td>\n",
       "      <td>4892193.09</td>\n",
       "      <td>C891140444</td>\n",
       "      <td>0.0</td>\n",
       "      <td>0.0</td>\n",
       "      <td>1</td>\n",
       "      <td>1</td>\n",
       "    </tr>\n",
       "    <tr>\n",
       "      <th>2736446</th>\n",
       "      <td>212</td>\n",
       "      <td>TRANSFER</td>\n",
       "      <td>4953893.08</td>\n",
       "      <td>C728984460</td>\n",
       "      <td>4953893.08</td>\n",
       "      <td>4953893.08</td>\n",
       "      <td>C639921569</td>\n",
       "      <td>0.0</td>\n",
       "      <td>0.0</td>\n",
       "      <td>1</td>\n",
       "      <td>1</td>\n",
       "    </tr>\n",
       "    <tr>\n",
       "      <th>6362584</th>\n",
       "      <td>741</td>\n",
       "      <td>TRANSFER</td>\n",
       "      <td>5674547.89</td>\n",
       "      <td>C992223106</td>\n",
       "      <td>5674547.89</td>\n",
       "      <td>5674547.89</td>\n",
       "      <td>C1366804249</td>\n",
       "      <td>0.0</td>\n",
       "      <td>0.0</td>\n",
       "      <td>1</td>\n",
       "      <td>1</td>\n",
       "    </tr>\n",
       "  </tbody>\n",
       "</table>\n",
       "</div>"
      ],
      "text/plain": [
       "         step      type      amount  ... newbalanceDest  isFraud  isFlaggedFraud\n",
       "6205439   586  TRANSFER   353874.22  ...            0.0        1               1\n",
       "3760288   279  TRANSFER   536624.41  ...            0.0        1               1\n",
       "3247297   250  TRANSFER  1343002.08  ...            0.0        1               1\n",
       "6266413   617  TRANSFER  2542664.27  ...            0.0        1               1\n",
       "6351225   702  TRANSFER  3171085.59  ...            0.0        1               1\n",
       "6296014   671  TRANSFER  3441041.46  ...            0.0        1               1\n",
       "6168499   554  TRANSFER  3576297.10  ...            0.0        1               1\n",
       "5563713   387  TRANSFER  4892193.09  ...            0.0        1               1\n",
       "2736446   212  TRANSFER  4953893.08  ...            0.0        1               1\n",
       "6362584   741  TRANSFER  5674547.89  ...            0.0        1               1\n",
       "\n",
       "[10 rows x 11 columns]"
      ]
     },
     "execution_count": 25,
     "metadata": {},
     "output_type": "execute_result"
    }
   ],
   "source": [
    "# Frauds having same old and new balance\n",
    "# Sorted by old orignal balance to check original old balance for flagged frauds\n",
    "dataTransfer.loc[(dataTransfer.isFlaggedFraud == 1) & (dataTransfer.oldbalanceOrg == dataTransfer.newbalanceOrig)].sort_values(by = 'oldbalanceOrg').head(10)\n",
    "# This table shows flagged frauds with minimum original old balance"
   ]
  },
  {
   "cell_type": "code",
   "execution_count": 26,
   "metadata": {
    "colab": {
     "base_uri": "https://localhost:8080/",
     "height": 379
    },
    "executionInfo": {
     "elapsed": 41,
     "status": "ok",
     "timestamp": 1630391780130,
     "user": {
      "displayName": "Lavkush Gupta",
      "photoUrl": "https://lh3.googleusercontent.com/a-/AOh14GhXBbqE1GucghkOOxurab_4g5akj7qOnO4F869XNw=s64",
      "userId": "13236722463613958999"
     },
     "user_tz": -330
    },
    "id": "G1HecR8JHlAQ",
    "outputId": "ef66f52e-03e5-464d-dfb9-1f853c7bca9b"
   },
   "outputs": [
    {
     "data": {
      "text/html": [
       "<div>\n",
       "<style scoped>\n",
       "    .dataframe tbody tr th:only-of-type {\n",
       "        vertical-align: middle;\n",
       "    }\n",
       "\n",
       "    .dataframe tbody tr th {\n",
       "        vertical-align: top;\n",
       "    }\n",
       "\n",
       "    .dataframe thead th {\n",
       "        text-align: right;\n",
       "    }\n",
       "</style>\n",
       "<table border=\"1\" class=\"dataframe\">\n",
       "  <thead>\n",
       "    <tr style=\"text-align: right;\">\n",
       "      <th></th>\n",
       "      <th>step</th>\n",
       "      <th>type</th>\n",
       "      <th>amount</th>\n",
       "      <th>nameOrig</th>\n",
       "      <th>oldbalanceOrg</th>\n",
       "      <th>newbalanceOrig</th>\n",
       "      <th>nameDest</th>\n",
       "      <th>oldbalanceDest</th>\n",
       "      <th>newbalanceDest</th>\n",
       "      <th>isFraud</th>\n",
       "      <th>isFlaggedFraud</th>\n",
       "    </tr>\n",
       "  </thead>\n",
       "  <tbody>\n",
       "    <tr>\n",
       "      <th>6168499</th>\n",
       "      <td>554</td>\n",
       "      <td>TRANSFER</td>\n",
       "      <td>3576297.10</td>\n",
       "      <td>C193696150</td>\n",
       "      <td>3576297.10</td>\n",
       "      <td>3576297.10</td>\n",
       "      <td>C484597480</td>\n",
       "      <td>0.0</td>\n",
       "      <td>0.0</td>\n",
       "      <td>1</td>\n",
       "      <td>1</td>\n",
       "    </tr>\n",
       "    <tr>\n",
       "      <th>5563713</th>\n",
       "      <td>387</td>\n",
       "      <td>TRANSFER</td>\n",
       "      <td>4892193.09</td>\n",
       "      <td>C908544136</td>\n",
       "      <td>4892193.09</td>\n",
       "      <td>4892193.09</td>\n",
       "      <td>C891140444</td>\n",
       "      <td>0.0</td>\n",
       "      <td>0.0</td>\n",
       "      <td>1</td>\n",
       "      <td>1</td>\n",
       "    </tr>\n",
       "    <tr>\n",
       "      <th>2736446</th>\n",
       "      <td>212</td>\n",
       "      <td>TRANSFER</td>\n",
       "      <td>4953893.08</td>\n",
       "      <td>C728984460</td>\n",
       "      <td>4953893.08</td>\n",
       "      <td>4953893.08</td>\n",
       "      <td>C639921569</td>\n",
       "      <td>0.0</td>\n",
       "      <td>0.0</td>\n",
       "      <td>1</td>\n",
       "      <td>1</td>\n",
       "    </tr>\n",
       "    <tr>\n",
       "      <th>6362584</th>\n",
       "      <td>741</td>\n",
       "      <td>TRANSFER</td>\n",
       "      <td>5674547.89</td>\n",
       "      <td>C992223106</td>\n",
       "      <td>5674547.89</td>\n",
       "      <td>5674547.89</td>\n",
       "      <td>C1366804249</td>\n",
       "      <td>0.0</td>\n",
       "      <td>0.0</td>\n",
       "      <td>1</td>\n",
       "      <td>1</td>\n",
       "    </tr>\n",
       "    <tr>\n",
       "      <th>6281482</th>\n",
       "      <td>646</td>\n",
       "      <td>TRANSFER</td>\n",
       "      <td>10000000.00</td>\n",
       "      <td>C19004745</td>\n",
       "      <td>10399045.08</td>\n",
       "      <td>10399045.08</td>\n",
       "      <td>C1806199534</td>\n",
       "      <td>0.0</td>\n",
       "      <td>0.0</td>\n",
       "      <td>1</td>\n",
       "      <td>1</td>\n",
       "    </tr>\n",
       "    <tr>\n",
       "      <th>6281484</th>\n",
       "      <td>646</td>\n",
       "      <td>TRANSFER</td>\n",
       "      <td>399045.08</td>\n",
       "      <td>C724693370</td>\n",
       "      <td>10399045.08</td>\n",
       "      <td>10399045.08</td>\n",
       "      <td>C1909486199</td>\n",
       "      <td>0.0</td>\n",
       "      <td>0.0</td>\n",
       "      <td>1</td>\n",
       "      <td>1</td>\n",
       "    </tr>\n",
       "    <tr>\n",
       "      <th>6362460</th>\n",
       "      <td>730</td>\n",
       "      <td>TRANSFER</td>\n",
       "      <td>10000000.00</td>\n",
       "      <td>C2140038573</td>\n",
       "      <td>17316255.05</td>\n",
       "      <td>17316255.05</td>\n",
       "      <td>C1395467927</td>\n",
       "      <td>0.0</td>\n",
       "      <td>0.0</td>\n",
       "      <td>1</td>\n",
       "      <td>1</td>\n",
       "    </tr>\n",
       "    <tr>\n",
       "      <th>6362462</th>\n",
       "      <td>730</td>\n",
       "      <td>TRANSFER</td>\n",
       "      <td>7316255.05</td>\n",
       "      <td>C1869569059</td>\n",
       "      <td>17316255.05</td>\n",
       "      <td>17316255.05</td>\n",
       "      <td>C1861208726</td>\n",
       "      <td>0.0</td>\n",
       "      <td>0.0</td>\n",
       "      <td>1</td>\n",
       "      <td>1</td>\n",
       "    </tr>\n",
       "    <tr>\n",
       "      <th>5996407</th>\n",
       "      <td>425</td>\n",
       "      <td>TRANSFER</td>\n",
       "      <td>10000000.00</td>\n",
       "      <td>C689608084</td>\n",
       "      <td>19585040.37</td>\n",
       "      <td>19585040.37</td>\n",
       "      <td>C1392803603</td>\n",
       "      <td>0.0</td>\n",
       "      <td>0.0</td>\n",
       "      <td>1</td>\n",
       "      <td>1</td>\n",
       "    </tr>\n",
       "    <tr>\n",
       "      <th>5996409</th>\n",
       "      <td>425</td>\n",
       "      <td>TRANSFER</td>\n",
       "      <td>9585040.37</td>\n",
       "      <td>C452586515</td>\n",
       "      <td>19585040.37</td>\n",
       "      <td>19585040.37</td>\n",
       "      <td>C1109166882</td>\n",
       "      <td>0.0</td>\n",
       "      <td>0.0</td>\n",
       "      <td>1</td>\n",
       "      <td>1</td>\n",
       "    </tr>\n",
       "  </tbody>\n",
       "</table>\n",
       "</div>"
      ],
      "text/plain": [
       "         step      type       amount  ... newbalanceDest  isFraud  isFlaggedFraud\n",
       "6168499   554  TRANSFER   3576297.10  ...            0.0        1               1\n",
       "5563713   387  TRANSFER   4892193.09  ...            0.0        1               1\n",
       "2736446   212  TRANSFER   4953893.08  ...            0.0        1               1\n",
       "6362584   741  TRANSFER   5674547.89  ...            0.0        1               1\n",
       "6281482   646  TRANSFER  10000000.00  ...            0.0        1               1\n",
       "6281484   646  TRANSFER    399045.08  ...            0.0        1               1\n",
       "6362460   730  TRANSFER  10000000.00  ...            0.0        1               1\n",
       "6362462   730  TRANSFER   7316255.05  ...            0.0        1               1\n",
       "5996407   425  TRANSFER  10000000.00  ...            0.0        1               1\n",
       "5996409   425  TRANSFER   9585040.37  ...            0.0        1               1\n",
       "\n",
       "[10 rows x 11 columns]"
      ]
     },
     "execution_count": 26,
     "metadata": {},
     "output_type": "execute_result"
    }
   ],
   "source": [
    "# Frauds having same old and new balance\n",
    "# Sorted by old orignal balance to check original old balance for flagged frauds\n",
    "dataTransfer.loc[(dataTransfer.isFlaggedFraud == 1) & (dataTransfer.oldbalanceOrg == dataTransfer.newbalanceOrig)].sort_values(by = 'oldbalanceOrg').tail(10)\n",
    "# This table shows flagged frauds with minimum original old balance"
   ]
  },
  {
   "cell_type": "code",
   "execution_count": 27,
   "metadata": {
    "colab": {
     "base_uri": "https://localhost:8080/"
    },
    "executionInfo": {
     "elapsed": 39,
     "status": "ok",
     "timestamp": 1630391780132,
     "user": {
      "displayName": "Lavkush Gupta",
      "photoUrl": "https://lh3.googleusercontent.com/a-/AOh14GhXBbqE1GucghkOOxurab_4g5akj7qOnO4F869XNw=s64",
      "userId": "13236722463613958999"
     },
     "user_tz": -330
    },
    "id": "AdtIq5isHnmF",
    "outputId": "67df9e40-69b8-44a4-cad0-a0913509f94b"
   },
   "outputs": [
    {
     "name": "stdout",
     "output_type": "stream",
     "text": [
      "Minimum Balance of oldBalanceOrig for FlaggedFraud and Transfer mode : 353874.22\n",
      "Maximum Balance of oldbalanceOrig for FlaggedFraud and Transfer mode : 19585040.37\n"
     ]
    }
   ],
   "source": [
    "# Finding out the minimum and maximum amount for oldbalance original where oldbalance and newbalance for dest is same.\n",
    "\n",
    "dataFlagged = df.loc[df.isFlaggedFraud == 1]\n",
    "\n",
    "print('Minimum Balance of oldBalanceOrig for FlaggedFraud and Transfer mode :', dataFlagged.oldbalanceOrg.min())\n",
    "print('Maximum Balance of oldbalanceOrig for FlaggedFraud and Transfer mode :', dataFlagged.oldbalanceOrg.max())"
   ]
  },
  {
   "cell_type": "code",
   "execution_count": 28,
   "metadata": {
    "colab": {
     "base_uri": "https://localhost:8080/"
    },
    "executionInfo": {
     "elapsed": 442,
     "status": "ok",
     "timestamp": 1630391780905,
     "user": {
      "displayName": "Lavkush Gupta",
      "photoUrl": "https://lh3.googleusercontent.com/a-/AOh14GhXBbqE1GucghkOOxurab_4g5akj7qOnO4F869XNw=s64",
      "userId": "13236722463613958999"
     },
     "user_tz": -330
    },
    "id": "uTfL_eYqH3tw",
    "outputId": "9f8b4042-2666-401b-9d5e-203a5ed744c1"
   },
   "outputs": [
    {
     "data": {
      "text/plain": [
       "(2770409, 11)"
      ]
     },
     "execution_count": 28,
     "metadata": {},
     "output_type": "execute_result"
    }
   ],
   "source": [
    "#Since frad has occured for type TRANSFER AND CASHOUT\n",
    "X = df.loc[(df.type == 'TRANSFER') | (df.type == 'CASH_OUT')]\n",
    "X.shape"
   ]
  },
  {
   "cell_type": "code",
   "execution_count": 29,
   "metadata": {
    "colab": {
     "base_uri": "https://localhost:8080/",
     "height": 224
    },
    "executionInfo": {
     "elapsed": 59,
     "status": "ok",
     "timestamp": 1630391780946,
     "user": {
      "displayName": "Lavkush Gupta",
      "photoUrl": "https://lh3.googleusercontent.com/a-/AOh14GhXBbqE1GucghkOOxurab_4g5akj7qOnO4F869XNw=s64",
      "userId": "13236722463613958999"
     },
     "user_tz": -330
    },
    "id": "KQlyLBECIORo",
    "outputId": "970ce331-c54b-4f5b-b831-d76b4b2b5189"
   },
   "outputs": [
    {
     "data": {
      "text/html": [
       "<div>\n",
       "<style scoped>\n",
       "    .dataframe tbody tr th:only-of-type {\n",
       "        vertical-align: middle;\n",
       "    }\n",
       "\n",
       "    .dataframe tbody tr th {\n",
       "        vertical-align: top;\n",
       "    }\n",
       "\n",
       "    .dataframe thead th {\n",
       "        text-align: right;\n",
       "    }\n",
       "</style>\n",
       "<table border=\"1\" class=\"dataframe\">\n",
       "  <thead>\n",
       "    <tr style=\"text-align: right;\">\n",
       "      <th></th>\n",
       "      <th>step</th>\n",
       "      <th>type</th>\n",
       "      <th>amount</th>\n",
       "      <th>nameOrig</th>\n",
       "      <th>oldbalanceOrg</th>\n",
       "      <th>newbalanceOrig</th>\n",
       "      <th>nameDest</th>\n",
       "      <th>oldbalanceDest</th>\n",
       "      <th>newbalanceDest</th>\n",
       "      <th>isFraud</th>\n",
       "      <th>isFlaggedFraud</th>\n",
       "    </tr>\n",
       "  </thead>\n",
       "  <tbody>\n",
       "    <tr>\n",
       "      <th>2</th>\n",
       "      <td>1</td>\n",
       "      <td>TRANSFER</td>\n",
       "      <td>181.00</td>\n",
       "      <td>C1305486145</td>\n",
       "      <td>181.0</td>\n",
       "      <td>0.0</td>\n",
       "      <td>C553264065</td>\n",
       "      <td>0.0</td>\n",
       "      <td>0.00</td>\n",
       "      <td>1</td>\n",
       "      <td>0</td>\n",
       "    </tr>\n",
       "    <tr>\n",
       "      <th>3</th>\n",
       "      <td>1</td>\n",
       "      <td>CASH_OUT</td>\n",
       "      <td>181.00</td>\n",
       "      <td>C840083671</td>\n",
       "      <td>181.0</td>\n",
       "      <td>0.0</td>\n",
       "      <td>C38997010</td>\n",
       "      <td>21182.0</td>\n",
       "      <td>0.00</td>\n",
       "      <td>1</td>\n",
       "      <td>0</td>\n",
       "    </tr>\n",
       "    <tr>\n",
       "      <th>15</th>\n",
       "      <td>1</td>\n",
       "      <td>CASH_OUT</td>\n",
       "      <td>229133.94</td>\n",
       "      <td>C905080434</td>\n",
       "      <td>15325.0</td>\n",
       "      <td>0.0</td>\n",
       "      <td>C476402209</td>\n",
       "      <td>5083.0</td>\n",
       "      <td>51513.44</td>\n",
       "      <td>0</td>\n",
       "      <td>0</td>\n",
       "    </tr>\n",
       "    <tr>\n",
       "      <th>19</th>\n",
       "      <td>1</td>\n",
       "      <td>TRANSFER</td>\n",
       "      <td>215310.30</td>\n",
       "      <td>C1670993182</td>\n",
       "      <td>705.0</td>\n",
       "      <td>0.0</td>\n",
       "      <td>C1100439041</td>\n",
       "      <td>22425.0</td>\n",
       "      <td>0.00</td>\n",
       "      <td>0</td>\n",
       "      <td>0</td>\n",
       "    </tr>\n",
       "    <tr>\n",
       "      <th>24</th>\n",
       "      <td>1</td>\n",
       "      <td>TRANSFER</td>\n",
       "      <td>311685.89</td>\n",
       "      <td>C1984094095</td>\n",
       "      <td>10835.0</td>\n",
       "      <td>0.0</td>\n",
       "      <td>C932583850</td>\n",
       "      <td>6267.0</td>\n",
       "      <td>2719172.89</td>\n",
       "      <td>0</td>\n",
       "      <td>0</td>\n",
       "    </tr>\n",
       "  </tbody>\n",
       "</table>\n",
       "</div>"
      ],
      "text/plain": [
       "    step      type     amount  ... newbalanceDest  isFraud  isFlaggedFraud\n",
       "2      1  TRANSFER     181.00  ...           0.00        1               0\n",
       "3      1  CASH_OUT     181.00  ...           0.00        1               0\n",
       "15     1  CASH_OUT  229133.94  ...       51513.44        0               0\n",
       "19     1  TRANSFER  215310.30  ...           0.00        0               0\n",
       "24     1  TRANSFER  311685.89  ...     2719172.89        0               0\n",
       "\n",
       "[5 rows x 11 columns]"
      ]
     },
     "execution_count": 29,
     "metadata": {},
     "output_type": "execute_result"
    }
   ],
   "source": [
    "X.head()\n"
   ]
  },
  {
   "cell_type": "code",
   "execution_count": 30,
   "metadata": {
    "colab": {
     "base_uri": "https://localhost:8080/"
    },
    "executionInfo": {
     "elapsed": 609,
     "status": "ok",
     "timestamp": 1630391781501,
     "user": {
      "displayName": "Lavkush Gupta",
      "photoUrl": "https://lh3.googleusercontent.com/a-/AOh14GhXBbqE1GucghkOOxurab_4g5akj7qOnO4F869XNw=s64",
      "userId": "13236722463613958999"
     },
     "user_tz": -330
    },
    "id": "Xd-CsybGISbO",
    "outputId": "1dcfeaa8-0e4f-4c43-faa7-b65ef454ec51"
   },
   "outputs": [
    {
     "data": {
      "text/plain": [
       "(2770409, 9)"
      ]
     },
     "execution_count": 30,
     "metadata": {},
     "output_type": "execute_result"
    }
   ],
   "source": [
    "# Removing Unwanted columns\n",
    "\n",
    "X = X.drop(['nameDest','nameOrig'], axis = 1)\n",
    "X.shape"
   ]
  },
  {
   "cell_type": "markdown",
   "metadata": {
    "id": "q9YC9LbnpUEM"
   },
   "source": [
    "## Preprocessing and Feature Engineering\n",
    "\n",
    "Let's take a look at the available columns, and figure out if we can create new columns or apply any useful transformations."
   ]
  },
  {
   "cell_type": "code",
   "execution_count": 31,
   "metadata": {
    "colab": {
     "base_uri": "https://localhost:8080/"
    },
    "executionInfo": {
     "elapsed": 22,
     "status": "ok",
     "timestamp": 1630391781504,
     "user": {
      "displayName": "Lavkush Gupta",
      "photoUrl": "https://lh3.googleusercontent.com/a-/AOh14GhXBbqE1GucghkOOxurab_4g5akj7qOnO4F869XNw=s64",
      "userId": "13236722463613958999"
     },
     "user_tz": -330
    },
    "id": "oclLQZb-JBbY",
    "outputId": "d7039cab-5785-4cb0-af0b-eaa7b8df7d8e"
   },
   "outputs": [
    {
     "data": {
      "text/plain": [
       "(2770409, 11)"
      ]
     },
     "execution_count": 31,
     "metadata": {},
     "output_type": "execute_result"
    }
   ],
   "source": [
    "#Adding New Features to Dataset\n",
    "X['errorBalanceOrig'] = X.newbalanceOrig + X.amount - X.oldbalanceOrg\n",
    "X['errorBalanceDest'] = X.oldbalanceDest + X.amount - X.newbalanceDest\n",
    "X.shape"
   ]
  },
  {
   "cell_type": "code",
   "execution_count": 32,
   "metadata": {
    "executionInfo": {
     "elapsed": 421,
     "status": "ok",
     "timestamp": 1630391781914,
     "user": {
      "displayName": "Lavkush Gupta",
      "photoUrl": "https://lh3.googleusercontent.com/a-/AOh14GhXBbqE1GucghkOOxurab_4g5akj7qOnO4F869XNw=s64",
      "userId": "13236722463613958999"
     },
     "user_tz": -330
    },
    "id": "F74Etv8SJBew"
   },
   "outputs": [],
   "source": [
    "#One Hot Encoding For Categorical Variable Type\n",
    "X['type'].replace('TRANSFER', 0, inplace = True)\n",
    "X['type'].replace('CASH_OUT', 1, inplace = True)"
   ]
  },
  {
   "cell_type": "code",
   "execution_count": 33,
   "metadata": {
    "colab": {
     "base_uri": "https://localhost:8080/",
     "height": 379
    },
    "executionInfo": {
     "elapsed": 25,
     "status": "ok",
     "timestamp": 1630391781917,
     "user": {
      "displayName": "Lavkush Gupta",
      "photoUrl": "https://lh3.googleusercontent.com/a-/AOh14GhXBbqE1GucghkOOxurab_4g5akj7qOnO4F869XNw=s64",
      "userId": "13236722463613958999"
     },
     "user_tz": -330
    },
    "id": "EANxmQH-JBhw",
    "outputId": "2014e605-1239-4614-ffca-1abba45c1233"
   },
   "outputs": [
    {
     "data": {
      "text/html": [
       "<div>\n",
       "<style scoped>\n",
       "    .dataframe tbody tr th:only-of-type {\n",
       "        vertical-align: middle;\n",
       "    }\n",
       "\n",
       "    .dataframe tbody tr th {\n",
       "        vertical-align: top;\n",
       "    }\n",
       "\n",
       "    .dataframe thead th {\n",
       "        text-align: right;\n",
       "    }\n",
       "</style>\n",
       "<table border=\"1\" class=\"dataframe\">\n",
       "  <thead>\n",
       "    <tr style=\"text-align: right;\">\n",
       "      <th></th>\n",
       "      <th>step</th>\n",
       "      <th>type</th>\n",
       "      <th>amount</th>\n",
       "      <th>oldbalanceOrg</th>\n",
       "      <th>newbalanceOrig</th>\n",
       "      <th>oldbalanceDest</th>\n",
       "      <th>newbalanceDest</th>\n",
       "      <th>isFraud</th>\n",
       "      <th>isFlaggedFraud</th>\n",
       "      <th>errorBalanceOrig</th>\n",
       "      <th>errorBalanceDest</th>\n",
       "    </tr>\n",
       "  </thead>\n",
       "  <tbody>\n",
       "    <tr>\n",
       "      <th>2</th>\n",
       "      <td>1</td>\n",
       "      <td>0</td>\n",
       "      <td>181.00</td>\n",
       "      <td>181.00</td>\n",
       "      <td>0.0</td>\n",
       "      <td>0.0</td>\n",
       "      <td>0.00</td>\n",
       "      <td>1</td>\n",
       "      <td>0</td>\n",
       "      <td>0.00</td>\n",
       "      <td>181.00</td>\n",
       "    </tr>\n",
       "    <tr>\n",
       "      <th>3</th>\n",
       "      <td>1</td>\n",
       "      <td>1</td>\n",
       "      <td>181.00</td>\n",
       "      <td>181.00</td>\n",
       "      <td>0.0</td>\n",
       "      <td>21182.0</td>\n",
       "      <td>0.00</td>\n",
       "      <td>1</td>\n",
       "      <td>0</td>\n",
       "      <td>0.00</td>\n",
       "      <td>21363.00</td>\n",
       "    </tr>\n",
       "    <tr>\n",
       "      <th>15</th>\n",
       "      <td>1</td>\n",
       "      <td>1</td>\n",
       "      <td>229133.94</td>\n",
       "      <td>15325.00</td>\n",
       "      <td>0.0</td>\n",
       "      <td>5083.0</td>\n",
       "      <td>51513.44</td>\n",
       "      <td>0</td>\n",
       "      <td>0</td>\n",
       "      <td>213808.94</td>\n",
       "      <td>182703.50</td>\n",
       "    </tr>\n",
       "    <tr>\n",
       "      <th>19</th>\n",
       "      <td>1</td>\n",
       "      <td>0</td>\n",
       "      <td>215310.30</td>\n",
       "      <td>705.00</td>\n",
       "      <td>0.0</td>\n",
       "      <td>22425.0</td>\n",
       "      <td>0.00</td>\n",
       "      <td>0</td>\n",
       "      <td>0</td>\n",
       "      <td>214605.30</td>\n",
       "      <td>237735.30</td>\n",
       "    </tr>\n",
       "    <tr>\n",
       "      <th>24</th>\n",
       "      <td>1</td>\n",
       "      <td>0</td>\n",
       "      <td>311685.89</td>\n",
       "      <td>10835.00</td>\n",
       "      <td>0.0</td>\n",
       "      <td>6267.0</td>\n",
       "      <td>2719172.89</td>\n",
       "      <td>0</td>\n",
       "      <td>0</td>\n",
       "      <td>300850.89</td>\n",
       "      <td>-2401220.00</td>\n",
       "    </tr>\n",
       "    <tr>\n",
       "      <th>42</th>\n",
       "      <td>1</td>\n",
       "      <td>1</td>\n",
       "      <td>110414.71</td>\n",
       "      <td>26845.41</td>\n",
       "      <td>0.0</td>\n",
       "      <td>288800.0</td>\n",
       "      <td>2415.16</td>\n",
       "      <td>0</td>\n",
       "      <td>0</td>\n",
       "      <td>83569.30</td>\n",
       "      <td>396799.55</td>\n",
       "    </tr>\n",
       "    <tr>\n",
       "      <th>47</th>\n",
       "      <td>1</td>\n",
       "      <td>1</td>\n",
       "      <td>56953.90</td>\n",
       "      <td>1942.02</td>\n",
       "      <td>0.0</td>\n",
       "      <td>70253.0</td>\n",
       "      <td>64106.18</td>\n",
       "      <td>0</td>\n",
       "      <td>0</td>\n",
       "      <td>55011.88</td>\n",
       "      <td>63100.72</td>\n",
       "    </tr>\n",
       "    <tr>\n",
       "      <th>48</th>\n",
       "      <td>1</td>\n",
       "      <td>1</td>\n",
       "      <td>5346.89</td>\n",
       "      <td>0.00</td>\n",
       "      <td>0.0</td>\n",
       "      <td>652637.0</td>\n",
       "      <td>6453430.91</td>\n",
       "      <td>0</td>\n",
       "      <td>0</td>\n",
       "      <td>5346.89</td>\n",
       "      <td>-5795447.02</td>\n",
       "    </tr>\n",
       "    <tr>\n",
       "      <th>51</th>\n",
       "      <td>1</td>\n",
       "      <td>1</td>\n",
       "      <td>23261.30</td>\n",
       "      <td>20411.53</td>\n",
       "      <td>0.0</td>\n",
       "      <td>25742.0</td>\n",
       "      <td>0.00</td>\n",
       "      <td>0</td>\n",
       "      <td>0</td>\n",
       "      <td>2849.77</td>\n",
       "      <td>49003.30</td>\n",
       "    </tr>\n",
       "    <tr>\n",
       "      <th>58</th>\n",
       "      <td>1</td>\n",
       "      <td>0</td>\n",
       "      <td>62610.80</td>\n",
       "      <td>79114.00</td>\n",
       "      <td>16503.2</td>\n",
       "      <td>517.0</td>\n",
       "      <td>8383.29</td>\n",
       "      <td>0</td>\n",
       "      <td>0</td>\n",
       "      <td>0.00</td>\n",
       "      <td>54744.51</td>\n",
       "    </tr>\n",
       "  </tbody>\n",
       "</table>\n",
       "</div>"
      ],
      "text/plain": [
       "    step  type     amount  ...  isFlaggedFraud  errorBalanceOrig  errorBalanceDest\n",
       "2      1     0     181.00  ...               0              0.00            181.00\n",
       "3      1     1     181.00  ...               0              0.00          21363.00\n",
       "15     1     1  229133.94  ...               0         213808.94         182703.50\n",
       "19     1     0  215310.30  ...               0         214605.30         237735.30\n",
       "24     1     0  311685.89  ...               0         300850.89       -2401220.00\n",
       "42     1     1  110414.71  ...               0          83569.30         396799.55\n",
       "47     1     1   56953.90  ...               0          55011.88          63100.72\n",
       "48     1     1    5346.89  ...               0           5346.89       -5795447.02\n",
       "51     1     1   23261.30  ...               0           2849.77          49003.30\n",
       "58     1     0   62610.80  ...               0              0.00          54744.51\n",
       "\n",
       "[10 rows x 11 columns]"
      ]
     },
     "execution_count": 33,
     "metadata": {},
     "output_type": "execute_result"
    }
   ],
   "source": [
    "X.head(10)\n"
   ]
  },
  {
   "cell_type": "code",
   "execution_count": 34,
   "metadata": {
    "colab": {
     "base_uri": "https://localhost:8080/"
    },
    "executionInfo": {
     "elapsed": 23,
     "status": "ok",
     "timestamp": 1630391781918,
     "user": {
      "displayName": "Lavkush Gupta",
      "photoUrl": "https://lh3.googleusercontent.com/a-/AOh14GhXBbqE1GucghkOOxurab_4g5akj7qOnO4F869XNw=s64",
      "userId": "13236722463613958999"
     },
     "user_tz": -330
    },
    "id": "Em3yNDeCJ4eS",
    "outputId": "b5d92f37-57dc-4fc8-fdd2-813a9d66c3ae"
   },
   "outputs": [
    {
     "data": {
      "text/plain": [
       "0    2762196\n",
       "1       8213\n",
       "Name: isFraud, dtype: int64"
      ]
     },
     "execution_count": 34,
     "metadata": {},
     "output_type": "execute_result"
    }
   ],
   "source": [
    "#Checiking the No of Fraus cases in New Datasets\n",
    "X['isFraud'].value_counts()\n"
   ]
  },
  {
   "cell_type": "code",
   "execution_count": 35,
   "metadata": {
    "colab": {
     "base_uri": "https://localhost:8080/"
    },
    "executionInfo": {
     "elapsed": 359,
     "status": "ok",
     "timestamp": 1630391782259,
     "user": {
      "displayName": "Lavkush Gupta",
      "photoUrl": "https://lh3.googleusercontent.com/a-/AOh14GhXBbqE1GucghkOOxurab_4g5akj7qOnO4F869XNw=s64",
      "userId": "13236722463613958999"
     },
     "user_tz": -330
    },
    "id": "AJEgXcb2KIdg",
    "outputId": "892e97a3-036d-4d93-ca51-10d939370b37"
   },
   "outputs": [
    {
     "name": "stdout",
     "output_type": "stream",
     "text": [
      "Shape of x:  (2770409, 10)\n",
      "Shape of y:  (2770409,)\n"
     ]
    }
   ],
   "source": [
    "# Prearing Datasets\n",
    "Y = X['isFraud'] # Target Variable\n",
    "\n",
    "X = X.drop(['isFraud'], axis = 1) # REmoving target variable\n",
    "print(\"Shape of x: \", X.shape)\n",
    "print(\"Shape of y: \", Y.shape)"
   ]
  },
  {
   "cell_type": "code",
   "execution_count": 36,
   "metadata": {
    "colab": {
     "base_uri": "https://localhost:8080/",
     "height": 224
    },
    "executionInfo": {
     "elapsed": 25,
     "status": "ok",
     "timestamp": 1630391782262,
     "user": {
      "displayName": "Lavkush Gupta",
      "photoUrl": "https://lh3.googleusercontent.com/a-/AOh14GhXBbqE1GucghkOOxurab_4g5akj7qOnO4F869XNw=s64",
      "userId": "13236722463613958999"
     },
     "user_tz": -330
    },
    "id": "dggR7v-BKJ4a",
    "outputId": "f51d767b-8ff3-4632-f180-372476412b78"
   },
   "outputs": [
    {
     "data": {
      "text/html": [
       "<div>\n",
       "<style scoped>\n",
       "    .dataframe tbody tr th:only-of-type {\n",
       "        vertical-align: middle;\n",
       "    }\n",
       "\n",
       "    .dataframe tbody tr th {\n",
       "        vertical-align: top;\n",
       "    }\n",
       "\n",
       "    .dataframe thead th {\n",
       "        text-align: right;\n",
       "    }\n",
       "</style>\n",
       "<table border=\"1\" class=\"dataframe\">\n",
       "  <thead>\n",
       "    <tr style=\"text-align: right;\">\n",
       "      <th></th>\n",
       "      <th>step</th>\n",
       "      <th>type</th>\n",
       "      <th>amount</th>\n",
       "      <th>oldbalanceOrg</th>\n",
       "      <th>newbalanceOrig</th>\n",
       "      <th>oldbalanceDest</th>\n",
       "      <th>newbalanceDest</th>\n",
       "      <th>isFlaggedFraud</th>\n",
       "      <th>errorBalanceOrig</th>\n",
       "      <th>errorBalanceDest</th>\n",
       "    </tr>\n",
       "  </thead>\n",
       "  <tbody>\n",
       "    <tr>\n",
       "      <th>2</th>\n",
       "      <td>1</td>\n",
       "      <td>0</td>\n",
       "      <td>181.00</td>\n",
       "      <td>181.0</td>\n",
       "      <td>0.0</td>\n",
       "      <td>0.0</td>\n",
       "      <td>0.00</td>\n",
       "      <td>0</td>\n",
       "      <td>0.00</td>\n",
       "      <td>181.0</td>\n",
       "    </tr>\n",
       "    <tr>\n",
       "      <th>3</th>\n",
       "      <td>1</td>\n",
       "      <td>1</td>\n",
       "      <td>181.00</td>\n",
       "      <td>181.0</td>\n",
       "      <td>0.0</td>\n",
       "      <td>21182.0</td>\n",
       "      <td>0.00</td>\n",
       "      <td>0</td>\n",
       "      <td>0.00</td>\n",
       "      <td>21363.0</td>\n",
       "    </tr>\n",
       "    <tr>\n",
       "      <th>15</th>\n",
       "      <td>1</td>\n",
       "      <td>1</td>\n",
       "      <td>229133.94</td>\n",
       "      <td>15325.0</td>\n",
       "      <td>0.0</td>\n",
       "      <td>5083.0</td>\n",
       "      <td>51513.44</td>\n",
       "      <td>0</td>\n",
       "      <td>213808.94</td>\n",
       "      <td>182703.5</td>\n",
       "    </tr>\n",
       "    <tr>\n",
       "      <th>19</th>\n",
       "      <td>1</td>\n",
       "      <td>0</td>\n",
       "      <td>215310.30</td>\n",
       "      <td>705.0</td>\n",
       "      <td>0.0</td>\n",
       "      <td>22425.0</td>\n",
       "      <td>0.00</td>\n",
       "      <td>0</td>\n",
       "      <td>214605.30</td>\n",
       "      <td>237735.3</td>\n",
       "    </tr>\n",
       "    <tr>\n",
       "      <th>24</th>\n",
       "      <td>1</td>\n",
       "      <td>0</td>\n",
       "      <td>311685.89</td>\n",
       "      <td>10835.0</td>\n",
       "      <td>0.0</td>\n",
       "      <td>6267.0</td>\n",
       "      <td>2719172.89</td>\n",
       "      <td>0</td>\n",
       "      <td>300850.89</td>\n",
       "      <td>-2401220.0</td>\n",
       "    </tr>\n",
       "  </tbody>\n",
       "</table>\n",
       "</div>"
      ],
      "text/plain": [
       "    step  type     amount  ...  isFlaggedFraud  errorBalanceOrig  errorBalanceDest\n",
       "2      1     0     181.00  ...               0              0.00             181.0\n",
       "3      1     1     181.00  ...               0              0.00           21363.0\n",
       "15     1     1  229133.94  ...               0         213808.94          182703.5\n",
       "19     1     0  215310.30  ...               0         214605.30          237735.3\n",
       "24     1     0  311685.89  ...               0         300850.89        -2401220.0\n",
       "\n",
       "[5 rows x 10 columns]"
      ]
     },
     "execution_count": 36,
     "metadata": {},
     "output_type": "execute_result"
    }
   ],
   "source": [
    "X.head()"
   ]
  },
  {
   "cell_type": "code",
   "execution_count": 37,
   "metadata": {
    "colab": {
     "base_uri": "https://localhost:8080/"
    },
    "executionInfo": {
     "elapsed": 24,
     "status": "ok",
     "timestamp": 1630391782265,
     "user": {
      "displayName": "Lavkush Gupta",
      "photoUrl": "https://lh3.googleusercontent.com/a-/AOh14GhXBbqE1GucghkOOxurab_4g5akj7qOnO4F869XNw=s64",
      "userId": "13236722463613958999"
     },
     "user_tz": -330
    },
    "id": "sRBMJ0QQKKE_",
    "outputId": "01c58e13-8555-427f-ffca-a43e8850ddfc"
   },
   "outputs": [
    {
     "data": {
      "text/plain": [
       "2     1\n",
       "3     1\n",
       "15    0\n",
       "19    0\n",
       "24    0\n",
       "Name: isFraud, dtype: int64"
      ]
     },
     "execution_count": 37,
     "metadata": {},
     "output_type": "execute_result"
    }
   ],
   "source": [
    "Y.head()\n"
   ]
  },
  {
   "cell_type": "markdown",
   "metadata": {
    "id": "qEwetbA9pbEl"
   },
   "source": [
    "#Appling Oversampling technique SMOTE for Balanced Datasets\n"
   ]
  },
  {
   "cell_type": "code",
   "execution_count": 38,
   "metadata": {
    "colab": {
     "base_uri": "https://localhost:8080/"
    },
    "executionInfo": {
     "elapsed": 18225,
     "status": "ok",
     "timestamp": 1630391800473,
     "user": {
      "displayName": "Lavkush Gupta",
      "photoUrl": "https://lh3.googleusercontent.com/a-/AOh14GhXBbqE1GucghkOOxurab_4g5akj7qOnO4F869XNw=s64",
      "userId": "13236722463613958999"
     },
     "user_tz": -330
    },
    "id": "znQGPFkaKKHF",
    "outputId": "e77920f2-bb8d-4d3c-db38-1ae731b18ac0"
   },
   "outputs": [
    {
     "name": "stderr",
     "output_type": "stream",
     "text": [
      "/usr/local/lib/python3.7/dist-packages/sklearn/externals/six.py:31: FutureWarning: The module is deprecated in version 0.21 and will be removed in version 0.23 since we've dropped support for Python 2.7. Please rely on the official version of six (https://pypi.org/project/six/).\n",
      "  \"(https://pypi.org/project/six/).\", FutureWarning)\n",
      "/usr/local/lib/python3.7/dist-packages/sklearn/utils/deprecation.py:144: FutureWarning: The sklearn.neighbors.base module is  deprecated in version 0.22 and will be removed in version 0.24. The corresponding classes / functions should instead be imported from sklearn.neighbors. Anything that cannot be imported from sklearn.neighbors is now part of the private API.\n",
      "  warnings.warn(message, FutureWarning)\n",
      "/usr/local/lib/python3.7/dist-packages/sklearn/utils/deprecation.py:87: FutureWarning: Function safe_indexing is deprecated; safe_indexing is deprecated in version 0.22 and will be removed in version 0.24.\n",
      "  warnings.warn(msg, category=FutureWarning)\n"
     ]
    },
    {
     "name": "stdout",
     "output_type": "stream",
     "text": [
      "Shape of X:  (5524392, 10)\n",
      "Shape of Y: (5524392,)\n"
     ]
    }
   ],
   "source": [
    "from imblearn.over_sampling import SMOTE\n",
    "method = SMOTE()\n",
    "X_resampled, y_resampled = method.fit_sample(X, Y)\n",
    "\n",
    "print(\"Shape of X: \", X_resampled.shape)\n",
    "print(\"Shape of Y:\", y_resampled.shape)"
   ]
  },
  {
   "cell_type": "markdown",
   "metadata": {
    "id": "wZ7S_nVtppx2"
   },
   "source": [
    "# Splitting the dataset into train and tests\n"
   ]
  },
  {
   "cell_type": "code",
   "execution_count": 39,
   "metadata": {
    "executionInfo": {
     "elapsed": 1105,
     "status": "ok",
     "timestamp": 1630391801571,
     "user": {
      "displayName": "Lavkush Gupta",
      "photoUrl": "https://lh3.googleusercontent.com/a-/AOh14GhXBbqE1GucghkOOxurab_4g5akj7qOnO4F869XNw=s64",
      "userId": "13236722463613958999"
     },
     "user_tz": -330
    },
    "id": "yf9ZbTYbKKKc"
   },
   "outputs": [],
   "source": [
    "\n",
    "from sklearn.model_selection import train_test_split\n",
    "\n",
    "x_train, x_test, y_train, y_test = train_test_split(X_resampled, y_resampled, test_size = 0.2, random_state = 42)\n"
   ]
  },
  {
   "cell_type": "code",
   "execution_count": 40,
   "metadata": {
    "colab": {
     "base_uri": "https://localhost:8080/"
    },
    "executionInfo": {
     "elapsed": 13,
     "status": "ok",
     "timestamp": 1630391801573,
     "user": {
      "displayName": "Lavkush Gupta",
      "photoUrl": "https://lh3.googleusercontent.com/a-/AOh14GhXBbqE1GucghkOOxurab_4g5akj7qOnO4F869XNw=s64",
      "userId": "13236722463613958999"
     },
     "user_tz": -330
    },
    "id": "fc4H_6IcKKM8",
    "outputId": "d15379f4-c659-4556-a6d2-f87b1cad0f1e"
   },
   "outputs": [
    {
     "name": "stdout",
     "output_type": "stream",
     "text": [
      "Shape of x_train:  (4419513, 10)\n",
      "Shape of y_train:  (4419513,)\n",
      "Shape of x_test:  (1104879, 10)\n",
      "Shape of y_test:  (1104879,)\n"
     ]
    }
   ],
   "source": [
    "print(\"Shape of x_train: \", x_train.shape)\n",
    "print(\"Shape of y_train: \", y_train.shape)\n",
    "\n",
    "print(\"Shape of x_test: \", x_test.shape)\n",
    "print(\"Shape of y_test: \", y_test.shape)"
   ]
  },
  {
   "cell_type": "code",
   "execution_count": 41,
   "metadata": {
    "executionInfo": {
     "elapsed": 1744,
     "status": "ok",
     "timestamp": 1630391803311,
     "user": {
      "displayName": "Lavkush Gupta",
      "photoUrl": "https://lh3.googleusercontent.com/a-/AOh14GhXBbqE1GucghkOOxurab_4g5akj7qOnO4F869XNw=s64",
      "userId": "13236722463613958999"
     },
     "user_tz": -330
    },
    "id": "Yd05UTb7KKQF"
   },
   "outputs": [],
   "source": [
    "from sklearn.preprocessing import StandardScaler\n",
    "\n",
    "sc = StandardScaler()\n",
    "x_train = sc.fit_transform(x_train)\n",
    "x_test = sc.transform(x_test)"
   ]
  },
  {
   "cell_type": "markdown",
   "metadata": {
    "id": "hfpl60TBMhlj"
   },
   "source": [
    "#Building XGBoost Model For Prediction"
   ]
  },
  {
   "cell_type": "code",
   "execution_count": 42,
   "metadata": {
    "executionInfo": {
     "elapsed": 9,
     "status": "ok",
     "timestamp": 1630391803312,
     "user": {
      "displayName": "Lavkush Gupta",
      "photoUrl": "https://lh3.googleusercontent.com/a-/AOh14GhXBbqE1GucghkOOxurab_4g5akj7qOnO4F869XNw=s64",
      "userId": "13236722463613958999"
     },
     "user_tz": -330
    },
    "id": "3hpCLOxLMmcs"
   },
   "outputs": [],
   "source": [
    "from xgboost import XGBRegressor\n",
    "model = XGBRegressor(random_state=42, n_jobs=-1, n_estimators=20, max_depth=2)\n"
   ]
  },
  {
   "cell_type": "code",
   "execution_count": 43,
   "metadata": {
    "colab": {
     "base_uri": "https://localhost:8080/"
    },
    "executionInfo": {
     "elapsed": 113628,
     "status": "ok",
     "timestamp": 1630391916932,
     "user": {
      "displayName": "Lavkush Gupta",
      "photoUrl": "https://lh3.googleusercontent.com/a-/AOh14GhXBbqE1GucghkOOxurab_4g5akj7qOnO4F869XNw=s64",
      "userId": "13236722463613958999"
     },
     "user_tz": -330
    },
    "id": "KfmYlAFpM5ZG",
    "outputId": "7a6295cb-2b43-496c-b877-77920a528407"
   },
   "outputs": [
    {
     "name": "stdout",
     "output_type": "stream",
     "text": [
      "[06:36:38] WARNING: /workspace/src/objective/regression_obj.cu:152: reg:linear is now deprecated in favor of reg:squarederror.\n",
      "[06:36:38] WARNING: /workspace/src/learner.cc:686: Tree method is automatically selected to be 'approx' for faster speed. To use old behavior (exact greedy algorithm on single machine), set tree_method to 'exact'.\n",
      "CPU times: user 3min 38s, sys: 685 ms, total: 3min 39s\n",
      "Wall time: 1min 53s\n"
     ]
    },
    {
     "data": {
      "text/plain": [
       "XGBRegressor(base_score=0.5, booster='gbtree', colsample_bylevel=1,\n",
       "             colsample_bynode=1, colsample_bytree=1, gamma=0,\n",
       "             importance_type='gain', learning_rate=0.1, max_delta_step=0,\n",
       "             max_depth=2, min_child_weight=1, missing=None, n_estimators=20,\n",
       "             n_jobs=-1, nthread=None, objective='reg:linear', random_state=42,\n",
       "             reg_alpha=0, reg_lambda=1, scale_pos_weight=1, seed=None,\n",
       "             silent=None, subsample=1, verbosity=1)"
      ]
     },
     "execution_count": 43,
     "metadata": {},
     "output_type": "execute_result"
    }
   ],
   "source": [
    "%%time\n",
    "model.fit(x_train, y_train)"
   ]
  },
  {
   "cell_type": "code",
   "execution_count": 44,
   "metadata": {
    "executionInfo": {
     "elapsed": 1481,
     "status": "ok",
     "timestamp": 1630391918390,
     "user": {
      "displayName": "Lavkush Gupta",
      "photoUrl": "https://lh3.googleusercontent.com/a-/AOh14GhXBbqE1GucghkOOxurab_4g5akj7qOnO4F869XNw=s64",
      "userId": "13236722463613958999"
     },
     "user_tz": -330
    },
    "id": "bjKnSDrZObuf"
   },
   "outputs": [],
   "source": [
    "x_preds = model.predict(x_train)\n"
   ]
  },
  {
   "cell_type": "code",
   "execution_count": 45,
   "metadata": {
    "colab": {
     "base_uri": "https://localhost:8080/"
    },
    "executionInfo": {
     "elapsed": 1327,
     "status": "ok",
     "timestamp": 1630391919714,
     "user": {
      "displayName": "Lavkush Gupta",
      "photoUrl": "https://lh3.googleusercontent.com/a-/AOh14GhXBbqE1GucghkOOxurab_4g5akj7qOnO4F869XNw=s64",
      "userId": "13236722463613958999"
     },
     "user_tz": -330
    },
    "id": "MvG4J-c_OhzI",
    "outputId": "c0b78814-dc73-4cc2-84a9-0760a2b194a1"
   },
   "outputs": [
    {
     "name": "stdout",
     "output_type": "stream",
     "text": [
      "The Area under Precision Recall Curve Score For x_train is 0.9979298671613831\n"
     ]
    }
   ],
   "source": [
    "from sklearn.metrics import average_precision_score\n",
    "auprc = average_precision_score(y_train, x_preds)\n",
    "print(\"The Area under Precision Recall Curve Score For x_train is\", auprc)"
   ]
  },
  {
   "cell_type": "code",
   "execution_count": 46,
   "metadata": {
    "colab": {
     "base_uri": "https://localhost:8080/"
    },
    "executionInfo": {
     "elapsed": 645,
     "status": "ok",
     "timestamp": 1630391920350,
     "user": {
      "displayName": "Lavkush Gupta",
      "photoUrl": "https://lh3.googleusercontent.com/a-/AOh14GhXBbqE1GucghkOOxurab_4g5akj7qOnO4F869XNw=s64",
      "userId": "13236722463613958999"
     },
     "user_tz": -330
    },
    "id": "nkKprcRKOh2p",
    "outputId": "479f6284-e75f-46bc-b08a-b9667f307403"
   },
   "outputs": [
    {
     "name": "stdout",
     "output_type": "stream",
     "text": [
      "The Area under Precision Recall Curve Score For y_train is 0.9979298805438651\n"
     ]
    }
   ],
   "source": [
    "y_preds = model.predict(x_test)\n",
    "auprc = average_precision_score(y_test, y_preds)\n",
    "print(\"The Area under Precision Recall Curve Score For y_train is\", auprc)"
   ]
  },
  {
   "cell_type": "code",
   "execution_count": 47,
   "metadata": {
    "colab": {
     "base_uri": "https://localhost:8080/"
    },
    "executionInfo": {
     "elapsed": 19,
     "status": "ok",
     "timestamp": 1630391920351,
     "user": {
      "displayName": "Lavkush Gupta",
      "photoUrl": "https://lh3.googleusercontent.com/a-/AOh14GhXBbqE1GucghkOOxurab_4g5akj7qOnO4F869XNw=s64",
      "userId": "13236722463613958999"
     },
     "user_tz": -330
    },
    "id": "BFVByTGVTJcU",
    "outputId": "27296e17-2675-4605-db74-cbb1d87045c3"
   },
   "outputs": [
    {
     "data": {
      "text/plain": [
       "Index(['step', 'type', 'amount', 'oldbalanceOrg', 'newbalanceOrig',\n",
       "       'oldbalanceDest', 'newbalanceDest', 'isFlaggedFraud',\n",
       "       'errorBalanceOrig', 'errorBalanceDest'],\n",
       "      dtype='object')"
      ]
     },
     "execution_count": 47,
     "metadata": {},
     "output_type": "execute_result"
    }
   ],
   "source": [
    "X.columns"
   ]
  },
  {
   "cell_type": "markdown",
   "metadata": {
    "id": "blz56uAAp0Jd"
   },
   "source": [
    "#Visualising Tree\n"
   ]
  },
  {
   "cell_type": "code",
   "execution_count": 48,
   "metadata": {
    "executionInfo": {
     "elapsed": 12,
     "status": "ok",
     "timestamp": 1630391920352,
     "user": {
      "displayName": "Lavkush Gupta",
      "photoUrl": "https://lh3.googleusercontent.com/a-/AOh14GhXBbqE1GucghkOOxurab_4g5akj7qOnO4F869XNw=s64",
      "userId": "13236722463613958999"
     },
     "user_tz": -330
    },
    "id": "dxYyQloORoZJ"
   },
   "outputs": [],
   "source": [
    "from xgboost import plot_tree\n",
    "from matplotlib.pylab import rcParams\n",
    "%matplotlib inline\n",
    "rcParams['figure.figsize'] = 30,30"
   ]
  },
  {
   "cell_type": "code",
   "execution_count": 49,
   "metadata": {
    "colab": {
     "base_uri": "https://localhost:8080/",
     "height": 294
    },
    "executionInfo": {
     "elapsed": 2040,
     "status": "ok",
     "timestamp": 1630391922382,
     "user": {
      "displayName": "Lavkush Gupta",
      "photoUrl": "https://lh3.googleusercontent.com/a-/AOh14GhXBbqE1GucghkOOxurab_4g5akj7qOnO4F869XNw=s64",
      "userId": "13236722463613958999"
     },
     "user_tz": -330
    },
    "id": "CQqzNqvCUnMX",
    "outputId": "25653b39-0701-4c64-fded-7f4592619030"
   },
   "outputs": [
    {
     "data": {
      "image/png": "[encoded data removed]",
      "text/plain": [
       "<Figure size 2160x2160 with 1 Axes>"
      ]
     },
     "metadata": {
      "needs_background": "light"
     },
     "output_type": "display_data"
    }
   ],
   "source": [
    "plot_tree(model, rankdir='LR', num_trees=19);\n"
   ]
  },
  {
   "cell_type": "markdown",
   "metadata": {
    "id": "7gposeqlWef0"
   },
   "source": [
    "##Feature importance\n"
   ]
  },
  {
   "cell_type": "code",
   "execution_count": 50,
   "metadata": {
    "executionInfo": {
     "elapsed": 43,
     "status": "ok",
     "timestamp": 1630391922388,
     "user": {
      "displayName": "Lavkush Gupta",
      "photoUrl": "https://lh3.googleusercontent.com/a-/AOh14GhXBbqE1GucghkOOxurab_4g5akj7qOnO4F869XNw=s64",
      "userId": "13236722463613958999"
     },
     "user_tz": -330
    },
    "id": "-Av5IRiPUNpI"
   },
   "outputs": [],
   "source": [
    "importance_df = pd.DataFrame({\n",
    "    'feature': X.columns,\n",
    "    'importance': model.feature_importances_\n",
    "}).sort_values('importance', ascending=False)"
   ]
  },
  {
   "cell_type": "code",
   "execution_count": 51,
   "metadata": {
    "colab": {
     "base_uri": "https://localhost:8080/",
     "height": 359
    },
    "executionInfo": {
     "elapsed": 46,
     "status": "ok",
     "timestamp": 1630391922393,
     "user": {
      "displayName": "Lavkush Gupta",
      "photoUrl": "https://lh3.googleusercontent.com/a-/AOh14GhXBbqE1GucghkOOxurab_4g5akj7qOnO4F869XNw=s64",
      "userId": "13236722463613958999"
     },
     "user_tz": -330
    },
    "id": "b9HQVCQkUYmf",
    "outputId": "423cfa3d-d282-44dc-b891-c417c22d6a7b"
   },
   "outputs": [
    {
     "data": {
      "text/html": [
       "<div>\n",
       "<style scoped>\n",
       "    .dataframe tbody tr th:only-of-type {\n",
       "        vertical-align: middle;\n",
       "    }\n",
       "\n",
       "    .dataframe tbody tr th {\n",
       "        vertical-align: top;\n",
       "    }\n",
       "\n",
       "    .dataframe thead th {\n",
       "        text-align: right;\n",
       "    }\n",
       "</style>\n",
       "<table border=\"1\" class=\"dataframe\">\n",
       "  <thead>\n",
       "    <tr style=\"text-align: right;\">\n",
       "      <th></th>\n",
       "      <th>feature</th>\n",
       "      <th>importance</th>\n",
       "    </tr>\n",
       "  </thead>\n",
       "  <tbody>\n",
       "    <tr>\n",
       "      <th>8</th>\n",
       "      <td>errorBalanceOrig</td>\n",
       "      <td>0.838497</td>\n",
       "    </tr>\n",
       "    <tr>\n",
       "      <th>4</th>\n",
       "      <td>newbalanceOrig</td>\n",
       "      <td>0.112740</td>\n",
       "    </tr>\n",
       "    <tr>\n",
       "      <th>9</th>\n",
       "      <td>errorBalanceDest</td>\n",
       "      <td>0.046456</td>\n",
       "    </tr>\n",
       "    <tr>\n",
       "      <th>7</th>\n",
       "      <td>isFlaggedFraud</td>\n",
       "      <td>0.001295</td>\n",
       "    </tr>\n",
       "    <tr>\n",
       "      <th>3</th>\n",
       "      <td>oldbalanceOrg</td>\n",
       "      <td>0.001012</td>\n",
       "    </tr>\n",
       "    <tr>\n",
       "      <th>0</th>\n",
       "      <td>step</td>\n",
       "      <td>0.000000</td>\n",
       "    </tr>\n",
       "    <tr>\n",
       "      <th>1</th>\n",
       "      <td>type</td>\n",
       "      <td>0.000000</td>\n",
       "    </tr>\n",
       "    <tr>\n",
       "      <th>2</th>\n",
       "      <td>amount</td>\n",
       "      <td>0.000000</td>\n",
       "    </tr>\n",
       "    <tr>\n",
       "      <th>5</th>\n",
       "      <td>oldbalanceDest</td>\n",
       "      <td>0.000000</td>\n",
       "    </tr>\n",
       "    <tr>\n",
       "      <th>6</th>\n",
       "      <td>newbalanceDest</td>\n",
       "      <td>0.000000</td>\n",
       "    </tr>\n",
       "  </tbody>\n",
       "</table>\n",
       "</div>"
      ],
      "text/plain": [
       "            feature  importance\n",
       "8  errorBalanceOrig    0.838497\n",
       "4    newbalanceOrig    0.112740\n",
       "9  errorBalanceDest    0.046456\n",
       "7    isFlaggedFraud    0.001295\n",
       "3     oldbalanceOrg    0.001012\n",
       "0              step    0.000000\n",
       "1              type    0.000000\n",
       "2            amount    0.000000\n",
       "5    oldbalanceDest    0.000000\n",
       "6    newbalanceDest    0.000000"
      ]
     },
     "execution_count": 51,
     "metadata": {},
     "output_type": "execute_result"
    }
   ],
   "source": [
    "importance_df.head(10)\n"
   ]
  },
  {
   "cell_type": "code",
   "execution_count": 52,
   "metadata": {
    "colab": {
     "base_uri": "https://localhost:8080/",
     "height": 404
    },
    "executionInfo": {
     "elapsed": 44,
     "status": "ok",
     "timestamp": 1630391922395,
     "user": {
      "displayName": "Lavkush Gupta",
      "photoUrl": "https://lh3.googleusercontent.com/a-/AOh14GhXBbqE1GucghkOOxurab_4g5akj7qOnO4F869XNw=s64",
      "userId": "13236722463613958999"
     },
     "user_tz": -330
    },
    "id": "NFKazePEVfwl",
    "outputId": "7e9f06f5-8977-42cc-ad14-d9f77c0f12f3"
   },
   "outputs": [
    {
     "data": {
      "image/png": "[encoded data removed]",
      "text/plain": [
       "<Figure size 720x432 with 1 Axes>"
      ]
     },
     "metadata": {
      "needs_background": "light"
     },
     "output_type": "display_data"
    }
   ],
   "source": [
    "plt.figure(figsize=(10,6))\n",
    "plt.title('Feature Importance')\n",
    "sns.barplot(data=importance_df.head(10), x='importance', y='feature');"
   ]
  },
  {
   "cell_type": "markdown",
   "metadata": {
    "id": "q6IBe4vwU7HX"
   },
   "source": [
    "##From Observing 19th Tree and Feature importance Table, we can conclude the most imortant features is Error Balance origin."
   ]
  },
  {
   "cell_type": "code",
   "execution_count": 53,
   "metadata": {
    "colab": {
     "base_uri": "https://localhost:8080/"
    },
    "executionInfo": {
     "elapsed": 706,
     "status": "ok",
     "timestamp": 1630391923060,
     "user": {
      "displayName": "Lavkush Gupta",
      "photoUrl": "https://lh3.googleusercontent.com/a-/AOh14GhXBbqE1GucghkOOxurab_4g5akj7qOnO4F869XNw=s64",
      "userId": "13236722463613958999"
     },
     "user_tz": -330
    },
    "id": "0UpyyNxfeURP",
    "outputId": "cc136ebb-8c03-4b4c-a220-5d53c578de3c"
   },
   "outputs": [
    {
     "name": "stdout",
     "output_type": "stream",
     "text": [
      "0.9890521948557263\n"
     ]
    }
   ],
   "source": [
    "#Comparing actual outcomes v/s predicted outcomes\n",
    "from sklearn.metrics import accuracy_score\n",
    "y_pred = (y_preds > 0.5)\n",
    "\n",
    "myaccuracy=accuracy_score(y_test,y_pred)\n",
    "print( myaccuracy)"
   ]
  },
  {
   "cell_type": "markdown",
   "metadata": {
    "id": "ISPxLBks5_en"
   },
   "source": [
    "## Let's also implement a Logistic Regression model and Decide, what is best ?"
   ]
  },
  {
   "cell_type": "code",
   "execution_count": 55,
   "metadata": {
    "colab": {
     "base_uri": "https://localhost:8080/"
    },
    "executionInfo": {
     "elapsed": 72403,
     "status": "ok",
     "timestamp": 1630392006615,
     "user": {
      "displayName": "Lavkush Gupta",
      "photoUrl": "https://lh3.googleusercontent.com/a-/AOh14GhXBbqE1GucghkOOxurab_4g5akj7qOnO4F869XNw=s64",
      "userId": "13236722463613958999"
     },
     "user_tz": -330
    },
    "id": "Sjwu67ma6Kfa",
    "outputId": "03b3a211-7816-46f0-bbaf-c10f6ec2ac61"
   },
   "outputs": [
    {
     "data": {
      "text/plain": [
       "LogisticRegression(C=1.0, class_weight=None, dual=False, fit_intercept=True,\n",
       "                   intercept_scaling=1, l1_ratio=None, max_iter=100,\n",
       "                   multi_class='auto', n_jobs=None, penalty='l2',\n",
       "                   random_state=None, solver='liblinear', tol=0.0001, verbose=0,\n",
       "                   warm_start=False)"
      ]
     },
     "execution_count": 55,
     "metadata": {},
     "output_type": "execute_result"
    }
   ],
   "source": [
    "# Fit a logistic regression model to our data\n",
    "from sklearn.linear_model import LogisticRegression\n",
    "\n",
    "model = LogisticRegression(solver='liblinear')\n",
    "model.fit(x_train, y_train)"
   ]
  },
  {
   "cell_type": "code",
   "execution_count": 56,
   "metadata": {
    "executionInfo": {
     "elapsed": 372,
     "status": "ok",
     "timestamp": 1630392101733,
     "user": {
      "displayName": "Lavkush Gupta",
      "photoUrl": "https://lh3.googleusercontent.com/a-/AOh14GhXBbqE1GucghkOOxurab_4g5akj7qOnO4F869XNw=s64",
      "userId": "13236722463613958999"
     },
     "user_tz": -330
    },
    "id": "dqJnqIJs6KsL"
   },
   "outputs": [],
   "source": [
    "# Obtain model predictions\n",
    "predicted = model.predict(x_test)"
   ]
  },
  {
   "cell_type": "code",
   "execution_count": 58,
   "metadata": {
    "colab": {
     "base_uri": "https://localhost:8080/"
    },
    "executionInfo": {
     "elapsed": 4179,
     "status": "ok",
     "timestamp": 1630392201571,
     "user": {
      "displayName": "Lavkush Gupta",
      "photoUrl": "https://lh3.googleusercontent.com/a-/AOh14GhXBbqE1GucghkOOxurab_4g5akj7qOnO4F869XNw=s64",
      "userId": "13236722463613958999"
     },
     "user_tz": -330
    },
    "id": "WzIZY_Uy6K3G",
    "outputId": "2777e309-eea8-4bd9-b1fc-147f3f300043"
   },
   "outputs": [
    {
     "name": "stdout",
     "output_type": "stream",
     "text": [
      "Classification report:\n",
      "               precision    recall  f1-score   support\n",
      "\n",
      "           0       0.96      0.94      0.95    551906\n",
      "           1       0.95      0.96      0.95    552973\n",
      "\n",
      "    accuracy                           0.95   1104879\n",
      "   macro avg       0.95      0.95      0.95   1104879\n",
      "weighted avg       0.95      0.95      0.95   1104879\n",
      "\n",
      "Confusion matrix:\n",
      " [[521541  30365]\n",
      " [ 24311 528662]]\n"
     ]
    }
   ],
   "source": [
    "# Print the classifcation report and confusion matrix\n",
    "from sklearn.metrics import r2_score, classification_report, confusion_matrix, accuracy_score, roc_auc_score, roc_curve, precision_recall_curve, average_precision_score\n",
    "\n",
    "print('Classification report:\\n', classification_report(y_test, predicted))\n",
    "conf_mat = confusion_matrix(y_true=y_test, y_pred=predicted)\n",
    "print('Confusion matrix:\\n', conf_mat)"
   ]
  },
  {
   "cell_type": "code",
   "execution_count": 60,
   "metadata": {
    "colab": {
     "base_uri": "https://localhost:8080/"
    },
    "executionInfo": {
     "elapsed": 408,
     "status": "ok",
     "timestamp": 1630392308385,
     "user": {
      "displayName": "Lavkush Gupta",
      "photoUrl": "https://lh3.googleusercontent.com/a-/AOh14GhXBbqE1GucghkOOxurab_4g5akj7qOnO4F869XNw=s64",
      "userId": "13236722463613958999"
     },
     "user_tz": -330
    },
    "id": "GQjjqwt880tg",
    "outputId": "509485c9-d17b-4152-adc7-eedc2556c666"
   },
   "outputs": [
    {
     "name": "stdout",
     "output_type": "stream",
     "text": [
      "0.9505140381887971\n"
     ]
    }
   ],
   "source": [
    "accuracy1=accuracy_score(y_test,predicted)\n",
    "print(accuracy1)"
   ]
  },
  {
   "cell_type": "markdown",
   "metadata": {
    "id": "uNnOaQrW9G-i"
   },
   "source": [
    "## Comparing the Accuracy Score Ofabove two Models, We can conclude Accuray of XGBoost Model is Highest"
   ]
  },
  {
   "cell_type": "code",
   "execution_count": null,
   "metadata": {
    "id": "rDmy8Ibb8-hE"
   },
   "outputs": [],
   "source": []
  },
  {
   "cell_type": "code",
   "execution_count": 61,
   "metadata": {
    "colab": {
     "base_uri": "https://localhost:8080/"
    },
    "executionInfo": {
     "elapsed": 15559,
     "status": "ok",
     "timestamp": 1630392644897,
     "user": {
      "displayName": "Lavkush Gupta",
      "photoUrl": "https://lh3.googleusercontent.com/a-/AOh14GhXBbqE1GucghkOOxurab_4g5akj7qOnO4F869XNw=s64",
      "userId": "13236722463613958999"
     },
     "user_tz": -330
    },
    "id": "fraCItEBOhAg",
    "outputId": "7a12a165-a9bc-44eb-e123-db1a8ba8a150"
   },
   "outputs": [
    {
     "name": "stdout",
     "output_type": "stream",
     "text": [
      "[jovian] Detected Colab notebook...\u001b[0m\n",
      "[jovian] Please enter your API key ( from https://jovian.ai/ ):\u001b[0m\n",
      "API KEY: ··········\n",
      "[jovian] Uploading colab notebook to Jovian...\u001b[0m\n",
      "Committed successfully! https://jovian.ai/lavkushgupt/online-fraud-prediction-using-xgboost\n",
      "[jovian] Submitting assignment..\u001b[0m\n",
      "[jovian] Verify your submission at https://jovian.ai/learn/machine-learning-with-python-zero-to-gbms/assignment/course-project-real-world-machine-learning-model\u001b[0m\n"
     ]
    }
   ],
   "source": [
    "jovian.commit\n",
    "jovian.submit(assignment=\"zerotogbms-project\")"
   ]
  },
  {
   "cell_type": "markdown",
   "metadata": {
    "id": "vKomfIVE59vf"
   },
   "source": []
  }
 ],
 "metadata": {
  "colab": {
   "collapsed_sections": [],
   "name": "Online_Fraud_Prediction_Using_XGBoost_.ipynb",
   "provenance": []
  },
  "kernelspec": {
   "display_name": "Python 3",
   "language": "python",
   "name": "python3"
  },
  "language_info": {
   "codemirror_mode": {
    "name": "ipython",
    "version": 3
   },
   "file_extension": ".py",
   "mimetype": "text/x-python",
   "name": "python",
   "nbconvert_exporter": "python",
   "pygments_lexer": "ipython3",
   "version": "3.11.2"
  }
 },
 "nbformat": 4,
 "nbformat_minor": 0
}
